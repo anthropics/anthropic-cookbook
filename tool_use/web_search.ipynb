{
 "cells": [
  {
   "cell_type": "markdown",
   "metadata": {},
   "source": [
    "# Using the Web Search Tool with Claude\n",
    "In this recipe, we'll demonstrate how to instruct Claude to use the web search tool to answer a question. You can [find more information in the docs.](https://docs.anthropic.com/en/docs/agents-and-tools/tool-use/web-search-tool)"
   ]
  },
  {
   "cell_type": "markdown",
   "metadata": {},
   "source": [
    "## Step 1: Set up the environment\n",
    "\n",
    "First, let's install the required libraries and set up the Anthropic API client."
   ]
  },
  {
   "cell_type": "code",
   "execution_count": 1,
   "metadata": {},
   "outputs": [
    {
     "name": "stdout",
     "output_type": "stream",
     "text": [
      "Requirement already satisfied: anthropic in /Users/rachelnabors/Projects/Anthropic Demos/venv/lib/python3.12/site-packages (0.58.2)\n",
      "Requirement already satisfied: dotenv in /Users/rachelnabors/Projects/Anthropic Demos/venv/lib/python3.12/site-packages (0.9.9)\n",
      "Requirement already satisfied: anyio<5,>=3.5.0 in /Users/rachelnabors/Projects/Anthropic Demos/venv/lib/python3.12/site-packages (from anthropic) (4.9.0)\n",
      "Requirement already satisfied: distro<2,>=1.7.0 in /Users/rachelnabors/Projects/Anthropic Demos/venv/lib/python3.12/site-packages (from anthropic) (1.9.0)\n",
      "Requirement already satisfied: httpx<1,>=0.25.0 in /Users/rachelnabors/Projects/Anthropic Demos/venv/lib/python3.12/site-packages (from anthropic) (0.28.1)\n",
      "Requirement already satisfied: jiter<1,>=0.4.0 in /Users/rachelnabors/Projects/Anthropic Demos/venv/lib/python3.12/site-packages (from anthropic) (0.10.0)\n",
      "Requirement already satisfied: pydantic<3,>=1.9.0 in /Users/rachelnabors/Projects/Anthropic Demos/venv/lib/python3.12/site-packages (from anthropic) (2.11.7)\n",
      "Requirement already satisfied: sniffio in /Users/rachelnabors/Projects/Anthropic Demos/venv/lib/python3.12/site-packages (from anthropic) (1.3.1)\n",
      "Requirement already satisfied: typing-extensions<5,>=4.10 in /Users/rachelnabors/Projects/Anthropic Demos/venv/lib/python3.12/site-packages (from anthropic) (4.14.1)\n",
      "Requirement already satisfied: python-dotenv in /Users/rachelnabors/Projects/Anthropic Demos/venv/lib/python3.12/site-packages (from dotenv) (1.1.1)\n",
      "Requirement already satisfied: idna>=2.8 in /Users/rachelnabors/Projects/Anthropic Demos/venv/lib/python3.12/site-packages (from anyio<5,>=3.5.0->anthropic) (3.10)\n",
      "Requirement already satisfied: certifi in /Users/rachelnabors/Projects/Anthropic Demos/venv/lib/python3.12/site-packages (from httpx<1,>=0.25.0->anthropic) (2025.7.14)\n",
      "Requirement already satisfied: httpcore==1.* in /Users/rachelnabors/Projects/Anthropic Demos/venv/lib/python3.12/site-packages (from httpx<1,>=0.25.0->anthropic) (1.0.9)\n",
      "Requirement already satisfied: h11>=0.16 in /Users/rachelnabors/Projects/Anthropic Demos/venv/lib/python3.12/site-packages (from httpcore==1.*->httpx<1,>=0.25.0->anthropic) (0.16.0)\n",
      "Requirement already satisfied: annotated-types>=0.6.0 in /Users/rachelnabors/Projects/Anthropic Demos/venv/lib/python3.12/site-packages (from pydantic<3,>=1.9.0->anthropic) (0.7.0)\n",
      "Requirement already satisfied: pydantic-core==2.33.2 in /Users/rachelnabors/Projects/Anthropic Demos/venv/lib/python3.12/site-packages (from pydantic<3,>=1.9.0->anthropic) (2.33.2)\n",
      "Requirement already satisfied: typing-inspection>=0.4.0 in /Users/rachelnabors/Projects/Anthropic Demos/venv/lib/python3.12/site-packages (from pydantic<3,>=1.9.0->anthropic) (0.4.1)\n",
      "\n",
      "\u001b[1m[\u001b[0m\u001b[34;49mnotice\u001b[0m\u001b[1;39;49m]\u001b[0m\u001b[39;49m A new release of pip is available: \u001b[0m\u001b[31;49m25.0\u001b[0m\u001b[39;49m -> \u001b[0m\u001b[32;49m25.1.1\u001b[0m\n",
      "\u001b[1m[\u001b[0m\u001b[34;49mnotice\u001b[0m\u001b[1;39;49m]\u001b[0m\u001b[39;49m To update, run: \u001b[0m\u001b[32;49mpip install --upgrade pip\u001b[0m\n",
      "Note: you may need to restart the kernel to use updated packages.\n"
     ]
    }
   ],
   "source": [
    "%pip install anthropic dotenv"
   ]
  },
  {
   "cell_type": "code",
   "execution_count": 2,
   "metadata": {},
   "outputs": [],
   "source": [
    "from anthropic import Anthropic"
   ]
  },
  {
   "cell_type": "markdown",
   "metadata": {},
   "source": [
    "I've added a loader for `.env` file, the safest way to manage API keys. Encourage you not to hardcode!"
   ]
  },
  {
   "cell_type": "code",
   "execution_count": 3,
   "metadata": {},
   "outputs": [],
   "source": [
    "from dotenv import load_dotenv\n",
    "load_dotenv()\n",
    "# Make an .env file in the same directory as this file and add your API key as ANTHROPIC_API_KEY\n",
    "client = Anthropic()\n",
    "\n",
    "MODEL_NAME = \"claude-opus-4-20250514\""
   ]
  },
  {
   "cell_type": "markdown",
   "metadata": {},
   "source": [
    "## Step 2: Configure the web search tool\n",
    "Each tool comes with its own set of parameters to configure. Here we've laid out all the optional ones for demonstration purposes."
   ]
  },
  {
   "cell_type": "code",
   "execution_count": 4,
   "metadata": {},
   "outputs": [],
   "source": [
    "tools = [{\n",
    "    \"type\": \"web_search_20250305\",\n",
    "    \"name\": \"web_search\",\n",
    "    \"max_uses\": 3, # Optional: Limit the number of searches per request\n",
    "    # \"allowed_domains\": [\"nearestnabors.com\", \"anthropic.com\"], # Optional: Only include results from these domains\n",
    "    \"blocked_domains\": [\"w3schools.com\"], # Optional: Never include results from these domains\n",
    "    \"user_location\": { #Optional: Localize search results\n",
    "        \"type\": \"approximate\",\n",
    "        \"city\": \"London\",\n",
    "        \"region\": \"England\",\n",
    "        \"country\": \"GB\",\n",
    "        \"timezone\": \"BST\"\n",
    "    }\n",
    "}]"
   ]
  },
  {
   "cell_type": "markdown",
   "metadata": {},
   "source": [
    "## Step 3: Interact with Claude\n",
    "Now, let's see how Claude can interact with web search."
   ]
  },
  {
   "cell_type": "code",
   "execution_count": 5,
   "metadata": {},
   "outputs": [],
   "source": [
    "def chat_with_claude(user_message):\n",
    "\n",
    "    print(f\"\\n{'='*50}\\nUser Message: {user_message}\\n{'='*50}\")\n",
    "\n",
    "    message = client.messages.create(\n",
    "        model=MODEL_NAME,\n",
    "        max_tokens=1024,\n",
    "        messages=[{\"role\": \"user\", \"content\": user_message}],\n",
    "        tools=tools,\n",
    "        tool_choice={\"type\": \"tool\", \"name\": \"web_search\"},\n",
    "    )\n",
    "\n",
    "    response = message\n",
    "\n",
    "    last_content_block = response.content[-1]\n",
    "    print(f\"\\nResponse: {last_content_block.text}\")"
   ]
  },
  {
   "cell_type": "markdown",
   "metadata": {},
   "source": [
    "## Step 4: Try it out!\n",
    "\n",
    "Let's try giving Claude a few examples to see what it can find!"
   ]
  },
  {
   "cell_type": "code",
   "execution_count": null,
   "metadata": {},
   "outputs": [
    {
     "name": "stdout",
     "output_type": "stream",
     "text": [
      "\n",
      "==================================================\n",
      "User Message: What are the current top 3 LLMs?\n",
      "==================================================\n",
      "\n",
      "Response: \n",
      "\n",
      "These rankings are based on a combination of benchmark performance, real-world capabilities, and industry adoption. The landscape is rapidly evolving, with new models and updates being released frequently throughout 2025.\n",
      "\n",
      "==================================================\n",
      "User Message: When is AMOC predicted to fail?\n",
      "==================================================\n",
      "\n",
      "Response: \n",
      "\n",
      "The consensus appears to be that while AMOC weakening is occurring and will likely continue, a complete collapse before 2100 is considered less likely than gradual weakening, though the risk is significant enough to warrant serious concern and action.\n",
      "\n",
      "==================================================\n",
      "User Message: In the 2000s, there was a web comic called Subculture of One. What was the name of the artist?\n",
      "==================================================\n",
      "\n",
      "Response: I apologize, but I wasn't able to find specific information about the webcomic \"Subculture of One\" or its artist in my search results. The searches returned general information about webcomics from the 2000s era, but didn't include any details about this particular webcomic.\n",
      "\n",
      "Without being able to locate reliable sources about \"Subculture of One,\" I cannot provide you with the name of the artist who created it. It's possible this was a smaller or more niche webcomic that hasn't been as well documented in the available online sources.\n"
     ]
    }
   ],
   "source": [
    "chat_with_claude(\"What are the current top 3 LLMs?\")\n",
    "chat_with_claude(\"When is AMOC predicted to fail?\")\n",
    "chat_with_claude(\"In the 2000s, there was a web comic for teenage girls called Subculture of One starring Rachel the Great and her cat, Tuna. What was the name of the creator?\")"
   ]
  }
 ],
 "metadata": {
  "kernelspec": {
   "display_name": "venv",
   "language": "python",
   "name": "python3"
  },
  "language_info": {
   "codemirror_mode": {
    "name": "ipython",
    "version": 3
   },
   "file_extension": ".py",
   "mimetype": "text/x-python",
   "name": "python",
   "nbconvert_exporter": "python",
   "pygments_lexer": "ipython3",
   "version": "3.12.9"
  }
 },
 "nbformat": 4,
 "nbformat_minor": 2
}
