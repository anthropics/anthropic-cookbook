{
  "nbformat": 4,
  "nbformat_minor": 0,
  "metadata": {
    "colab": {
      "provenance": []
    },
    "kernelspec": {
      "name": "python3",
      "display_name": "Python 3"
    },
    "language_info": {
      "name": "python"
    }
  },
  "cells": [
    {
      "cell_type": "markdown",
      "source": [
        "# **Gradio Interface for Claude Citations**\n",
        "This notebook demonstrates how to create a Gradio interface for using Claude's citation feature. The interface allows users to:\n",
        "\n",
        "- Chat with Claude while referencing documents\n",
        "- Citations within a collapsible bubble\n",
        "- Choose between plain text and PDF documents\n",
        "- Get citations for Claude's responses\n",
        "\n",
        "## **Setup and Dependencies**\n",
        "First, let's install and import all required libraries:"
      ],
      "metadata": {
        "id": "9t9rqQlMGGQB"
      }
    },
    {
      "cell_type": "code",
      "execution_count": 1,
      "metadata": {
        "colab": {
          "base_uri": "https://localhost:8080/"
        },
        "id": "o1mSXtn0Bfck",
        "outputId": "e8415337-9ffb-4787-f927-17f8d7112ab5"
      },
      "outputs": [
        {
          "output_type": "stream",
          "name": "stdout",
          "text": [
            "\u001b[2K   \u001b[90m━━━━━━━━━━━━━━━━━━━━━━━━━━━━━━━━━━━━━━━━\u001b[0m \u001b[32m57.6/57.6 MB\u001b[0m \u001b[31m8.1 MB/s\u001b[0m eta \u001b[36m0:00:00\u001b[0m\n",
            "\u001b[2K   \u001b[90m━━━━━━━━━━━━━━━━━━━━━━━━━━━━━━━━━━━━━━━━\u001b[0m \u001b[32m321.8/321.8 kB\u001b[0m \u001b[31m10.1 MB/s\u001b[0m eta \u001b[36m0:00:00\u001b[0m\n",
            "\u001b[2K   \u001b[90m━━━━━━━━━━━━━━━━━━━━━━━━━━━━━━━━━━━━━━━━\u001b[0m \u001b[32m222.6/222.6 kB\u001b[0m \u001b[31m10.7 MB/s\u001b[0m eta \u001b[36m0:00:00\u001b[0m\n",
            "\u001b[2K   \u001b[90m━━━━━━━━━━━━━━━━━━━━━━━━━━━━━━━━━━━━━━━━\u001b[0m \u001b[32m94.8/94.8 kB\u001b[0m \u001b[31m1.6 MB/s\u001b[0m eta \u001b[36m0:00:00\u001b[0m\n",
            "\u001b[2K   \u001b[90m━━━━━━━━━━━━━━━━━━━━━━━━━━━━━━━━━━━━━━━━\u001b[0m \u001b[32m12.4/12.4 MB\u001b[0m \u001b[31m24.4 MB/s\u001b[0m eta \u001b[36m0:00:00\u001b[0m\n",
            "\u001b[2K   \u001b[90m━━━━━━━━━━━━━━━━━━━━━━━━━━━━━━━━━━━━━━━━\u001b[0m \u001b[32m71.5/71.5 kB\u001b[0m \u001b[31m2.2 MB/s\u001b[0m eta \u001b[36m0:00:00\u001b[0m\n",
            "\u001b[2K   \u001b[90m━━━━━━━━━━━━━━━━━━━━━━━━━━━━━━━━━━━━━━━━\u001b[0m \u001b[32m62.3/62.3 kB\u001b[0m \u001b[31m2.9 MB/s\u001b[0m eta \u001b[36m0:00:00\u001b[0m\n",
            "\u001b[?25h"
          ]
        }
      ],
      "source": [
        "!pip install gradio anthropic -q"
      ]
    },
    {
      "cell_type": "code",
      "source": [
        "import gradio as gr\n",
        "import anthropic\n",
        "import base64\n",
        "from typing import List, Dict, Any"
      ],
      "metadata": {
        "id": "TxYpY4e1ByOp"
      },
      "execution_count": 2,
      "outputs": []
    },
    {
      "cell_type": "markdown",
      "source": [
        "- `gradio`: For creating the web interface\n",
        "- `anthropic`: To interact with Claude API\n",
        "- `base64`: For encoding PDF files\n",
        "- `typing`: For type hints\n"
      ],
      "metadata": {
        "id": "-k-in4iJHFE9"
      }
    },
    {
      "cell_type": "markdown",
      "source": [
        "## **Default Document Configuration**\n",
        "\n",
        "We set up a default document that will be used if no user content is provided:"
      ],
      "metadata": {
        "id": "-oVmwgMDHLxv"
      }
    },
    {
      "cell_type": "code",
      "source": [
        "DEFAULT_DOC = \"The grass is pink and soil is green. The sky is red while the sun looks blue.\""
      ],
      "metadata": {
        "id": "01e64seACQrH"
      },
      "execution_count": 6,
      "outputs": []
    },
    {
      "cell_type": "markdown",
      "source": [
        "## **Utility Functions**\n",
        "\n",
        "### **PDF File Handling**"
      ],
      "metadata": {
        "id": "cGJtZ62NHUQy"
      }
    },
    {
      "cell_type": "code",
      "source": [
        "def read_pdf_as_base64(file_path: str) -> str:\n",
        "    \"\"\"Read a PDF file and return its base64 encoded content.\"\"\"\n",
        "    with open(file_path, 'rb') as file:\n",
        "        return base64.b64encode(file.read()).decode('utf-8')"
      ],
      "metadata": {
        "id": "X1bNxARgB0X_"
      },
      "execution_count": 3,
      "outputs": []
    },
    {
      "cell_type": "markdown",
      "source": [
        "This function:\n",
        "- Takes a PDF file path as input\n",
        "- Opens the file in binary mode\n",
        "- Encodes it to base64\n",
        "- Returns the encoded string"
      ],
      "metadata": {
        "id": "ylJ67cStHbIg"
      }
    },
    {
      "cell_type": "markdown",
      "source": [
        "### **Message History Management**"
      ],
      "metadata": {
        "id": "_jLzatbFHiax"
      }
    },
    {
      "cell_type": "code",
      "source": [
        "def user_message(\n",
        "    user_input: str,\n",
        "    history: list,\n",
        "    enable_citations: bool,\n",
        "    doc_type: str,\n",
        "    text_content: str,\n",
        "    pdf_file: str,\n",
        "    api_key: str\n",
        ") -> tuple:\n",
        "\n",
        "    history.append({\n",
        "        \"role\": \"user\",\n",
        "        \"content\": user_input,\n",
        "    })\n",
        "    return \"\", history"
      ],
      "metadata": {
        "id": "5rd5MKqGB20a"
      },
      "execution_count": 7,
      "outputs": []
    },
    {
      "cell_type": "markdown",
      "source": [
        "This function handles user messages:\n",
        "- Logs message details for debugging\n",
        "- Appends user message to chat history\n",
        "- Returns empty string (to clear input) and updated history"
      ],
      "metadata": {
        "id": "MJz8RhGxHgZV"
      }
    },
    {
      "cell_type": "markdown",
      "source": [
        "### **Message Formatting**"
      ],
      "metadata": {
        "id": "J-aMyBB_Hpes"
      }
    },
    {
      "cell_type": "code",
      "source": [
        "def format_message_history(\n",
        "    history: list,\n",
        "    enable_citations: bool,\n",
        "    doc_type: str,\n",
        "    text_content: str,\n",
        "    pdf_file: str\n",
        ") -> List[Dict]:\n",
        "    \"\"\"Convert Gradio chat history to Anthropic message format.\"\"\"\n",
        "    formatted_messages = []\n",
        "\n",
        "    # Add previous messages\n",
        "    for msg in history[:-1]:\n",
        "        if msg[\"role\"] == \"user\":\n",
        "            formatted_messages.append({\n",
        "                \"role\": \"user\",\n",
        "                \"content\": msg[\"content\"]\n",
        "            })\n",
        "        elif msg[\"role\"] == \"assistant\":\n",
        "            if \"metadata\" not in msg or msg[\"metadata\"] is None:\n",
        "                formatted_messages.append({\n",
        "                    \"role\": \"assistant\",\n",
        "                    \"content\": msg[\"content\"]\n",
        "                })\n",
        "\n",
        "    # Prepare the latest message\n",
        "    latest_message = {\n",
        "        \"role\": \"user\",\n",
        "        \"content\": []\n",
        "    }\n",
        "\n",
        "    # Add document if citations are enabled\n",
        "    if enable_citations:\n",
        "        if doc_type == \"plain_text\":\n",
        "            latest_message[\"content\"].append({\n",
        "                \"type\": \"document\",\n",
        "                \"source\": {\n",
        "                    \"type\": \"text\",\n",
        "                    \"media_type\": \"text/plain\",\n",
        "                    \"data\": text_content.strip() if text_content.strip() else DEFAULT_DOC\n",
        "                },\n",
        "                \"title\": \"User Document\" if text_content.strip() else \"Sample Document\",\n",
        "                \"citations\": {\"enabled\": True}\n",
        "            })\n",
        "        elif doc_type == \"pdf\" and pdf_file:\n",
        "            pdf_base64 = read_pdf_as_base64(pdf_file)\n",
        "            latest_message[\"content\"].append({\n",
        "                \"type\": \"document\",\n",
        "                \"source\": {\n",
        "                    \"type\": \"base64\",\n",
        "                    \"media_type\": \"application/pdf\",\n",
        "                    \"data\": pdf_base64\n",
        "                },\n",
        "                \"title\": \"User PDF Document\",\n",
        "                \"citations\": {\"enabled\": True}\n",
        "            })\n",
        "\n",
        "    # Add the user's question\n",
        "    latest_message[\"content\"].append({\n",
        "        \"type\": \"text\",\n",
        "        \"text\": history[-1][\"content\"]\n",
        "    })\n",
        "\n",
        "    formatted_messages.append(latest_message)\n",
        "    return formatted_messages"
      ],
      "metadata": {
        "id": "Byp5OMJkB2zI"
      },
      "execution_count": 8,
      "outputs": []
    },
    {
      "cell_type": "markdown",
      "source": [
        "This function:\n",
        "1. Converts Gradio chat history to Anthropic's message format\n",
        "2. Processes previous messages in history\n",
        "3. Handles document preparation based on type:\n",
        "   - For plain text: Creates text document source\n",
        "   - For PDF: Creates base64-encoded document source\n",
        "4. Adds user's question to the message\n",
        "5. Returns formatted messages list"
      ],
      "metadata": {
        "id": "AxKoyxT7Hv8m"
      }
    },
    {
      "cell_type": "markdown",
      "source": [
        "### **Bot Response Handler**"
      ],
      "metadata": {
        "id": "mR63g_p6HybT"
      }
    },
    {
      "cell_type": "code",
      "source": [
        "def bot_response(\n",
        "    history: list,\n",
        "    enable_citations: bool,\n",
        "    doc_type: str,\n",
        "    text_content: str,\n",
        "    pdf_file: str,\n",
        "    api_key: str\n",
        ") -> List[Dict[str, Any]]:\n",
        "    try:\n",
        "        if not api_key:\n",
        "            history.append({\n",
        "                \"role\": \"assistant\",\n",
        "                \"content\": \"Please provide your Anthropic API key to continue.\"\n",
        "            })\n",
        "            return history\n",
        "\n",
        "        # Initialize client with provided API key\n",
        "        client = anthropic.Anthropic(api_key=api_key)\n",
        "\n",
        "        messages = format_message_history(history, enable_citations, doc_type, text_content, pdf_file)\n",
        "\n",
        "        response = client.messages.create(\n",
        "            model=\"claude-3-5-sonnet-20241022\",\n",
        "            max_tokens=1024,\n",
        "            messages=messages\n",
        "        )\n",
        "\n",
        "        # Initialize main response and citations\n",
        "        main_response = \"\"\n",
        "        citations = []\n",
        "\n",
        "        # Process each content block\n",
        "        for block in response.content:\n",
        "            if block.type == \"text\":\n",
        "                main_response += block.text\n",
        "                if enable_citations and hasattr(block, 'citations') and block.citations:\n",
        "                    for citation in block.citations:\n",
        "                        if citation.cited_text not in citations:\n",
        "                            citations.append(citation.cited_text)\n",
        "\n",
        "        # Add main response\n",
        "        history.append({\n",
        "            \"role\": \"assistant\",\n",
        "            \"content\": main_response\n",
        "        })\n",
        "\n",
        "        # Add citations if any were found and citations are enabled\n",
        "        if enable_citations and citations:\n",
        "            history.append({\n",
        "                \"role\": \"assistant\",\n",
        "                \"content\": \"\\n\".join([f\"• {cite}\" for cite in citations]),\n",
        "                \"metadata\": {\"title\": \"📚 Citations\"}\n",
        "            })\n",
        "\n",
        "        return history\n",
        "\n",
        "    except Exception as e:\n",
        "        error_message = str(e)\n",
        "        if \"401\" in error_message:\n",
        "            error_message = \"Invalid API key. Please check your Anthropic API key and try again.\"\n",
        "        history.append({\n",
        "            \"role\": \"assistant\",\n",
        "            \"content\": f\"I apologize, but I encountered an error: {error_message}\"\n",
        "        })\n",
        "        return history"
      ],
      "metadata": {
        "id": "7LrQkcr5B2uN"
      },
      "execution_count": 9,
      "outputs": []
    },
    {
      "cell_type": "markdown",
      "source": [
        "This function:\n",
        "1. Validates API key presence\n",
        "2. Initializes Anthropic client\n",
        "3. Formats message history\n",
        "4. Makes API call to Claude\n",
        "5. Processes response:\n",
        "   - Extracts main response text\n",
        "   - Collects citations if enabled\n",
        "6. Updates chat history with:\n",
        "   - Main response\n",
        "   - Formatted citations (if any)\n",
        "7. Handles errors:\n",
        "   - API key validation\n",
        "   - General error handling\n",
        "   - Returns appropriate error messages\n"
      ],
      "metadata": {
        "id": "Th8xPPjRH22p"
      }
    },
    {
      "cell_type": "markdown",
      "source": [
        "### **UI Component Management**"
      ],
      "metadata": {
        "id": "sH6s-35hH5Pb"
      }
    },
    {
      "cell_type": "code",
      "source": [
        "def update_document_inputs(enable_citations: bool, doc_type: str = \"plain_text\"):\n",
        "    \"\"\"Update visibility of document input components based on settings.\"\"\"\n",
        "    text_visible = enable_citations and doc_type == \"plain_text\"\n",
        "    pdf_visible = enable_citations and doc_type == \"pdf\"\n",
        "    radio_visible = enable_citations\n",
        "\n",
        "    return {\n",
        "        doc_type_radio: gr.Radio(visible=radio_visible),\n",
        "        text_input: gr.Textbox(visible=text_visible),\n",
        "        pdf_input: gr.File(visible=pdf_visible)\n",
        "    }"
      ],
      "metadata": {
        "id": "pq0RK__YB2pl"
      },
      "execution_count": 10,
      "outputs": []
    },
    {
      "cell_type": "markdown",
      "source": [
        "This function:\n",
        "- Controls visibility of UI components based on:\n",
        "  - Citation toggle state\n",
        "  - Selected document type\n",
        "- Returns updated component visibility states"
      ],
      "metadata": {
        "id": "-ISIWfpPH8x-"
      }
    },
    {
      "cell_type": "markdown",
      "source": [
        "## **Gradio Interface Setup**\n",
        "\n",
        "The interface is built using Gradio's `Blocks` API:"
      ],
      "metadata": {
        "id": "A05DH2kAIAWf"
      }
    },
    {
      "cell_type": "markdown",
      "source": [
        "### **Component Configuration**\n",
        "\n",
        "1. Chat Interface:\n",
        "- Chatbot: Message display area\n",
        "- Message Input: Text input for user messages\n",
        "\n",
        "2. Settings Panel:\n",
        "- API Key Input: Secure input for Anthropic API key\n",
        "- Citations Toggle: Enable/disable citations\n",
        "- Document Type Selection: Plain text or PDF\n",
        "- Document Input: Text area or file upload based on type"
      ],
      "metadata": {
        "id": "hv3IlDrgIHyO"
      }
    },
    {
      "cell_type": "markdown",
      "source": [
        "### **Event Handlers**\n",
        "\n",
        "1. Settings Updates\n",
        "2. Message Submission"
      ],
      "metadata": {
        "id": "3kmuFA2tIN7S"
      }
    },
    {
      "cell_type": "code",
      "source": [
        "with gr.Blocks(theme=\"ocean\", fill_height=True) as demo:\n",
        "    gr.Markdown(\"# Chat with Citations\")\n",
        "\n",
        "    with gr.Row(scale=1):\n",
        "        with gr.Column(scale=4):\n",
        "            chatbot = gr.Chatbot(\n",
        "                type=\"messages\",\n",
        "                bubble_full_width=False,\n",
        "                show_label=False,\n",
        "                scale=1\n",
        "            )\n",
        "\n",
        "            msg = gr.Textbox(\n",
        "                placeholder=\"Enter your message here...\",\n",
        "                show_label=False,\n",
        "                container=False\n",
        "            )\n",
        "\n",
        "        with gr.Column(scale=1):\n",
        "            api_key = gr.Textbox(\n",
        "                type=\"password\",\n",
        "                label=\"Anthropic API Key\",\n",
        "                placeholder=\"Enter your API key\",\n",
        "                info=\"Your API key will not be stored\",\n",
        "                interactive=True,\n",
        "            )\n",
        "\n",
        "            enable_citations = gr.Checkbox(\n",
        "                label=\"Enable Citations\",\n",
        "                value=True,\n",
        "                info=\"Toggle citation functionality\"\n",
        "            )\n",
        "\n",
        "            doc_type_radio = gr.Radio(\n",
        "                choices=[\"plain_text\", \"pdf\"],\n",
        "                value=\"plain_text\",\n",
        "                label=\"Document Type\",\n",
        "                info=\"Choose the type of document\"\n",
        "            )\n",
        "\n",
        "            text_input = gr.Textbox(\n",
        "                label=\"Document Content\",\n",
        "                placeholder=f\"Enter your document text here. Default document is {DEFAULT_DOC}\",\n",
        "                lines=10,\n",
        "                info=\"Enter the text you want to reference. If empty, default document will be used.\"\n",
        "            )\n",
        "\n",
        "            pdf_input = gr.File(\n",
        "                label=\"Upload PDF\",\n",
        "                file_count=\"single\",\n",
        "                file_types=[\".pdf\"],\n",
        "                type=\"filepath\",\n",
        "                visible=False\n",
        "            )\n",
        "\n",
        "    clear = gr.ClearButton([msg, chatbot, text_input, pdf_input])\n",
        "\n",
        "    # Update input visibility based on settings\n",
        "    enable_citations.change(\n",
        "        update_document_inputs,\n",
        "        inputs=[enable_citations, doc_type_radio],\n",
        "        outputs=[doc_type_radio, text_input, pdf_input]\n",
        "    )\n",
        "\n",
        "    doc_type_radio.change(\n",
        "        update_document_inputs,\n",
        "        inputs=[enable_citations, doc_type_radio],\n",
        "        outputs=[doc_type_radio, text_input, pdf_input]\n",
        "    )\n",
        "\n",
        "    # Handle message submission\n",
        "    msg.submit(\n",
        "        user_message,\n",
        "        [msg, chatbot, enable_citations, doc_type_radio, text_input, pdf_input, api_key],\n",
        "        [msg, chatbot],\n",
        "        queue=False\n",
        "    ).then(\n",
        "        bot_response,\n",
        "        [chatbot, enable_citations, doc_type_radio, text_input, pdf_input, api_key],\n",
        "        chatbot\n",
        "    )\n",
        "\n",
        "if __name__ == \"__main__\":\n",
        "    demo.launch(debug=True)"
      ],
      "metadata": {
        "colab": {
          "base_uri": "https://localhost:8080/",
          "height": 684
        },
        "id": "OfOHe9iHD6QJ",
        "outputId": "678bd159-d6ee-4061-e32b-cb932c6a9f27"
      },
      "execution_count": 12,
      "outputs": [
        {
          "output_type": "stream",
          "name": "stdout",
          "text": [
            "Running Gradio in a Colab notebook requires sharing enabled. Automatically setting `share=True` (you can turn this off by setting `share=False` in `launch()` explicitly).\n",
            "\n",
            "Colab notebook detected. This cell will run indefinitely so that you can see errors and logs. To turn off, set debug=False in launch().\n",
            "* Running on public URL: https://0c29a5a5a5fd5dd432.gradio.live\n",
            "\n",
            "This share link expires in 72 hours. For free permanent hosting and GPU upgrades, run `gradio deploy` from the terminal in the working directory to deploy to Hugging Face Spaces (https://huggingface.co/spaces)\n"
          ]
        },
        {
          "output_type": "display_data",
          "data": {
            "text/plain": [
              "<IPython.core.display.HTML object>"
            ],
            "text/html": [
              "<div><iframe src=\"https://0c29a5a5a5fd5dd432.gradio.live\" width=\"100%\" height=\"500\" allow=\"autoplay; camera; microphone; clipboard-read; clipboard-write;\" frameborder=\"0\" allowfullscreen></iframe></div>"
            ]
          },
          "metadata": {}
        },
        {
          "output_type": "stream",
          "name": "stdout",
          "text": [
            "Keyboard interruption in main thread... closing server.\n",
            "Killing tunnel 127.0.0.1:7860 <> https://0c29a5a5a5fd5dd432.gradio.live\n"
          ]
        }
      ]
    },
    {
      "cell_type": "markdown",
      "source": [
        "## Key Features\n",
        "\n",
        "1. **API Key Security**:\n",
        "   - API key is handled securely using password field\n",
        "   - Not stored between sessions\n",
        "   - Validated before each request\n",
        "\n",
        "2. **Document Handling**:\n",
        "   - Supports both plain text and PDF documents\n",
        "   - Dynamic UI updates based on document type\n",
        "   - Default document fallback\n",
        "\n",
        "3. **Citation Management**:\n",
        "   - Toggle for citation functionality\n",
        "   - Separates citations from main response\n",
        "   - Formats citations for readability\n",
        "\n",
        "4. **Error Handling**:\n",
        "   - API key validation\n",
        "   - Document processing errors\n",
        "   - Clear error messages to users\n",
        "\n",
        "5. **UI/UX Features**:\n",
        "   - Clean, two-column layout\n",
        "   - Dynamic component visibility\n",
        "   - Clear button for resetting interface\n",
        "   - Responsive design with proper scaling\n",
        "\n",
        "## Usage Tips\n",
        "\n",
        "1. Always enter your Anthropic API key first\n",
        "2. Enable citations if you want references\n",
        "3. Choose document type and provide content\n",
        "4. Enter your question in the message box\n",
        "5. Review both response and citations in chat\n",
        "\n",
        "## Error Recovery\n",
        "\n",
        "Common error scenarios and solutions:\n",
        "1. Invalid API key: Re-enter correct key\n",
        "2. PDF upload fails: Check file format and size\n",
        "3. No response: Check network connection\n",
        "4. Citation errors: Verify document content\n",
        "\n",
        "This interface provides a user-friendly way to interact with Claude's citation feature while maintaining security and providing clear feedback to users."
      ],
      "metadata": {
        "id": "iKn8O4KMIYKU"
      }
    }
  ]
}