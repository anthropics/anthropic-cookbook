{
 "cells": [
  {
   "cell_type": "markdown",
   "id": "20de56a8",
   "metadata": {},
   "source": [
    "# Claude에서 \"JSON 모드\" 사용을 위한 프롬프트 작성법"
   ]
  },
  {
   "cell_type": "markdown",
   "id": "8e7fe136",
   "metadata": {},
   "source": [
    "Claude에는 제한된 샘플링을 사용하는 공식적인 \"JSON 모드\"는 없습니다. 하지만 걱정하지 마십시오. Claude로부터 안정적으로 JSON 형식의 응답을 받을 수 있습니다! 이 가이드에서 그 방법을 안내해 드리겠습니다."
   ]
  },
  {
   "cell_type": "markdown",
   "id": "e5e1a230",
   "metadata": {},
   "source": [
    "먼저 Claude의 일반적인 응답 방식을 살펴보겠습니다."
   ]
  },
  {
   "cell_type": "code",
   "execution_count": null,
   "id": "0c07a2c1",
   "metadata": {},
   "outputs": [],
   "source": [
    "%pip install anthropic"
   ]
  },
  {
   "cell_type": "code",
   "execution_count": 1,
   "id": "fc39114b",
   "metadata": {},
   "outputs": [],
   "source": [
    "from anthropic import Anthropic\n",
    "import json\n",
    "import re\n",
    "from pprint import pprint"
   ]
  },
  {
   "cell_type": "code",
   "execution_count": 3,
   "id": "1b991340",
   "metadata": {},
   "outputs": [],
   "source": [
    "client = Anthropic()\n",
    "MODEL_NAME = \"claude-3-opus-20240229\""
   ]
  },
  {
   "cell_type": "code",
   "execution_count": 4,
   "id": "c28ca1ad",
   "metadata": {},
   "outputs": [
    {
     "name": "stdout",
     "output_type": "stream",
     "text": [
      "요청하신 유명 운동선수들의 이름과 각 스포츠 종목이 포함된 JSON 사전입니다:\n",
      "\n",
      "```json\n",
      "  \"athletes\": [\n",
      "    {\n",
      "      \"name\": \"Usain Bolt\",\n",
      "      \"sport\": \"Track and Field\"\n",
      "    },\n",
      "    {\n",
      "      \"name\": \"Michael Phelps\",\n",
      "      \"sport\": \"Swimming\"\n",
      "    },\n",
      "    {\n",
      "      \"name\": \"Serena Williams\",\n",
      "      \"sport\": \"Tennis\"\n",
      "    },\n",
      "    {\n",
      "      \"name\": \"LeBron James\",\n",
      "      \"sport\": \"Basketball\"\n",
      "    },\n",
      "    {\n",
      "      \"name\": \"Lionel Messi\",\n",
      "      \"sport\": \"Soccer\"\n",
      "    },\n",
      "    {\n",
      "      \"name\": \"Simone Biles\",\n",
      "      \"sport\": \"Gymnastics\"\n",
      "    },\n",
      "    {\n",
      "      \"name\": \"Tom Brady\",\n",
      "      \"sport\": \"American Football\"\n",
      "    },\n",
      "    {\n",
      "      \"name\": \"Muhammad Ali\",\n",
      "      \"sport\": \"Boxing\"\n",
      "    },\n",
      "    {\n",
      "      \"name\": \"Nadia Comaneci\",\n",
      "      \"sport\": \"Gymnastics\"\n",
      "    },\n",
      "    {\n",
      "      \"name\": \"Michael Jordan\",\n",
      "      \"sport\": \"Basketball\"\n",
      "    },\n",
      "    {\n",
      "      \"name\": \"Pelé\",\n",
      "      \"sport\": \"Soccer\"\n",
      "    },\n",
      "    {\n",
      "      \"name\": \"Roger Federer\",\n",
      "      \"sport\": \"Tennis\"\n",
      "    }\n",
      "  ]\n",
      "}\n",
      "```"
     ]
    }
   ],
   "source": [
    "message = client.messages.create(\n",
    "    model=MODEL_NAME,\n",
    "    max_tokens=1024,\n",
    "    messages=[\n",
    "        {\n",
    "            \"role\": \"user\", \n",
    "            \"content\": \"유명 운동선수들의 이름과 해당 스포츠 종목을 담은 JSON 딕셔너리를 만들어 주세요.\"\n",
    "        },\n",
    "    ]\n",
    ").content[0].text\n",
    "print(message)"
   ]
  },
  {
   "cell_type": "markdown",
   "id": "0a63ad7e",
   "metadata": {},
   "source": [
    "Claude는 지시사항을 잘 따랐고, 멋진 딕셔너리를 출력했습니다. 이제 코드를 사용하여 이 JSON을 추출할 수 있습니다:"
   ]
  },
  {
   "cell_type": "code",
   "execution_count": 8,
   "id": "08626553",
   "metadata": {},
   "outputs": [
    {
     "data": {
      "text/plain": [
       "{'athletes': [{'name': 'Usain Bolt', 'sport': 'Track and Field'},\n",
       "  {'name': 'Michael Phelps', 'sport': 'Swimming'},\n",
       "  {'name': 'Serena Williams', 'sport': 'Tennis'},\n",
       "  {'name': 'LeBron James', 'sport': 'Basketball'},\n",
       "  {'name': 'Lionel Messi', 'sport': 'Soccer'},\n",
       "  {'name': 'Simone Biles', 'sport': 'Gymnastics'},\n",
       "  {'name': 'Tom Brady', 'sport': 'American Football'},\n",
       "  {'name': 'Muhammad Ali', 'sport': 'Boxing'},\n",
       "  {'name': 'Nadia Comaneci', 'sport': 'Gymnastics'},\n",
       "  {'name': 'Michael Jordan', 'sport': 'Basketball'},\n",
       "  {'name': 'Pelé', 'sport': 'Soccer'},\n",
       "  {'name': 'Roger Federer', 'sport': 'Tennis'}]}"
      ]
     },
     "execution_count": 8,
     "metadata": {},
     "output_type": "execute_result"
    }
   ],
   "source": [
    "def extract_json(response):\n",
    "    json_start = response.index(\"{\")\n",
    "    json_end = response.rfind(\"}\")\n",
    "    return json.loads(response[json_start:json_end + 1])\n",
    "extract_json(message)"
   ]
  },
  {
   "cell_type": "markdown",
   "id": "39275885",
   "metadata": {},
   "source": [
    "하지만 Claude가 서론 없이 바로 JSON을 출력하도록 하려면 어떻게 해야 할까요? 한 가지 간단한 방법은 Claude의 응답 시작 부분에 \"{\" 문자를 미리 채워 넣어주는 것입니다."
   ]
  },
  {
   "cell_type": "code",
   "execution_count": 9,
   "id": "155e088a",
   "metadata": {},
   "outputs": [
    {
     "name": "stdout",
     "output_type": "stream",
     "text": [
      "\n",
      "   \"athletes\":[\n",
      "      {\n",
      "         \"name\":\"Michael Jordan\",\n",
      "         \"sport\":\"Basketball\"\n",
      "      },\n",
      "      {\n",
      "         \"name\":\"Babe Ruth\",\n",
      "         \"sport\":\"Baseball\"\n",
      "      },\n",
      "      {\n",
      "         \"name\":\"Muhammad Ali\",\n",
      "         \"sport\":\"Boxing\"\n",
      "      },\n",
      "      {\n",
      "         \"name\":\"Serena Williams\",\n",
      "         \"sport\":\"Tennis\"\n",
      "      },\n",
      "      {\n",
      "         \"name\":\"Wayne Gretzky\",\n",
      "         \"sport\":\"Hockey\"\n",
      "      },\n",
      "      {\n",
      "         \"name\":\"Michael Phelps\",\n",
      "         \"sport\":\"Swimming\"\n",
      "      },\n",
      "      {\n",
      "         \"name\":\"Usain Bolt\",\n",
      "         \"sport\":\"Track and Field\"\n",
      "      },\n",
      "      {\n",
      "         \"name\":\"Mia Hamm\",\n",
      "         \"sport\":\"Soccer\"\n",
      "      },\n",
      "      {\n",
      "         \"name\":\"Michael Schumacher\",\n",
      "         \"sport\":\"Formula 1 Racing\"\n",
      "      },\n",
      "      {\n",
      "         \"name\":\"Simone Biles\",\n",
      "         \"sport\":\"Gymnastics\"\n",
      "      }\n",
      "   ]\n",
      "}\n"
     ]
    }
   ],
   "source": [
    "message = client.messages.create(\n",
    "    model=MODEL_NAME,\n",
    "    max_tokens=1024,\n",
    "    messages=[\n",
    "        {\n",
    "            \"role\": \"user\", \n",
    "            \"content\": \"유명 운동선수들의 이름과 해당 스포츠 종목을 담은 JSON 딕셔너리를 만들어 주세요.\"\n",
    "        },\n",
    "        {\n",
    "            \"role\": \"assistant\",\n",
    "            \"content\": \"요청하신 JSON은 다음과 같습니다:\\n{\"\n",
    "        }\n",
    "    ]\n",
    ").content[0].text\n",
    "print(message)"
   ]
  },
  {
   "cell_type": "markdown",
   "id": "64e94c65",
   "metadata": {},
   "source": [
    "이제 우리가 미리 채웠던 \"{\" 문자를 다시 추가해주기만 하면 JSON을 성공적으로 추출할 수 있습니다."
   ]
  },
  {
   "cell_type": "code",
   "execution_count": 11,
   "id": "6c066ac6",
   "metadata": {},
   "outputs": [
    {
     "data": {
      "text/plain": [
       "{'athletes': [{'name': 'Michael Jordan', 'sport': 'Basketball'},\n",
       "  {'name': 'Babe Ruth', 'sport': 'Baseball'},\n",
       "  {'name': 'Muhammad Ali', 'sport': 'Boxing'},\n",
       "  {'name': 'Serena Williams', 'sport': 'Tennis'},\n",
       "  {'name': 'Wayne Gretzky', 'sport': 'Hockey'},\n",
       "  {'name': 'Michael Phelps', 'sport': 'Swimming'},\n",
       "  {'name': 'Usain Bolt', 'sport': 'Track and Field'},\n",
       "  {'name': 'Mia Hamm', 'sport': 'Soccer'},\n",
       "  {'name': 'Michael Schumacher', 'sport': 'Formula 1 Racing'},\n",
       "  {'name': 'Simone Biles', 'sport': 'Gymnastics'}]}"
      ]
     },
     "execution_count": 11,
     "metadata": {},
     "output_type": "execute_result"
    }
   ],
   "source": [
    "output_json = json.loads(\"{\" + message[:message.rfind(\"}\") + 1])\n",
    "output_json"
   ]
  },
  {
   "cell_type": "markdown",
   "id": "cd4492fd",
   "metadata": {},
   "source": [
    "매우 길고 복잡한 프롬프트에서 여러 JSON 객체를 출력해야 하는 경우, 단순히 \"{\" 와 \"}\" 문자를 검색하는 것만으로는 부족할 수 있습니다. 이러한 경우, Claude가 각 JSON 객체를 특정 XML 태그로 감싸도록 지시하여 나중에 손쉽게 추출할 수 있도록 하는 방법이 유용합니다."
   ]
  },
  {
   "cell_type": "code",
   "execution_count": 13,
   "id": "443ad932",
   "metadata": {},
   "outputs": [
    {
     "name": "stdout",
     "output_type": "stream",
     "text": [
      " \n",
      "\n",
      "<athlete_sports>\n",
      "{\n",
      "  \"Michael Jordan\": \"Basketball\",\n",
      "  \"Serena Williams\": \"Tennis\",\n",
      "  \"Lionel Messi\": \"Soccer\", \n",
      "  \"Usain Bolt\": \"Track and Field\",\n",
      "  \"Michael Phelps\": \"Swimming\"\n",
      "}\n",
      "</athlete_sports>\n",
      "\n",
      "<athlete_name>\n",
      "{\n",
      "  \"first\": [\"Magnificent\", \"Motivating\", \"Memorable\"],\n",
      "  \"last\": [\"Joyful\", \"Jumping\", \"Jocular\"]\n",
      "}\n",
      "</athlete_name>\n",
      "\n",
      "<athlete_name>\n",
      "{\n",
      "  \"first\": [\"Skillful\", \"Strong\", \"Superstar\"],\n",
      "  \"last\": [\"Winning\", \"Willful\", \"Wise\"]\n",
      "}\n",
      "</athlete_name>\n",
      "\n",
      "<athlete_name>\n",
      "{\n",
      "  \"first\": [\"Legendary\", \"Lively\", \"Leaping\"],\n",
      "  \"last\": [\"Magical\", \"Marvelous\", \"Masterful\"]  \n",
      "}\n",
      "</athlete_name>\n",
      "\n",
      "<athlete_name>\n",
      "{\n",
      "  \"first\": [\"Unbeatable\", \"Unbelievable\", \"Unstoppable\"],\n",
      "  \"last\": [\"Brave\", \"Bold\", \"Brilliant\"]\n",
      "}\n",
      "</athlete_name>\n",
      "\n",
      "<athlete_name>\n",
      "{\n",
      "  \"first\": [\"Marvelous\", \"Methodical\", \"Medalist\"],\n",
      "  \"last\": [\"Powerful\", \"Persevering\", \"Precise\"]\n",
      "}\n",
      "</athlete_name>\n"
     ]
    }
   ],
   "source": [
    "message = client.messages.create(\n",
    "    model=MODEL_NAME,\n",
    "    max_tokens=1024,\n",
    "    messages=[\n",
    "        {\n",
    "            \"role\": \"user\", \n",
    "            \"content\": \"\"\"유명 운동선수 5명의 이름과 각 선수의 스포츠 종목을 포함하는 JSON 딕셔너리를 만들어 주십시오.\n",
    "이 딕셔너리는 <athlete_sports> XML 태그로 감싸주십시오. \n",
    "\n",
    "그런 다음, 각 운동선수에 대해 별도의 JSON 딕셔너리를 추가로 출력해주십시오. 이 추가 딕셔너리 각각에는 다음 내용이 포함되어야 합니다:\n",
    "- 운동선수의 이름(first name)과 성(last name)을 나타내는 두 개의 키를 포함합니다.\n",
    "- 각 키의 값으로는 해당 이름(또는 성)과 동일한 첫 글자로 시작하는 세 개의 영단어를 나열합니다.\n",
    "이 추가 딕셔너리 각각은 별도의 <athlete_name> XML 태그로 감싸주십시오.\"\"\"\n",
    "        },\n",
    "        {\n",
    "            \"role\": \"assistant\",\n",
    "            \"content\": \"요청하신 JSON 데이터는 다음과 같습니다:\"\n",
    "        }\n",
    "    ],\n",
    ").content[0].text\n",
    "print(message)"
   ]
  },
  {
   "cell_type": "markdown",
   "id": "74043369",
   "metadata": {},
   "source": [
    "이제 정규 표현식을 사용하여 모든 딕셔너리들을 추출할 수 있습니다."
   ]
  },
  {
   "cell_type": "code",
   "execution_count": 14,
   "id": "bd847a70",
   "metadata": {},
   "outputs": [],
   "source": [
    "import re\n",
    "def extract_between_tags(tag: str, string: str, strip: bool = False) -> list[str]:\n",
    "    ext_list = re.findall(f\"<{tag}>(.+?)</{tag}>\", string, re.DOTALL)\n",
    "    if strip:\n",
    "        ext_list = [e.strip() for e in ext_list]\n",
    "    return ext_list\n",
    "\n",
    "athlete_sports_dict = json.loads(extract_between_tags(\"athlete_sports\", message)[0])\n",
    "athlete_name_dicts = [\n",
    "    json.loads(d)\n",
    "    for d in extract_between_tags(\"athlete_name\", message)\n",
    "]"
   ]
  },
  {
   "cell_type": "code",
   "execution_count": 15,
   "id": "eb61ee06",
   "metadata": {},
   "outputs": [
    {
     "name": "stdout",
     "output_type": "stream",
     "text": [
      "{'Lionel Messi': 'Soccer',\n",
      " 'Michael Jordan': 'Basketball',\n",
      " 'Michael Phelps': 'Swimming',\n",
      " 'Serena Williams': 'Tennis',\n",
      " 'Usain Bolt': 'Track and Field'}\n"
     ]
    }
   ],
   "source": [
    "pprint(athlete_sports_dict)"
   ]
  },
  {
   "cell_type": "code",
   "execution_count": 16,
   "id": "57dade0f",
   "metadata": {},
   "outputs": [
    {
     "name": "stdout",
     "output_type": "stream",
     "text": [
      "[{'first': ['Magnificent',\n",
      "            'Motivating',\n",
      "            'Memorable'],\n",
      "  'last': ['Joyful',\n",
      "           'Jumping',\n",
      "           'Jocular']},\n",
      " {'first': ['Skillful',\n",
      "            'Strong',\n",
      "            'Superstar'],\n",
      "  'last': ['Winning',\n",
      "           'Willful',\n",
      "           'Wise']},\n",
      " {'first': ['Legendary',\n",
      "            'Lively',\n",
      "            'Leaping'],\n",
      "  'last': ['Magical',\n",
      "           'Marvelous',\n",
      "           'Masterful']},\n",
      " {'first': ['Unbeatable',\n",
      "            'Unbelievable',\n",
      "            'Unstoppable'],\n",
      "  'last': ['Brave',\n",
      "           'Bold',\n",
      "           'Brilliant']},\n",
      " {'first': ['Marvelous',\n",
      "            'Methodical',\n",
      "            'Medalist'],\n",
      "  'last': ['Powerful',\n",
      "           'Persevering',\n",
      "           'Precise']}]\n"
     ]
    }
   ],
   "source": [
    "pprint(athlete_name_dicts, width=1)"
   ]
  },
  {
   "cell_type": "markdown",
   "id": "5e5854c0",
   "metadata": {},
   "source": [
    "요약하자면 다음과 같습니다:\n",
    "\n",
    "- 문자열 파싱을 사용하여 \"```json\"과 \"```\" 사이의 텍스트를 추출함으로써 JSON을 얻을 수 있습니다.\n",
    "- 어시스턴트 메시지의 일부를 미리 채워 넣음으로써 JSON *앞부분*의 서론을 제거할 수 있습니다. (하지만 이 방법은 Claude가 JSON 출력을 시작하기 전에 더 높은 수준의 추론을 위해 \"연쇄적 사고(Chain of Thought)\"를 수행할 가능성을 배제합니다.)\n",
    "- 중단 시퀀스(stop sequence)를 사용하여 JSON *뒷부분*에 오는 불필요한 텍스트를 제거할 수 있습니다.\n",
    "- 더 복잡한 프롬프트의 경우, Claude에게 XML 태그 내에 JSON을 출력하도록 지시하여 나중에 손쉽게 데이터를 수집할 수 있도록 할 수 있습니다."
   ]
  }
 ],
 "metadata": {
  "kernelspec": {
   "display_name": "Python 3 (ipykernel)",
   "language": "python",
   "name": "python3"
  },
  "language_info": {
   "codemirror_mode": {
    "name": "ipython",
    "version": 3
   },
   "file_extension": ".py",
   "mimetype": "text/x-python",
   "name": "python",
   "nbconvert_exporter": "python",
   "pygments_lexer": "ipython3",
   "version": "3.10.12"
  }
 },
 "nbformat": 4,
 "nbformat_minor": 5
}
