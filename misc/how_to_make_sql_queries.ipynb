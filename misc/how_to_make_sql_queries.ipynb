{
 "cells": [
  {
   "cell_type": "markdown",
   "metadata": {},
   "source": [
    "# Claude를 사용하여 SQL 쿼리 생성하기\n",
    "\n",
    "\n",
    "이 노트북에서는 자연어 질문을 바탕으로 Claude를 활용하여 SQL 쿼리를 생성하는 방법을 탐구합니다. 테스트 데이터베이스를 구축하고 해당 스키마를 Claude에 제공한 후, Claude가 자연어를 이해하고 이를 SQL 쿼리로 변환하는 과정을 시연합니다."
   ]
  },
  {
   "cell_type": "markdown",
   "metadata": {},
   "source": [
    "## 환경 설정\n",
    "\n",
    "먼저, 필요한 라이브러리를 설치하고 API 키를 사용하여 Anthropic 클라이언트를 설정합니다."
   ]
  },
  {
   "cell_type": "code",
   "execution_count": null,
   "metadata": {},
   "outputs": [],
   "source": [
    "# 필요한 라이브러리를 설치합니다.\n",
    "%pip install anthropic"
   ]
  },
  {
   "cell_type": "code",
   "execution_count": 2,
   "metadata": {},
   "outputs": [],
   "source": [
    "# 필요한 라이브러리를 가져옵니다.\n",
    "from anthropic import Anthropic\n",
    "import sqlite3\n",
    "\n",
    "# Anthropic API 클라이언트를 설정합니다.\n",
    "client = Anthropic()\n",
    "MODEL_NAME = \"claude-3-opus-20240229\""
   ]
  },
  {
   "cell_type": "markdown",
   "metadata": {},
   "source": [
    "## 테스트 데이터베이스 생성\n",
    "\n",
    "SQLite를 사용하여 테스트 데이터베이스를 생성하고 샘플 데이터로 채워보겠습니다."
   ]
  },
  {
   "cell_type": "code",
   "execution_count": 3,
   "metadata": {},
   "outputs": [],
   "source": [
    "# 테스트 데이터베이스에 연결합니다 (데이터베이스가 존재하지 않으면 새로 생성됩니다).\n",
    "conn = sqlite3.connect(\"test_db.db\")\n",
    "cursor = conn.cursor()\n",
    "\n",
    "# 샘플 테이블을 생성합니다.\n",
    "cursor.execute(\"\"\"\n",
    "    CREATE TABLE IF NOT EXISTS employees (\n",
    "        id INTEGER PRIMARY KEY,\n",
    "        name TEXT,\n",
    "        department TEXT,\n",
    "        salary INTEGER\n",
    "    )\n",
    "\"\"\")\n",
    "\n",
    "# 샘플 데이터를 삽입합니다.\n",
    "sample_data = [\n",
    "    (1, \"John Doe\", \"Sales\", 50000),\n",
    "    (2, \"Jane Smith\", \"Engineering\", 75000),\n",
    "    (3, \"Mike Johnson\", \"Sales\", 60000),\n",
    "    (4, \"Emily Brown\", \"Engineering\", 80000),\n",
    "    (5, \"David Lee\", \"Marketing\", 55000)\n",
    "]\n",
    "cursor.executemany(\"INSERT INTO employees VALUES (?, ?, ?, ?)\", sample_data)\n",
    "conn.commit()"
   ]
  },
  {
   "cell_type": "markdown",
   "metadata": {},
   "source": [
    "## Claude를 활용한 SQL 쿼리 생성\n",
    "\n",
    "이제 자연어 질문을 Claude에 전송하고, 생성된 SQL 쿼리를 반환받는 함수를 정의하겠습니다."
   ]
  },
  {
   "cell_type": "code",
   "execution_count": 8,
   "metadata": {},
   "outputs": [],
   "source": [
    "# Claude에 질문을 보내고 응답을 받는 함수를 정의합니다.\n",
    "def ask_claude(query, schema):\n",
    "    prompt = f\"\"\"다음은 제공된 데이터베이스 스키마입니다:\n",
    "\n",
    "{schema}\n",
    "\n",
    "이 스키마를 바탕으로, 다음 질문에 답변할 수 있는 SQL 쿼리를 작성해주십시오. SQL 쿼리 외에는 다른 어떤 내용도 출력하지 마십시오.\n",
    "\n",
    "질문: {query}\n",
    "\"\"\"\n",
    "\n",
    "    response = client.messages.create(\n",
    "        model=MODEL_NAME,\n",
    "        max_tokens=2048,\n",
    "        messages=[{\n",
    "            \"role\": 'user', \"content\":  prompt\n",
    "        }]\n",
    "    )\n",
    "    return response.content[0].text"
   ]
  },
  {
   "cell_type": "markdown",
   "metadata": {},
   "source": [
    "데이터베이스 스키마를 조회하여 문자열 형식으로 변환합니다."
   ]
  },
  {
   "cell_type": "code",
   "execution_count": 5,
   "metadata": {},
   "outputs": [
    {
     "name": "stdout",
     "output_type": "stream",
     "text": [
      "CREATE TABLE EMPLOYEES (\n",
      "id INTEGER\n",
      "name TEXT\n",
      "department TEXT\n",
      "salary INTEGER\n",
      ")\n"
     ]
    }
   ],
   "source": [
    "# 데이터베이스 스키마를 가져옵니다.\n",
    "schema = cursor.execute(\"PRAGMA table_info(employees)\").fetchall()\n",
    "schema_str = \"CREATE TABLE EMPLOYEES (\\n\" + \"\\n\".join([f\"{col[1]} {col[2]}\" for col in schema]) + \"\\n)\"\n",
    "print(schema_str)"
   ]
  },
  {
   "cell_type": "markdown",
   "metadata": {},
   "source": [
    "이제, 예시 자연어 질문을 Claude에 전송해 보겠습니다."
   ]
  },
  {
   "cell_type": "code",
   "execution_count": 9,
   "metadata": {},
   "outputs": [
    {
     "name": "stdout",
     "output_type": "stream",
     "text": [
      "SELECT name, salary\n",
      "FROM EMPLOYEES\n",
      "WHERE department = 'Engineering';\n"
     ]
    }
   ],
   "source": [
    "# 자연어 질문 예시\n",
    "question = \"Engineering 부서에 속한 직원들의 이름과 급여는 어떻게 되나요?\"\n",
    "# 질문을 Claude에 전송하고 SQL 쿼리를 받습니다.\n",
    "sql_query = ask_claude(question, schema_str)\n",
    "print(sql_query)"
   ]
  },
  {
   "cell_type": "markdown",
   "metadata": {},
   "source": [
    "## 생성된 SQL 쿼리 실행하기\n",
    "\n",
    "마지막으로, 생성된 SQL 쿼리를 테스트 데이터베이스에 대해 실행하고 그 결과를 출력합니다."
   ]
  },
  {
   "cell_type": "code",
   "execution_count": 10,
   "metadata": {},
   "outputs": [
    {
     "name": "stdout",
     "output_type": "stream",
     "text": [
      "('Jane Smith', 75000)\n",
      "('Emily Brown', 80000)\n"
     ]
    }
   ],
   "source": [
    "# SQL 쿼리를 실행하고 그 결과를 출력합니다.\n",
    "results = cursor.execute(sql_query).fetchall()\n",
    "\n",
    "for row in results:\n",
    "    print(row)"
   ]
  },
  {
   "cell_type": "markdown",
   "metadata": {},
   "source": [
    "모든 작업이 완료되면 데이터베이스 연결을 닫는 것을 잊지 마십시오."
   ]
  },
  {
   "cell_type": "code",
   "execution_count": 11,
   "metadata": {},
   "outputs": [],
   "source": [
    "# 데이터베이스 연결을 닫습니다.\n",
    "conn.close()"
   ]
  }
 ],
 "metadata": {
  "kernelspec": {
   "display_name": "Python 3",
   "language": "python",
   "name": "python3"
  },
  "language_info": {
   "codemirror_mode": {
    "name": "ipython",
    "version": 3
   },
   "file_extension": ".py",
   "mimetype": "text/x-python",
   "name": "python",
   "nbconvert_exporter": "python",
   "pygments_lexer": "ipython3",
   "version": "3.10.12"
  }
 },
 "nbformat": 4,
 "nbformat_minor": 2
}
