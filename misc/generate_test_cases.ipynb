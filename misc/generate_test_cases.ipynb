{
 "cells": [
  {
   "cell_type": "markdown",
   "id": "10a4f45b-83bc-4d30-b7d1-a2d6ec8017d3",
   "metadata": {},
   "source": [
    "# 프롬프트 템플릿용 합성 테스트 데이터 생성하기\n",
    "\n",
    "다음과 유사한 프롬프트가 있다고 가정해 보겠습니다:\n",
    "\n",
    "\"\"\"분석하고자 하는 몇 가지 사항이 있습니다:\n",
    "\n",
    "<항목>\n",
    "{{항목1}}\n",
    "</항목>\n",
    "<항목>\n",
    "{{항목2}}\n",
    "</항목>\n",
    "\n",
    "이 사항들은 [사항들에 대한 설명]입니다. 내용을 신중히 검토한 후 [요청 작업]을 수행해 주십시오.\"\"\"\n",
    "\n",
    "여기서 `항목1`과 `항목2`를 \"변수\"라고 칭하며, 이 프롬프트가 해당 변수들의 다양한 값에 대해 일관되게 잘 작동하도록 하는 것이 목표입니다.\n",
    "\n",
    "이 프롬프트 템플릿을 어떻게 테스트할 수 있을까요? 실제 값을 대입해볼 수도 있겠지만, 적절한 실제 값이 없거나 개인정보보호 등의 이유로 기존 데이터를 사용할 수 없는 경우도 있습니다. 걱정하지 마십시오. Claude가 이러한 테스트 데이터를 생성할 수 있습니다! 이 가이드에서는 Claude와 Anthropic API를 활용하여 프롬프트용 합성 테스트 데이터를 생성하는 방법을 시연합니다. 여기에는 템플릿에서 변수를 추출하고, 예제 블록을 구성하며, 테스트 케이스를 생성하고, 그 결과를 반복적으로 개선하는 함수들이 포함됩니다. 이 방법의 이점은 다음과 같이 두 가지입니다:\n",
    "\n",
    "1. 프롬프트 평가\n",
    "생성된 테스트 케이스를 통해 Claude가 실제와 유사한 다양한 예시들에 대해 어떻게 작동하는지 확인할 수 있습니다.\n",
    "\n",
    "2. 다중 예시(Multishot Examples)를 통한 프롬프트 개선\n",
    "Claude에게 예시를 제공하는 것은 모델의 성능을 향상시키는 가장 효과적인 방법 중 하나일 것입니다. 이 노트북은 이상적인 입력/출력 쌍을 확보하는 데 있어 중요한 부분인, 현실적인 입력값을 생성하는 데 도움을 줄 수 있습니다."
   ]
  },
  {
   "cell_type": "code",
   "execution_count": null,
   "id": "a480851e",
   "metadata": {},
   "outputs": [],
   "source": [
    "% pip install anthropic IPython"
   ]
  },
  {
   "cell_type": "code",
   "execution_count": 1,
   "id": "36537f92-33ca-4e6c-9f3c-e439fd103965",
   "metadata": {},
   "outputs": [],
   "source": [
    "import re\n",
    "import anthropic\n",
    "from IPython.display import display, HTML\n",
    "# TODO: 사용자의 Anthropic API 키를 입력하세요.\n",
    "api_key = \"\"\n",
    "CLIENT = anthropic.Anthropic(api_key=api_key)\n",
    "MODEL_NAME = \"claude-3-5-sonnet-20241022\""
   ]
  },
  {
   "cell_type": "markdown",
   "id": "15fc567e",
   "metadata": {},
   "source": [
    "먼저, 이 노트북 전반에 걸쳐 사용될 몇 가지 헬퍼 함수를 정의하는 것으로 시작하겠습니다."
   ]
  },
  {
   "cell_type": "code",
   "execution_count": 2,
   "id": "a3cf101a-8781-4dfd-bc12-79f39e6b579c",
   "metadata": {},
   "outputs": [],
   "source": [
    "# 첫 번째 헬퍼 함수는 `extract_variables`입니다. \n",
    "# 이 함수는 프롬프트 템플릿을 입력으로 받아, 이중 중괄호(`{{ }}`)로 묶인 \"변수\"들을 추출합니다.\n",
    "def extract_variables(prompt_template):\n",
    "    \"\"\"프롬프트 템플릿에서 변수들을 추출합니다.\"\"\"\n",
    "    pattern = r'{{([^}]+)}}'\n",
    "    variables = re.findall(pattern, prompt_template)\n",
    "    return set(variables)\n",
    "\n",
    "# 다음은 `construct_variables_names` 함수로, 추출된 변수명들을 개행 문자로 연결하여 하나의 문자열로 만듭니다.\n",
    "def construct_variables_names(prompt_template):\n",
    "    \"\"\"프롬프트 템플릿으로부터 변수명들의 문자열을 구성합니다.\"\"\"\n",
    "    variables = extract_variables(prompt_template)\n",
    "    return \"\\n\".join(variables)\n",
    "\n",
    "# `construct_variables_block` 함수는 변수 목록을 입력받아, 다음과 같은 형식의 \"변수 블록\"을 생성합니다.\n",
    "# 변수가 'animal'과 'topic'인 경우 변수 블록은 다음과 같을 수 있습니다.\n",
    "\"\"\"\n",
    "<animal>\n",
    "[변수 \"animal\"에 해당하는 구체적이고 완전한 값]\n",
    "</animal>\n",
    "<topic>\n",
    "[변수 \"topic\"에 해당하는 구체적이고 완전한 값]\n",
    "</topic>\n",
    "\"\"\"\n",
    "def construct_variables_block(prompt_template):\n",
    "    \"\"\"합성 테스트 데이터 생성을 위한 프롬프트에 사용될 변수 블록을 구성합니다.\"\"\"\n",
    "    variables = extract_variables(prompt_template)\n",
    "    output = \"\"\n",
    "    for v in variables:\n",
    "        output += f\"<{v}>\\n\"\n",
    "        output += f\"[변수 \\\"{v}\\\"에 해당하는 구체적이고 완전한 값. (태그 내에 변수명을 다시 반복할 필요는 없습니다.)]\\n\"\n",
    "        output += f\"</{v}>\\n\"\n",
    "    return output.strip()\n",
    "\n",
    "# `construct_example_block` 함수는 {변수: 값} 형태의 딕셔너리를 입력받아, XML 형식의 예제 블록을 생성합니다.\n",
    "# 예를 들어 사전이 다음과 같은 경우\n",
    "# {'animal': 'cat', 'topic': 'movement patterns'}인 경우 예제는 다음과 같습니다.\n",
    "\"\"\"\n",
    "<example>\n",
    "<variables>\n",
    "<animal>\n",
    "cat\n",
    "</animal>\n",
    "<topic>\n",
    "movement patterns\n",
    "</topic>\n",
    "</variables>\n",
    "</example>\n",
    "\"\"\"\n",
    "def construct_example_block(variable_dict):\n",
    "    \"\"\"변수 딕셔너리로부터 예제 블록을 구성합니다.\"\"\"\n",
    "    output = \"<example>\\n<variables>\\n\"\n",
    "    for k, v in variable_dict.items():\n",
    "        output += f\"<{k}>\\n{v}\\n</{k}>\\n\"\n",
    "    output = output.strip()\n",
    "    output += \"\\n</variables>\\n</example>\"\n",
    "    return output"
   ]
  },
  {
   "cell_type": "markdown",
   "id": "0af492ba",
   "metadata": {},
   "source": [
    "## 데이터 생성을 위한 프롬프트 템플릿\n",
    "\n",
    "이러한 프롬프트 템플릿들의 주된 목적은, 사용자가 제공한 (변수를 포함하는) 프롬프트 템플릿을 기반으로 해당 변수들에 채워 넣을 구체적인 값들을 생성하는 것입니다.\n",
    "\n",
    "아래에는 두 가지 경우를 위한 프롬프트 템플릿이 준비되어 있습니다: 하나는 사용자가 이미 변수 값의 예시를 제공한 경우를 가정하며, 다른 하나는 그렇지 않은 경우를 위한 것입니다.\n",
    "\n",
    "두 템플릿 모두, Claude에게 현재 상황에 대한 맥락을 먼저 제공하고, 테스트 케이스를 생성하기 전에 각 변수의 특성과 사용자가 제공한 프롬프트 템플릿 전체를 면밀히 검토하도록 지시하는 것으로 시작합니다."
   ]
  },
  {
   "cell_type": "code",
   "execution_count": 3,
   "id": "dbea4731-ba24-4854-b33c-45d699790d7b",
   "metadata": {},
   "outputs": [],
   "source": [
    "# 합성 데이터 생성을 위한 프롬프트 템플릿 형식화\n",
    "\n",
    "# 이 함수는 합성 테스트 데이터 생성을 위해 프롬프트 템플릿을 준비합니다.\n",
    "\n",
    "def format_prompt_template_for_synth_evals(prompt_template, examples=None):\n",
    "    \"\"\"합성 평가용 프롬프트 템플릿의 형식을 지정합니다.\"\"\"\n",
    "    synth_test_data_prompt_template_with_example = \"\"\"<Prompt Template>\n",
    "{{PROMPT_TEMPLATE}}\n",
    "</Prompt Template>\n",
    "\n",
    "귀하의 임무는 위에 제시된 프롬프트 템플릿을 위한 테스트 케이스를 작성하는 것입니다. 이 템플릿에는 추후 구체적인 값으로 채워질 자리 표시자인 \"변수\"들이 포함되어 있으며, 해당 변수들은 다음과 같습니다:\n",
    "\n",
    "<variables>\n",
    "{{CONSTRUCT_VARIABLES_NAMES}}\n",
    "</variables>\n",
    "\n",
    "다음은 사용자가 제공한 테스트 케이스 예시들입니다.\n",
    "<examples>\n",
    "{{EXAMPLES}}\n",
    "</examples>\n",
    "\n",
    "먼저, <planning> 태그 내에 다음 단계들을 수행해주십시오:\n",
    "\n",
    "1. 제시된 프롬프트 템플릿을 요약해주십시오. 이 템플릿을 작성한 사용자의 주된 목표는 무엇입니까?\n",
    "2. <variables> 내 각 변수에 대해, 해당 변수의 가장 대표적이고 현실적인 예시가 어떤 모습일지 신중히 고려해주십시오. 실제 운영 환경에서 이 값들을 누가 제공하게 될지(예: 최종 사용자 직접 입력, 웹사이트 정보, 데이터베이스 추출 등) 파악하는 것이 중요합니다. 의미론적 내용뿐만 아니라 길이, 형식, 어조 등도 고려해야 합니다. 사용자가 제공한 예시들을 참고하여 이 과정을 진행하되, 생성할 예시는 기존 예시들과 동일한 통계적 분포를 따르면서도 새로운 정보를 제공할 수 있도록 충분히 달라야 합니다. 이는 섬세한 균형을 요구하는 작업이지만, 귀하의 능력을 믿습니다.\n",
    "\n",
    "모든 준비가 끝나면, 각 변수에 대한 구체적이고 완전한 값을 포함하는 테스트 케이스를 이 프롬프트 템플릿용으로 생성하여 출력해주십시오. 출력 형식은 각 변수를 태그로 감싼 블록 형태여야 하며, 값은 해당 태그 내에 위치해야 합니다 (아래 예시 참고):\n",
    "\n",
    "<variables>\n",
    "{{CONSTRUCT_VARIABLES_BLOCK}}\n",
    "</variables>\"\"\"\n",
    "\n",
    "    synth_test_data_prompt_template_without_example = \"\"\"<Prompt Template>\n",
    "{{PROMPT_TEMPLATE}}\n",
    "</Prompt Template>\n",
    "\n",
    "귀하의 임무는 위에 제시된 프롬프트 템플릿을 위한 테스트 케이스를 작성하는 것입니다. 이 템플릿에는 추후 구체적인 값으로 채워질 자리 표시자인 \"변수\"들이 포함되어 있으며, 해당 변수들은 다음과 같습니다:\n",
    "\n",
    "<variables>\n",
    "{{CONSTRUCT_VARIABLES_NAMES}}\n",
    "</variables>\n",
    "\n",
    "먼저, <planning> 태그 내에 다음 단계들을 수행해주십시오:\n",
    "\n",
    "1. 제시된 프롬프트 템플릿을 요약해주십시오. 이 템플릿을 작성한 사용자의 주된 목표는 무엇입니까?\n",
    "2. <variables> 내 각 변수에 대해, 해당 변수의 가장 대표적이고 현실적인 예시가 어떤 모습일지 신중히 고려해주십시오. 실제 운영 환경에서 이 값들을 누가 제공하게 될지(예: 최종 사용자 직접 입력, 웹사이트 정보, 데이터베이스 추출 등) 파악하는 것이 중요합니다. 의미론적 내용뿐만 아니라 길이, 형식, 어조 등도 고려해야 합니다.\n",
    "\n",
    "그런 다음, 각 변수에 대한 구체적이고 완전한 값을 포함하는 테스트 케이스를 이 프롬프트 템플릿용으로 생성하여 출력해주십시오. 출력 형식은 각 변수를 태그로 감싼 블록 형태여야 하며, 값은 해당 태그 내에 위치해야 합니다 (아래 예시 참고):\n",
    "<variables>\n",
    "{{CONSTRUCT_VARIABLES_BLOCK}}\n",
    "</variables>\"\"\"\n",
    "\n",
    "    if examples:\n",
    "        examples_block = \"\\n\".join([construct_example_block(example) for example in examples])\n",
    "        return synth_test_data_prompt_template_with_example.replace(\n",
    "            \"{{PROMPT_TEMPLATE}}\", prompt_template\n",
    "        ).replace(\n",
    "            \"{{CONSTRUCT_VARIABLES_NAMES}}\", construct_variables_names(prompt_template)\n",
    "        ).replace(\n",
    "            \"{{CONSTRUCT_VARIABLES_BLOCK}}\", construct_variables_block(prompt_template)\n",
    "        ).replace(\n",
    "            \"{{EXAMPLES}}\", examples_block\n",
    "        )\n",
    "    else:\n",
    "        return synth_test_data_prompt_template_without_example.replace(\n",
    "            \"{{PROMPT_TEMPLATE}}\", prompt_template\n",
    "        ).replace(\n",
    "            \"{{CONSTRUCT_VARIABLES_NAMES}}\", construct_variables_names(prompt_template)\n",
    "        ).replace(\n",
    "            \"{{CONSTRUCT_VARIABLES_BLOCK}}\", construct_variables_block(prompt_template)\n",
    "        )"
   ]
  },
  {
   "cell_type": "markdown",
   "id": "7c29f3f6",
   "metadata": {},
   "source": [
    "다음은, 적절한 프롬프트 템플릿을 완성하고 Claude를 호출하기 위한 또 다른 간편한 헬퍼 함수입니다."
   ]
  },
  {
   "cell_type": "code",
   "execution_count": 4,
   "id": "fb3d6193-51fa-469e-8e64-d860fc1657bf",
   "metadata": {},
   "outputs": [],
   "source": [
    "def get_test_data(prompt_template, examples, custom_planning=None):\n",
    "    \"\"\"Anthropic API를 사용하여 테스트 데이터를 생성합니다.\"\"\"\n",
    "    synth_eval_prompt_ready = format_prompt_template_for_synth_evals(prompt_template, examples)\n",
    "\n",
    "    messages = [\n",
    "        {\n",
    "            \"role\": \"user\",\n",
    "            \"content\": synth_eval_prompt_ready,\n",
    "        }\n",
    "    ]\n",
    "    if custom_planning:\n",
    "        messages.append({\n",
    "            \"role\": \"assistant\",\n",
    "            \"content\": custom_planning,\n",
    "        })\n",
    "    \n",
    "    message = CLIENT.messages.create(\n",
    "        max_tokens=4000,\n",
    "        messages=messages,\n",
    "        model=MODEL_NAME,\n",
    "        temperature=1,\n",
    "    ).content[0].text\n",
    "\n",
    "    return message"
   ]
  },
  {
   "cell_type": "code",
   "execution_count": 5,
   "id": "9b5becbd-907d-4729-a37f-c892bde3a8e0",
   "metadata": {},
   "outputs": [],
   "source": [
    "# 생성된 예제 값/테스트 케이스가 있다면, 이 함수를 사용하여 해당 값으로 채워진 프롬프트 템플릿에 대한 Claude의 응답을 샘플링합니다.\n",
    "\n",
    "def call_claude_with_template(prompt_template, variables):\n",
    "    \"\"\"값이 채워진 프롬프트 템플릿을 사용하여 Claude를 호출합니다.\"\"\"\n",
    "    filled_template = prompt_template\n",
    "    for var, value in variables.items():\n",
    "        filled_template = filled_template.replace(f\"{{{{{var}}}}}\", value)\n",
    "\n",
    "    message = CLIENT.messages.create(\n",
    "        max_tokens=4000,\n",
    "        messages=[\n",
    "            {\n",
    "                \"role\": \"user\",\n",
    "                \"content\": filled_template,\n",
    "            }\n",
    "        ],\n",
    "        model=MODEL_NAME,\n",
    "        temperature=0.7,\n",
    "    ).content[0].text\n",
    "\n",
    "    return message"
   ]
  },
  {
   "cell_type": "markdown",
   "id": "087337fd",
   "metadata": {},
   "source": [
    "이제 앞서 정의한 요소들을 조합해볼 시간입니다. 시작하려면, 여기에 사용하고자 하는 프롬프트 템플릿을 입력하십시오."
   ]
  },
  {
   "cell_type": "code",
   "execution_count": 6,
   "id": "feccf7db",
   "metadata": {},
   "outputs": [
    {
     "name": "stdout",
     "output_type": "stream",
     "text": [
      "\n",
      "프롬프트 템플릿에서 식별된 변수:\n",
      "- QUESTION\n",
      "- DOCUMENTS\n"
     ]
    }
   ],
   "source": [
    "# TODO: 이 부분을 실제 사용자의 프롬프트 템플릿으로 교체하십시오!\n",
    "# 변수를 지정하려면 이중 중괄호 `{{변수명}}` 형식을 사용하십시오.\n",
    "# 아래는 예시 프롬프트 템플릿입니다.\n",
    "prompt_template = \"\"\"귀하는 Acme Corporation의 고객 지원 챗봇입니다. \n",
    "다음은 Acme Corporation의 관련 정책이 담긴 FAQ 문서입니다:\n",
    "\n",
    "<문서>\n",
    "{{DOCUMENTS}}\n",
    "</문서>\n",
    "\n",
    "이 정책 내용을 바탕으로 다음 고객 지원 질문에 답변해주십시오:\n",
    "\n",
    "<질문>\n",
    "{{QUESTION}}\n",
    "</질문>\"\"\"\n",
    "\n",
    "variables = extract_variables(prompt_template)\n",
    "print(\"\\n프롬프트 템플릿에서 식별된 변수:\")\n",
    "for var in variables:\n",
    "    print(f\"- {var}\")"
   ]
  },
  {
   "cell_type": "markdown",
   "id": "ded0bae4",
   "metadata": {},
   "source": [
    "다음으로, 입력값과 그에 대한 이상적인 출력으로 구성된 \"기준 예시(golden examples)\"가 있다면 여기에 입력할 수 있습니다. 해당 코드는 현재 주석 처리되어 있습니다."
   ]
  },
  {
   "cell_type": "code",
   "execution_count": 7,
   "id": "0606eaa2",
   "metadata": {
    "scrolled": true
   },
   "outputs": [],
   "source": [
    "planning_text = None\n",
    "USER_EXAMPLES = []\n",
    "\n",
    "# if input(\"\\n변수에 대한 예시 값을 제공하시겠습니까? (y/n): \").lower() == 'y':\n",
    "#     example = {}\n",
    "#     for var in variables:\n",
    "#         example[var] = input(f\"{var} 변수에 대한 예시 값을 입력하세요: \")\n",
    "#     USER_EXAMPLES.append(example)"
   ]
  },
  {
   "cell_type": "markdown",
   "id": "e5e987e5",
   "metadata": {},
   "source": [
    "이제, 이 정보들로 채워진 테스트 케이스 생성용 프롬프트 템플릿을 사용하여 실제 테스트 케이스를 생성해 보겠습니다!"
   ]
  },
  {
   "cell_type": "code",
   "execution_count": 8,
   "id": "6da69c33",
   "metadata": {},
   "outputs": [],
   "source": [
    "result = get_test_data(prompt_template, USER_EXAMPLES, planning_text)"
   ]
  },
  {
   "cell_type": "markdown",
   "id": "f930d99c",
   "metadata": {},
   "source": [
    "자, 이제 생성된 테스트 케이스와 Claude가 이를 만들기 위해 사용한 계획 과정을 모두 살펴보겠습니다."
   ]
  },
  {
   "cell_type": "code",
   "execution_count": 10,
   "id": "aa34e23d",
   "metadata": {},
   "outputs": [
    {
     "name": "stdout",
     "output_type": "stream",
     "text": [
      "~~~~~~~~~~~\n",
      "생성된 테스트 케이스:\n",
      "~~~~~~~~~~~\n",
      "문서 내용 (DOCUMENTS):\n",
      "반품 정책:\n",
      "- 상품은 구매일로부터 30일 이내, 원본 영수증 지참 시 반품 가능합니다.\n",
      "- 상품은 사용하지 않은 상태여야 하며 원래 포장 상태여야 합니다.\n",
      "- 배송비는 환불되지 않습니다.\n",
      "- 기프트 카드는 반품할 수 없습니다.\n",
      "\n",
      "배송 정보:\n",
      "- 표준 배송(5-7 영업일): $50 이상 주문 시 무료\n",
      "- 특급 배송(2-3 영업일): $12.99\n",
      "- 익일 배송(다음 영업일): $24.99\n",
      "- 미국 본토 내에서만 배송합니다.\n",
      "- 알래스카 및 하와이 주문 시 추가 요금 $15 발생\n",
      "\n",
      "결제 방법:\n",
      "- Visa, Mastercard, American Express, PayPal 결제를 허용합니다.\n",
      "- 결제는 주문 시 처리됩니다.\n",
      "- 기프트 카드는 부분 결제에 사용할 수 없습니다.\n",
      "\n",
      "고객 질문 (QUESTION):\n",
      "안녕하세요. 지난주에 스웨터를 주문했는데 사이즈가 안 맞네요. 반품 가능할까요? 그리고 제가 부담했던 배송비도 환불받을 수 있나요? 답변 부탁드립니다!\n",
      "\n",
      "~~~~~~~~~~~\n",
      "Claude의 계획 과정:\n",
      "~~~~~~~~~~~\n",
      "<planning>\n",
      "1. 프롬프트 템플릿 요약:\n",
      "이 프롬프트 템플릿은 Acme Corporation의 고객 지원 챗봇을 정의합니다. 이 챗봇은 회사의 공식 정책 및 FAQ 문서를 참조하여 고객의 질문에 답변하는 것을 목표로 하며, 이를 통해 일관성 있고 정책에 부합하는 고객 지원 응답을 제공하고자 합니다.\n",
      "\n",
      "2. 변수 분석:\n",
      "\n",
      "DOCUMENTS:\n",
      "- Acme의 정책/법무팀이 관리할 가능성이 높음.\n",
      "- 사내 지식 베이스 또는 콘텐츠 관리 시스템(CMS)에 저장될 것으로 예상됨.\n",
      "- 구조화된 FAQ 항목 또는 정책 설명의 형태를 가짐.\n",
      "- 전문적이고 공식적인 어조 유지.\n",
      "- 다양한 주제를 포괄하는 여러 문단으로 구성됨.\n",
      "- 명확한 제목과 카테고리 분류가 되어 있음.\n",
      "- 분량: 여러 문단 (약 300-500 단어)\n",
      "\n",
      "QUESTION:\n",
      "- 최종 사용자(고객)가 작성.\n",
      "- 비공식적이고 대화적인 어조 사용.\n",
      "- 일반적으로 1~2개 문장으로 구성됨.\n",
      "- 종종 특정 상황에 대한 맥락 정보를 포함함.\n",
      "- 오타나 일상적인 표현이 포함될 수 있음.\n",
      "- 분량: 약 20-50 단어\n",
      "</planning>\n"
     ]
    }
   ],
   "source": [
    "planning_match = re.search(r'<planning>(.*?)</planning>', result, re.DOTALL)\n",
    "if planning_match and not planning_text:\n",
    "    planning_text = \"<planning>\\n\" + planning_match.group(1).strip() + \"\\n</planning>\"\n",
    "\n",
    "extracted_variables = {}\n",
    "for var in variables:\n",
    "    var_match = re.search(f'<{var}>(.*?)</{var}>', result[result.index(\"<variables>\"):], re.DOTALL)\n",
    "    if var_match:\n",
    "        extracted_variables[var] = var_match.group(1).strip()\n",
    "\n",
    "USER_EXAMPLES.append(extracted_variables)\n",
    "\n",
    "print(\"~~~~~~~~~~~\\n생성된 테스트 케이스:\\n~~~~~~~~~~~\")\n",
    "for var, value in extracted_variables.items():\n",
    "    print(f\"{var}:\\n{value}\\n\")\n",
    "        \n",
    "print(\"~~~~~~~~~~~\\nClaude의 계획 과정:\\n~~~~~~~~~~~\")\n",
    "print(planning_text)"
   ]
  },
  {
   "cell_type": "markdown",
   "id": "2e217df0",
   "metadata": {},
   "source": [
    "여기서부터 몇 가지 추가 작업을 진행할 수 있습니다. 더 많은 테스트 케이스를 생성하거나, Claude의 계획 수립 로직을 수정할 수 있습니다. Claude의 계획 수립 로직을 약간 수정해보겠습니다. 예를 들어, ACME의 FAQ 문서가 번호 매기기 목록을 사용한다는 정보를 알고 있다고 가정해봅시다. 그 외 현실적으로 적용해볼 만한 변경 사항은 다음과 같습니다:\n",
    "\n",
    "- Claude가 문서를 더 길고 상세하게 생성하도록 지시합니다.\n",
    "- Claude가 고객 지원 문의를 더 공식적이거나 덜 격식적인 어투로 생성하도록 지시합니다."
   ]
  },
  {
   "cell_type": "code",
   "execution_count": 11,
   "id": "81ab8cda",
   "metadata": {},
   "outputs": [],
   "source": [
    "planning_text = planning_text.replace(\"each with a question and answer format\", \"each with a question and answer format and associated number.\")\n",
    "# 참고: 사용자 환경의 `planning_text` 내용이 이 예시와 약간 다를 수 있으므로, 그에 맞춰 `replace` 부분을 수정해야 할 수 있습니다."
   ]
  },
  {
   "cell_type": "markdown",
   "id": "ea920b48",
   "metadata": {},
   "source": [
    "예시 목록(`USER_EXAMPLES`)을 초기화하고, 방금 수정한 계획 텍스트(`planning_text`)를 사전 제공 정보로 사용하여 새로운 테스트 케이스를 생성하겠습니다. (이렇게 하면 응답 생성 시간을 다소 절약할 수 있습니다.)"
   ]
  },
  {
   "cell_type": "code",
   "execution_count": 12,
   "id": "4a5b75de",
   "metadata": {},
   "outputs": [],
   "source": [
    "USER_EXAMPLES = []\n",
    "result = get_test_data(prompt_template, USER_EXAMPLES, planning_text)"
   ]
  },
  {
   "cell_type": "markdown",
   "id": "0f2a1e11",
   "metadata": {},
   "source": [
    "이제 수정된 계획을 통해 생성된 새로운 결과를 살펴보겠습니다."
   ]
  },
  {
   "cell_type": "code",
   "execution_count": 13,
   "id": "2baacc4d",
   "metadata": {},
   "outputs": [
    {
     "name": "stdout",
     "output_type": "stream",
     "text": [
      "~~~~~~~~~~~\n",
      "생성된 테스트 케이스:\n",
      "~~~~~~~~~~~\n",
      "DOCUMENTS:\n",
      "반품 정책\n",
      "- 상품은 구매 후 30일 이내에 원래 영수증과 함께 반품할 수 있습니다.\n",
      "- 상품은 사용하지 않은 상태여야 하며 원래 포장 상태여야 합니다.\n",
      "- 배송비는 환불되지 않습니다.\n",
      "- 영수증 없이 반품된 상품에 대해서는 스토어 크레딧이 지급됩니다.\n",
      "\n",
      "배송 정보\n",
      "- 표준 배송(5-7 영업일): $5.99\n",
      "- 특급 배송(2-3 영업일): $12.99\n",
      "- $50 이상 주문 시 표준 배송 무료\n",
      "- 현재 미국 본토 내에서만 배송합니다.\n",
      "- 알래스카 및 하와이 주문 시 추가 요금 부과\n",
      "\n",
      "결제 방법\n",
      "- Visa, Mastercard, American Express, PayPal 결제를 허용합니다.\n",
      "- 기프트 카드는 온라인 구매에 사용할 수 없습니다.\n",
      "- 결제는 주문 시 처리됩니다.\n",
      "- 모든 가격은 USD 기준입니다.\n",
      "\n",
      "QUESTION:\n",
      "안녕하세요, 지난주에 스웨터를 주문했는데 사이즈가 맞지 않아요. 반품할 수 있을까요? 태그는 그대로 있는데 영수증은 버렸어요. 감사합니다!\n",
      "\n",
      "~~~~~~~~~~~\n",
      "계획:\n",
      "~~~~~~~~~~~\n",
      "<planning>\n",
      "1. 프롬프트 템플릿 요약:\n",
      "이 템플릿은 Acme Corporation의 고객 서비스 챗봇을 만들며, 공식 회사 정책/FAQ 문서를 기반으로 고객 질문에 답변합니다. 목표는 고객 문의에 대해 일관되고 정책을 준수하는 응답을 보장하는 것입니다.\n",
      "\n",
      "2. 변수 분석:\n",
      "\n",
      "DOCUMENTS:\n",
      "- Acme의 정책/법무팀에서 관리할 가능성이 높습니다.\n",
      "- 지식 기반 또는 콘텐츠 관리 시스템에 저장됩니다.\n",
      "- 구조화된 FAQ 항목 또는 정책 설명 형식입니다.\n",
      "- 전문적이고 공식적인 어조입니다.\n",
      "- 다양한 주제를 다루는 여러 단락입니다.\n",
      "- 명확한 헤더와 카테고리가 있습니다.\n",
      "- 길이: 여러 단락 (300-500단어)\n",
      "\n",
      "QUESTION:\n",
      "- 최종 사용자/고객이 작성합니다.\n",
      "- 비공식적이고 대화적인 어조입니다.\n",
      "- 일반적으로 1-2 문장입니다.\n",
      "- 종종 특정 상황에 대한 컨텍스트를 포함합니다.\n",
      "- 오타나 비공식적인 언어가 포함될 수 있습니다.\n",
      "- 길이: 20-50단어\n",
      "</planning>\n"
     ]
    }
   ],
   "source": [
    "# 이전 단계에서와 유사하게 결과를 처리합니다.\n",
    "planning_match = re.search(r'<planning>(.*?)</planning>', result, re.DOTALL)\n",
    "if planning_match and not planning_text:\n",
    "    planning_text = \"<planning>\\n\" + planning_match.group(1).strip() + \"\\n</planning>\"\n",
    "\n",
    "extracted_variables = {}\n",
    "for var in variables:\n",
    "    var_match = re.search(f'<{var}>(.*?)</{var}>', result[result.index(\"<variables>\"):], re.DOTALL)\n",
    "    if var_match:\n",
    "        extracted_variables[var] = var_match.group(1).strip()\n",
    "\n",
    "USER_EXAMPLES.append(extracted_variables)\n",
    "\n",
    "print(\"~~~~~~~~~~~\\n생성된 테스트 케이스:\\n~~~~~~~~~~~\")\n",
    "for var, value in extracted_variables.items():\n",
    "    print(f\"{var}:\\n{value}\\n\")\n",
    "        \n",
    "print(\"~~~~~~~~~~~\\n계획:\\n~~~~~~~~~~~\")\n",
    "print(planning_text)"
   ]
  },
  {
   "cell_type": "markdown",
   "id": "b26803e4",
   "metadata": {},
   "source": [
    "좋습니다, Claude가 번호 매기기 형식의 Q&A를 생성했습니다!\n",
    "\n",
    "이제 또 다른 예시를 만들어 보겠습니다. 이번에는 이미 생성된 예시(`USER_EXAMPLES`에 추가된)를 활용하므로, 이전과는 다른 흥미로운 결과가 나올 것입니다."
   ]
  },
  {
   "cell_type": "code",
   "execution_count": 14,
   "id": "99e47007-9762-48f3-aead-1d5be5d322b5",
   "metadata": {},
   "outputs": [],
   "source": [
    "result = get_test_data(prompt_template, USER_EXAMPLES, planning_text)"
   ]
  },
  {
   "cell_type": "code",
   "execution_count": 15,
   "id": "4e66867f",
   "metadata": {},
   "outputs": [
    {
     "name": "stdout",
     "output_type": "stream",
     "text": [
      "~~~~~~~~~~~\n",
      "생성된 테스트 케이스:\n",
      "~~~~~~~~~~~\n",
      "DOCUMENTS:\n",
      "제품 보증\n",
      "- 모든 전자제품에는 1년 제한 제조업체 보증이 제공됩니다.\n",
      "- 보증은 재료 및 제조상의 결함에 적용됩니다.\n",
      "- 보증은 사고로 인한 손상이나 오용에는 적용되지 않습니다.\n",
      "- 연장 보증은 구매 후 30일 이내에 구매할 수 있습니다.\n",
      "\n",
      "가격 일치 정책\n",
      "- 공인 판매점의 가격과 일치시킵니다.\n",
      "- 상품은 동일한 모델/색상/사양이어야 합니다.\n",
      "- 경쟁사 매장에 재고가 있어야 합니다.\n",
      "- 온라인 소매업체는 가격 일치에서 제외됩니다.\n",
      "- 가격 일치 요청은 구매 시 이루어져야 합니다.\n",
      "\n",
      "주문 취소\n",
      "- 주문은 접수 후 2시간 이내에 취소할 수 있습니다.\n",
      "- 주문이 배송되면 취소할 수 없습니다.\n",
      "- 취소된 주문은 원래 결제 수단으로 환불됩니다.\n",
      "- 환불 처리 시간: 영업일 기준 3-5일\n",
      "- 취소 요청은 고객 서비스에 문의하십시오.\n",
      "\n",
      "QUESTION:\n",
      "안녕하세요, 3주 전에 귀사 매장에서 노트북을 구입했는데 무작위로 종료됩니다. 아직 보증 기간이죠? 수리하려면 어떻게 해야 하나요? 미리 감사드립니다!\n",
      "\n",
      "~~~~~~~~~~~\n",
      "계획:\n",
      "~~~~~~~~~~~\n",
      "<planning>\n",
      "1. 프롬프트 템플릿 요약:\n",
      "이 템플릿은 Acme Corporation의 고객 서비스 챗봇을 만들며, 공식 회사 정책/FAQ 문서를 기반으로 고객 질문에 답변합니다. 목표는 고객 문의에 대해 일관되고 정책을 준수하는 응답을 보장하는 것입니다.\n",
      "\n",
      "2. 변수 분석:\n",
      "\n",
      "DOCUMENTS:\n",
      "- Acme의 정책/법무팀에서 관리할 가능성이 높습니다.\n",
      "- 지식 기반 또는 콘텐츠 관리 시스템에 저장됩니다.\n",
      "- 구조화된 FAQ 항목 또는 정책 설명 형식입니다.\n",
      "- 전문적이고 공식적인 어조입니다.\n",
      "- 다양한 주제를 다루는 여러 단락입니다.\n",
      "- 명확한 헤더와 카테고리가 있습니다.\n",
      "- 길이: 여러 단락 (300-500단어)\n",
      "\n",
      "QUESTION:\n",
      "- 최종 사용자/고객이 작성합니다.\n",
      "- 비공식적이고 대화적인 어조입니다.\n",
      "- 일반적으로 1-2 문장입니다.\n",
      "- 종종 특정 상황에 대한 컨텍스트를 포함합니다.\n",
      "- 오타나 비공식적인 언어가 포함될 수 있습니다.\n",
      "- 길이: 20-50단어\n",
      "</planning>\n"
     ]
    }
   ],
   "source": [
    "# 위 셀에서 복사하여 붙여넣었습니다.\n",
    "planning_match = re.search(r'<planning>(.*?)</planning>', result, re.DOTALL)\n",
    "if planning_match and not planning_text:\n",
    "    planning_text = \"<planning>\\n\" + planning_match.group(1).strip() + \"\\n</planning>\"\n",
    "\n",
    "extracted_variables = {}\n",
    "for var in variables:\n",
    "    var_match = re.search(f'<{var}>(.*?)</{var}>', result[result.index(\"<variables>\"):], re.DOTALL)\n",
    "    if var_match:\n",
    "        extracted_variables[var] = var_match.group(1).strip()\n",
    "\n",
    "USER_EXAMPLES.append(extracted_variables)\n",
    "\n",
    "print(\"~~~~~~~~~~~\\n생성된 테스트 케이스:\\n~~~~~~~~~~~\")\n",
    "for var, value in extracted_variables.items():\n",
    "    print(f\"{var}:\\n{value}\\n\")\n",
    "        \n",
    "print(\"~~~~~~~~~~~\\n계획:\\n~~~~~~~~~~~\")\n",
    "print(planning_text)"
   ]
  },
  {
   "cell_type": "markdown",
   "id": "580cf64d",
   "metadata": {},
   "source": [
    "여전히 ACME사를 위한 고객 지원 내용이지만, 질문과 제공된 문서(지식 기반) 내용이 이전 예시들과는 다릅니다."
   ]
  },
  {
   "cell_type": "markdown",
   "id": "6c83325e",
   "metadata": {},
   "source": [
    "여기서부터는 다양한 가능성이 열려 있습니다. 반복문을 사용하여 더 많은 테스트 케이스를 자동으로 생성하거나, 계획 수립 부분을 더 정교하게 수정하거나, 생성된 테스트 케이스들을 바탕으로 Claude의 성능을 평가하거나, 혹은 만들어진 테스트 케이스와 그에 대한 이상적인 답변을 조합하여 프롬프트 내 다중 예시(multi-shot examples)로 활용할 수도 있습니다.\n",
    "\n",
    "이상적인 기준 답변을 마련하려면, 직접 처음부터 작성하거나 Claude에게 초안을 작성하도록 요청한 후 원하는 대로 수정할 수 있습니다. 최근에는 프롬프트 캐싱 기능도 등장했으므로, 성능 향상을 위해 프롬프트에 많은 예시를 추가하는 것이 그 어느 때보다 효과적인 시점입니다."
   ]
  }
 ],
 "metadata": {
  "kernelspec": {
   "display_name": "base",
   "language": "python",
   "name": "python3"
  },
  "language_info": {
   "codemirror_mode": {
    "name": "ipython",
    "version": 3
   },
   "file_extension": ".py",
   "mimetype": "text/x-python",
   "name": "python",
   "nbconvert_exporter": "python",
   "pygments_lexer": "ipython3",
   "version": "3.10.14"
  }
 },
 "nbformat": 4,
 "nbformat_minor": 5
}

[end of misc/generate_test_cases.ipynb]
