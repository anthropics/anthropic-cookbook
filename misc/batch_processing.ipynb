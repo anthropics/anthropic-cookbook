{
 "cells": [
  {
   "cell_type": "markdown",
   "metadata": {},
   "source": [
    "# 메시지 배치 API를 사용한 일괄 처리\n",
    "\n",
    "메시지 배치를 사용하면 대량의 메시지 요청을 비동기적이고 비용 효율적으로 처리할 수 있습니다. 이 가이드에서는 메시지 배치 API를 사용하여 대량 작업을 처리하며 비용을 50% 절감하는 방법을 시연합니다.\n",
    "\n",
    "이 가이드에서는 다음 작업을 수행하는 방법을 다룹니다:\n",
    "\n",
    "1. 메시지 배치 생성 및 전송\n",
    "2. 배치 처리 상태 확인\n",
    "3. 배치 결과 조회 및 처리\n",
    "4. 효율적인 배치를 위한 권장 사항 구현"
   ]
  },
  {
   "cell_type": "markdown",
   "metadata": {
    "vscode": {
     "languageId": "plaintext"
    }
   },
   "source": [
    "## 설정\n",
    "\n",
    "먼저, 필요한 라이브러리를 가져와 환경을 설정합니다."
   ]
  },
  {
   "cell_type": "code",
   "execution_count": null,
   "metadata": {},
   "outputs": [],
   "source": [
    "%pip install anthropic"
   ]
  },
  {
   "cell_type": "code",
   "execution_count": 4,
   "metadata": {},
   "outputs": [],
   "source": [
    "import anthropic\n",
    "import time\n",
    "\n",
    "client = anthropic.Anthropic()\n",
    "MODEL_NAME = \"claude-3-5-sonnet-20241022\""
   ]
  },
  {
   "cell_type": "markdown",
   "metadata": {},
   "source": [
    "## 예제 1: 기본 배치 처리\n",
    "\n",
    "메시지 요청 배치를 생성하고 그 상태를 모니터링하는 간단한 예제부터 시작하겠습니다."
   ]
  },
  {
   "cell_type": "code",
   "execution_count": 68,
   "metadata": {},
   "outputs": [
    {
     "name": "stdout",
     "output_type": "stream",
     "text": [
      "배치 ID: msgbatch_01GgqTz9XzriGNHzTSGZsJJ8\n",
      "상태: 처리 중\n",
      "생성 시각: 2024-10-08 00:46:30.694748+00:00\n"
     ]
    }
   ],
   "source": [
    "# 일괄 처리를 위한 질문 목록을 준비합니다.\n",
    "questions = [\n",
    "    \"태양광 패널은 어떻게 햇빛을 전기로 변환하나요?\",\n",
    "    \"뮤추얼 펀드와 ETF의 차이점은 무엇인가요?\",\n",
    "    \"농구에서 픽앤롤이란 무엇인가요?\",\n",
    "    \"가을에 나뭇잎 색깔이 변하는 이유는 무엇인가요?\"\n",
    "]\n",
    "\n",
    "# 배치 요청들을 생성합니다.\n",
    "batch_requests = [\n",
    "    {\n",
    "        \"custom_id\": f\"question-{i}\",\n",
    "        \"params\": {\n",
    "            \"model\": MODEL_NAME,\n",
    "            \"max_tokens\": 1024,\n",
    "            \"messages\": [\n",
    "                {\"role\": \"user\", \"content\": question}\n",
    "            ]\n",
    "        }\n",
    "    }\n",
    "    for i, question in enumerate(questions)\n",
    "]\n",
    "\n",
    "# 배치를 전송합니다.\n",
    "response = client.beta.messages.batches.create(\n",
    "    requests=batch_requests\n",
    ")\n",
    "\n",
    "print(f\"배치 ID: {response.id}\")\n",
    "print(f\"상태: {response.processing_status}\")\n",
    "print(f\"생성 시각: {response.created_at}\")"
   ]
  },
  {
   "cell_type": "markdown",
   "metadata": {},
   "source": [
    "# 배치 진행 상태 모니터링\n",
    "\n",
    "이제 배치의 처리 상태를 모니터링해 보겠습니다."
   ]
  },
  {
   "cell_type": "code",
   "execution_count": 69,
   "metadata": {},
   "outputs": [
    {
     "name": "stdout",
     "output_type": "stream",
     "text": [
      "BetaMessageBatch(id='msgbatch_01GgqTz9XzriGNHzTSGZsJJ8', cancel_initiated_at=None, created_at=datetime.datetime(2024, 10, 8, 0, 46, 30, 694748, tzinfo=datetime.timezone.utc), ended_at=None, expires_at=datetime.datetime(2024, 10, 9, 0, 46, 30, 694748, tzinfo=datetime.timezone.utc), processing_status='in_progress', request_counts=RequestCounts(canceled=0, errored=0, expired=0, processing=4, succeeded=0), results_url=None, type='message_batch')\n",
      "현재 상태: 처리 중\n",
      "BetaMessageBatch(id='msgbatch_01GgqTz9XzriGNHzTSGZsJJ8', cancel_initiated_at=None, created_at=datetime.datetime(2024, 10, 8, 0, 46, 30, 694748, tzinfo=datetime.timezone.utc), ended_at=None, expires_at=datetime.datetime(2024, 10, 9, 0, 46, 30, 694748, tzinfo=datetime.timezone.utc), processing_status='in_progress', request_counts=RequestCounts(canceled=0, errored=0, expired=0, processing=4, succeeded=0), results_url=None, type='message_batch')\n",
      "현재 상태: 처리 중\n",
      "BetaMessageBatch(id='msgbatch_01GgqTz9XzriGNHzTSGZsJJ8', cancel_initiated_at=None, created_at=datetime.datetime(2024, 10, 8, 0, 46, 30, 694748, tzinfo=datetime.timezone.utc), ended_at=None, expires_at=datetime.datetime(2024, 10, 9, 0, 46, 30, 694748, tzinfo=datetime.timezone.utc), processing_status='in_progress', request_counts=RequestCounts(canceled=0, errored=0, expired=0, processing=4, succeeded=0), results_url=None, type='message_batch')\n",
      "현재 상태: 처리 중\n",
      "BetaMessageBatch(id='msgbatch_01GgqTz9XzriGNHzTSGZsJJ8', cancel_initiated_at=None, created_at=datetime.datetime(2024, 10, 8, 0, 46, 30, 694748, tzinfo=datetime.timezone.utc), ended_at=datetime.datetime(2024, 10, 8, 0, 46, 47, 283392, tzinfo=TzInfo(UTC)), expires_at=datetime.datetime(2024, 10, 9, 0, 46, 30, 694748, tzinfo=datetime.timezone.utc), processing_status='ended', request_counts=RequestCounts(canceled=0, errored=0, expired=0, processing=0, succeeded=4), results_url='https://api.anthropic.com/v1/messages/batches/msgbatch_01GgqTz9XzriGNHzTSGZsJJ8/results', type='message_batch')\n",
      "현재 상태: 종료됨\n",
      "\n",
      "배치 처리 완료!\n",
      "\n",
      "요청 수:\n",
      "  성공: 4\n",
      "  오류 발생: 0\n",
      "  처리 중: 0\n",
      "  취소됨: 0\n",
      "  만료됨: 0\n"
     ]
    }
   ],
   "source": [
    "def monitor_batch(batch_id, polling_interval=5):\n",
    "    while True:\n",
    "        batch_update = client.beta.messages.batches.retrieve(batch_id)\n",
    "        batch_update_status = batch_update.processing_status\n",
    "        print(batch_update)\n",
    "        print(f\"현재 상태: {batch_update_status}\")\n",
    "        if batch_update_status == \"ended\":  \n",
    "            return batch_update\n",
    "        \n",
    "        time.sleep(polling_interval)\n",
    "\n",
    "# 생성된 배치의 진행 상태를 확인합니다.\n",
    "batch_result = monitor_batch(response.id) \n",
    "print(\"\\n배치 처리 완료!\")\n",
    "print(\"\\n요청 수:\")\n",
    "print(f\"  성공: {batch_result.request_counts.succeeded}\")\n",
    "print(f\"  오류 발생: {batch_result.request_counts.errored}\")\n",
    "print(f\"  처리 중: {batch_result.request_counts.processing}\")\n",
    "print(f\"  취소됨: {batch_result.request_counts.canceled}\")\n",
    "print(f\"  만료됨: {batch_result.request_counts.expired}\")"
   ]
  },
  {
   "cell_type": "markdown",
   "metadata": {},
   "source": [
    "# 결과 조회\n",
    "\n",
    "배치 작업이 완료되면, 그 결과를 조회하고 처리할 수 있습니다."
   ]
  },
  {
   "cell_type": "code",
   "execution_count": 70,
   "metadata": {},
   "outputs": [
    {
     "name": "stdout",
     "output_type": "stream",
     "text": [
      "BetaMessageBatch(id='msgbatch_01GgqTz9XzriGNHzTSGZsJJ8', cancel_initiated_at=None, created_at=datetime.datetime(2024, 10, 8, 0, 46, 30, 694748, tzinfo=datetime.timezone.utc), ended_at=datetime.datetime(2024, 10, 8, 0, 46, 47, 283392, tzinfo=TzInfo(UTC)), expires_at=datetime.datetime(2024, 10, 9, 0, 46, 30, 694748, tzinfo=datetime.timezone.utc), processing_status='ended', request_counts=RequestCounts(canceled=0, errored=0, expired=0, processing=0, succeeded=4), results_url='https://api.anthropic.com/v1/messages/batches/msgbatch_01GgqTz9XzriGNHzTSGZsJJ8/results', type='message_batch')\n",
      "처리 상태: 종료됨\n",
      "\n",
      "배치 msgbatch_01GgqTz9XzriGNHzTSGZsJJ8 요약 정보:\n",
      "처리 상태: 종료됨\n",
      "생성 시각: 2024-10-08 00:46:30.694748+00:00\n",
      "종료 시각: 2024-10-08 00:46:47.283392+00:00\n",
      "만료 시각: 2024-10-09 00:46:30.694748+00:00\n",
      "\n",
      "개별 결과:\n",
      "\n",
      "'question-0' 요청 결과:\n",
      "처리 결과: succeeded\n",
      "내용: 태양광 패널은 광전 효과라는 과정을 통해 햇빛을 전기로 변환합니다. 그 작동 방식은 다음과 같습니다:\n",
      "\n",
      "1. 태양광 패널 구성:\n",
      "태양광 패널은...\n",
      "\n",
      "'question-1' 요청 결과:\n",
      "처리 결과: succeeded\n",
      "내용: 뮤추얼 펀드와 ETF(상장지수펀드)는 투자자가 포트폴리오를 다양화하는 데 사용하는 인기 있는 투자 수단이지만, 몇 가지 주요 차이점이 있습니다:\n",
      "\n",
      "1. 거래:\n",
      "- 뮤추얼 펀드...\n",
      "\n",
      "'question-2' 요청 결과:\n",
      "처리 결과: succeeded\n",
      "내용: 픽앤롤(스크린 앤 롤이라고도 함)은 두 명의 선수가 참여하는 농구의 기본적인 공격 전술입니다. 그 방식은 다음과 같습니다:\n",
      "\n",
      "1. 볼 핸들러(일반적으로 가드)가 공을 소유하고 있습니다...\n",
      "\n",
      "'question-3' 요청 결과:\n",
      "처리 결과: succeeded\n",
      "내용: 나뭇잎은 주로 온도, 일조량, 그리고 나무의 생물학적 과정 변화와 관련된 여러 요인이 복합적으로 작용하여 가을에 색이 변합니다. 이 현상의 이유는 다음과 같습니다:\n",
      "\n",
      "1. C...\n"
     ]
    }
   ],
   "source": [
    "def process_results(batch_id):\n",
    "    # 먼저 배치의 현재 상태를 가져옵니다.\n",
    "    batch = client.beta.messages.batches.retrieve(batch_id)\n",
    "    \n",
    "    print(f\"\\n배치 {batch.id} 요약 정보:\")\n",
    "    print(f\"처리 상태: {batch.processing_status}\")\n",
    "    print(f\"생성 시각: {batch.created_at}\")\n",
    "    print(f\"종료 시각: {batch.ended_at}\")\n",
    "    print(f\"만료 시각: {batch.expires_at}\")\n",
    "    \n",
    "    if batch.processing_status == \"ended\":\n",
    "        print(\"\\n개별 결과:\")\n",
    "        for result in client.beta.messages.batches.results(batch_id):\n",
    "            print(f\"\\n'{result.custom_id}' 요청 결과:\")\n",
    "            print(f\"처리 결과: {result.result.type}\")\n",
    "            \n",
    "            if result.result.type == \"succeeded\":\n",
    "                print(f\"내용: {result.result.message.content[0].text[:200]}...\")\n",
    "            elif result.result.type == \"errored\":\n",
    "                print(\"요청 처리 중 오류 발생\")\n",
    "            elif result.result.type == \"canceled\":\n",
    "                print(\"요청이 취소되었습니다.\")\n",
    "            elif result.result.type == \"expired\":\n",
    "                print(\"요청이 만료되었습니다.\")\n",
    "\n",
    "# 사용 예시:\n",
    "batch_status = monitor_batch(response.id)\n",
    "if batch_status.processing_status == \"ended\":\n",
    "    process_results(batch_status.id)"
   ]
  },
  {
   "cell_type": "markdown",
   "metadata": {},
   "source": [
    "## 예제 2: 다양한 메시지 유형에 대한 고급 배치 처리\n",
    "\n",
    "이 예제는 오류 처리 방법을 포함하여, 단일 배치 내에서 다양한 유형의 요청(단순 메시지, 시스템 프롬프트가 포함된 메시지, 다중 턴 대화, 이미지가 포함된 메시지)을 처리하는 고급 사용법을 보여줍니다."
   ]
  },
  {
   "cell_type": "code",
   "execution_count": 63,
   "metadata": {},
   "outputs": [
    {
     "name": "stdout",
     "output_type": "stream",
     "text": [
      "복잡한 배치 ID: msgbatch_011FAkvqkL8pEskdyS3xdmNW\n"
     ]
    }
   ],
   "source": [
    "import base64\n",
    "def create_complex_batch():\n",
    "    # base64로 인코딩된 이미지를 가져오는 함수입니다.\n",
    "    def get_base64_encoded_image(image_path):\n",
    "        with open(image_path, \"rb\") as image_file:\n",
    "            binary_data = image_file.read()\n",
    "            base_64_encoded_data = base64.b64encode(binary_data)\n",
    "            base64_string = base_64_encoded_data.decode('utf-8')\n",
    "            return base64_string\n",
    "\n",
    "    # 다양한 유형의 요청들을 혼합하여 구성합니다.\n",
    "    batch_requests = [\n",
    "        {\n",
    "            \"custom_id\": \"simple-question\",\n",
    "            \"params\": {\n",
    "                \"model\": MODEL_NAME,\n",
    "                \"max_tokens\": 1024,\n",
    "                \"messages\": [\n",
    "                    {\"role\": \"user\", \"content\": \"양자 컴퓨팅이란 무엇인가요?\"}\n",
    "                ]\n",
    "            }\n",
    "        },\n",
    "        {\n",
    "            \"custom_id\": \"image-analysis\",\n",
    "            \"params\": {\n",
    "                \"model\": MODEL_NAME,\n",
    "                \"max_tokens\": 1024,\n",
    "                \"messages\": [\n",
    "                    {\n",
    "                        \"role\": \"user\",\n",
    "                        \"content\": [\n",
    "                            {\n",
    "                                \"type\": \"image\",\n",
    "                                \"source\": {\n",
    "                                    \"type\": \"base64\",\n",
    "                                    \"media_type\": \"image/jpeg\",\n",
    "                                    \"data\": get_base64_encoded_image(\"../images/sunset-dawn-nature-mountain-preview.jpg\")\n",
    "                                }\n",
    "                            },\n",
    "                            {\n",
    "                                \"type\": \"text\",\n",
    "                                \"text\": \"이 산악 풍경을 묘사해 주십시오. 하루 중 어느 시간대로 보이며, 어떤 날씨 조건이 관찰됩니까?\"\n",
    "                            }\n",
    "                        ]\n",
    "                    }\n",
    "                ]\n",
    "            }\n",
    "        },\n",
    "        {\n",
    "            \"custom_id\": \"system-prompt\",\n",
    "            \"params\": {\n",
    "                \"model\": MODEL_NAME,\n",
    "                \"max_tokens\": 1024,\n",
    "                \"system\": \"당신은 친절한 과학 선생님입니다.\",\n",
    "                \"messages\": [\n",
    "                    {\"role\": \"user\", \"content\": \"5세 어린이에게 중력에 대해 설명해주세요.\"}\n",
    "                ]\n",
    "            }\n",
    "        },\n",
    "        {\n",
    "            \"custom_id\": \"multi-turn\",\n",
    "            \"params\": {\n",
    "                \"model\": MODEL_NAME,\n",
    "                \"max_tokens\": 1024,\n",
    "                \"messages\": [\n",
    "                    {\"role\": \"user\", \"content\": \"DNA란 무엇인가요?\"},\n",
    "                    {\"role\": \"assistant\", \"content\": \"DNA는 생물의 청사진과 같습니다...\"},\n",
    "                    {\"role\": \"user\", \"content\": \"DNA는 어떻게 복제되나요?\"}\n",
    "                ]\n",
    "            }\n",
    "        }\n",
    "    ]\n",
    "    \n",
    "    try:\n",
    "        response = client.beta.messages.batches.create(\n",
    "            requests=batch_requests\n",
    "        )\n",
    "        return response.id\n",
    "    except Exception as e:\n",
    "        print(f\"배치 생성 중 오류 발생: {e}\")\n",
    "        return None\n",
    "complex_batch_id = create_complex_batch()\n",
    "print(f\"복잡한 배치 ID: {complex_batch_id}\")"
   ]
  },
  {
   "cell_type": "markdown",
   "metadata": {},
   "source": [
    "이제 해당 배치의 결과를 확인해 보겠습니다."
   ]
  },
  {
   "cell_type": "code",
   "execution_count": 64,
   "metadata": {},
   "outputs": [
    {
     "name": "stdout",
     "output_type": "stream",
     "text": [
      "BetaMessageBatch(id='msgbatch_011FAkvqkL8pEskdyS3xdmNW', cancel_initiated_at=None, created_at=datetime.datetime(2024, 10, 8, 0, 23, 58, 507550, tzinfo=datetime.timezone.utc), ended_at=None, expires_at=datetime.datetime(2024, 10, 9, 0, 23, 58, 507550, tzinfo=datetime.timezone.utc), processing_status='in_progress', request_counts=RequestCounts(canceled=0, errored=0, expired=0, processing=4, succeeded=0), results_url=None, type='message_batch')\n",
      "현재 상태: 처리 중\n",
      "BetaMessageBatch(id='msgbatch_011FAkvqkL8pEskdyS3xdmNW', cancel_initiated_at=None, created_at=datetime.datetime(2024, 10, 8, 0, 23, 58, 507550, tzinfo=datetime.timezone.utc), ended_at=None, expires_at=datetime.datetime(2024, 10, 9, 0, 23, 58, 507550, tzinfo=datetime.timezone.utc), processing_status='in_progress', request_counts=RequestCounts(canceled=0, errored=0, expired=0, processing=4, succeeded=0), results_url=None, type='message_batch')\n",
      "현재 상태: 처리 중\n",
      "BetaMessageBatch(id='msgbatch_011FAkvqkL8pEskdyS3xdmNW', cancel_initiated_at=None, created_at=datetime.datetime(2024, 10, 8, 0, 23, 58, 507550, tzinfo=datetime.timezone.utc), ended_at=None, expires_at=datetime.datetime(2024, 10, 9, 0, 23, 58, 507550, tzinfo=datetime.timezone.utc), processing_status='in_progress', request_counts=RequestCounts(canceled=0, errored=0, expired=0, processing=4, succeeded=0), results_url=None, type='message_batch')\n",
      "현재 상태: 처리 중\n",
      "BetaMessageBatch(id='msgbatch_011FAkvqkL8pEskdyS3xdmNW', cancel_initiated_at=None, created_at=datetime.datetime(2024, 10, 8, 0, 23, 58, 507550, tzinfo=datetime.timezone.utc), ended_at=None, expires_at=datetime.datetime(2024, 10, 9, 0, 23, 58, 507550, tzinfo=datetime.timezone.utc), processing_status='in_progress', request_counts=RequestCounts(canceled=0, errored=0, expired=0, processing=4, succeeded=0), results_url=None, type='message_batch')\n",
      "현재 상태: 처리 중\n",
      "BetaMessageBatch(id='msgbatch_011FAkvqkL8pEskdyS3xdmNW', cancel_initiated_at=None, created_at=datetime.datetime(2024, 10, 8, 0, 23, 58, 507550, tzinfo=datetime.timezone.utc), ended_at=None, expires_at=datetime.datetime(2024, 10, 9, 0, 23, 58, 507550, tzinfo=datetime.timezone.utc), processing_status='in_progress', request_counts=RequestCounts(canceled=0, errored=0, expired=0, processing=4, succeeded=0), results_url=None, type='message_batch')\n",
      "현재 상태: 처리 중\n",
      "BetaMessageBatch(id='msgbatch_011FAkvqkL8pEskdyS3xdmNW', cancel_initiated_at=None, created_at=datetime.datetime(2024, 10, 8, 0, 23, 58, 507550, tzinfo=datetime.timezone.utc), ended_at=None, expires_at=datetime.datetime(2024, 10, 9, 0, 23, 58, 507550, tzinfo=datetime.timezone.utc), processing_status='in_progress', request_counts=RequestCounts(canceled=0, errored=0, expired=0, processing=4, succeeded=0), results_url=None, type='message_batch')\n",
      "현재 상태: 처리 중\n",
      "BetaMessageBatch(id='msgbatch_011FAkvqkL8pEskdyS3xdmNW', cancel_initiated_at=None, created_at=datetime.datetime(2024, 10, 8, 0, 23, 58, 507550, tzinfo=datetime.timezone.utc), ended_at=datetime.datetime(2024, 10, 8, 0, 24, 27, 768229, tzinfo=TzInfo(UTC)), expires_at=datetime.datetime(2024, 10, 9, 0, 23, 58, 507550, tzinfo=datetime.timezone.utc), processing_status='ended', request_counts=RequestCounts(canceled=0, errored=0, expired=0, processing=0, succeeded=4), results_url='https://api.anthropic.com/v1/messages/batches/msgbatch_011FAkvqkL8pEskdyS3xdmNW/results', type='message_batch')\n",
      "현재 상태: 종료됨\n",
      "\n",
      "배치 msgbatch_011FAkvqkL8pEskdyS3xdmNW 요약 정보:\n",
      "처리 상태: 종료됨\n",
      "생성 시각: 2024-10-08 00:23:58.507550+00:00\n",
      "종료 시각: 2024-10-08 00:24:27.768229+00:00\n",
      "만료 시각: 2024-10-09 00:23:58.507550+00:00\n",
      "\n",
      "개별 결과:\n",
      "\n",
      "'simple-question' 요청 결과:\n",
      "처리 결과: succeeded\n",
      "내용: 양자 컴퓨팅은 양자역학의 원리를 활용하여 정보를 처리하는 첨단 컴퓨팅 방식입니다. 데이터를 0과 1의 비트로 저장하고 처리하는 기존 컴퓨터와는 달리...\n",
      "\n",
      "'image-analysis' 요청 결과:\n",
      "처리 결과: succeeded\n",
      "내용: 이 이미지는 해질녘의 숨 막히는 산악 풍경을 담고 있습니다. 태양은 멀리 보이는 산맥 뒤로 막 넘어가려는 밝은 구체처럼 보이며, 장면 전체에 따뜻한 황금빛 노을을 드리웁니다....\n",
      "\n",
      "'system-prompt' 요청 결과:\n",
      "처리 결과: succeeded\n",
      "내용: 물론입니다! 5세 어린이에게 중력을 설명하는 방법은 다음과 같습니다:\n",
      "\n",
      "중력은 지구가 자신 위에 있는 모든 것을 끌어당기는 보이지 않는 커다란 힘과 같아요. 이 힘 때문에 우리가 공중에 떠다니지 않고 땅에 발을 붙이고 서 있을 수 있는 거란다...\n",
      "\n",
      "'multi-turn' 요청 결과:\n",
      "처리 결과: succeeded\n",
      "내용: DNA 복제는 세포가 분열할 때 DNA가 스스로 복제본을 만드는 과정입니다. 그 기본적인 작동 방식은 다음과 같습니다:\n",
      "\n",
      "1. 풀림: DNA의 이중 나선 구조가 먼저 풀리고, 두 가닥이...\n"
      "\n",
      "1. 풀림: DNA의 이중 나선 구조가 풀리고 두 개가...\n"
     ]
    }
   ],
   "source": [
    "# 예제 사용법:\n",
    "batch_status = monitor_batch(complex_batch_id)\n",
    "if batch_status.processing_status == \"ended\":\n",
    "    process_results(batch_status.id)"
   ]
  }
 ],
 "metadata": {
  "kernelspec": {
   "display_name": "py311",
   "language": "python",
   "name": "python3"
  },
  "language_info": {
   "codemirror_mode": {
    "name": "ipython",
    "version": 3
   },
   "file_extension": ".py",
   "mimetype": "text/x-python",
   "name": "python",
   "nbconvert_exporter": "python",
   "pygments_lexer": "ipython3",
   "version": "3.11.6"
  }
 },
 "nbformat": 4,
 "nbformat_minor": 2
}
