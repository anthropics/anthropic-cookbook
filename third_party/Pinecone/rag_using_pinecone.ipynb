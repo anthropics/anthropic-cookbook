{
 "cells": [
  {
   "attachments": {},
   "cell_type": "markdown",
   "metadata": {},
   "source": [
    "# Retrieval-Augmented Generation using Pinecone\n",
    "\n",
    "This notebook demonstrates how to connect Claude with the data in your Pinecone vector database through a technique called retrieval-augmented generation (RAG). We will cover the following steps:\n",
    "\n",
    "1. Embedding and upserting data into Pinecone using integrated inference\n",
    "3. Querying an index from Pinecone to retrieve results\n",
    "4. Using Claude to answer questions with information from the database"
   ]
  },
  {
   "attachments": {},
   "cell_type": "markdown",
   "metadata": {},
   "source": [
    "## Setup\n",
    "First, let's install the necessary libraries and set the API keys we will need to use in this notebook. We will need to get a [Claude API key](https://docs.anthropic.com/en/api/getting-started), and a free [Pinecone API key](https://docs.pinecone.io/guides/get-started/quickstart)."
   ]
  },
  {
   "cell_type": "code",
   "execution_count": 107,
   "metadata": {},
   "outputs": [
    {
     "name": "stdout",
     "output_type": "stream",
     "text": [
      "Requirement already satisfied: anthropic in /opt/miniconda3/envs/anthropic_cb/lib/python3.13/site-packages (0.49.0)\n",
      "Requirement already satisfied: pinecone in /opt/miniconda3/envs/anthropic_cb/lib/python3.13/site-packages (6.0.2)\n",
      "Requirement already satisfied: anyio<5,>=3.5.0 in /opt/miniconda3/envs/anthropic_cb/lib/python3.13/site-packages (from anthropic) (4.9.0)\n",
      "Requirement already satisfied: distro<2,>=1.7.0 in /opt/miniconda3/envs/anthropic_cb/lib/python3.13/site-packages (from anthropic) (1.9.0)\n",
      "Requirement already satisfied: httpx<1,>=0.23.0 in /opt/miniconda3/envs/anthropic_cb/lib/python3.13/site-packages (from anthropic) (0.28.1)\n",
      "Requirement already satisfied: jiter<1,>=0.4.0 in /opt/miniconda3/envs/anthropic_cb/lib/python3.13/site-packages (from anthropic) (0.9.0)\n",
      "Requirement already satisfied: pydantic<3,>=1.9.0 in /opt/miniconda3/envs/anthropic_cb/lib/python3.13/site-packages (from anthropic) (2.11.2)\n",
      "Requirement already satisfied: sniffio in /opt/miniconda3/envs/anthropic_cb/lib/python3.13/site-packages (from anthropic) (1.3.1)\n",
      "Requirement already satisfied: typing-extensions<5,>=4.10 in /opt/miniconda3/envs/anthropic_cb/lib/python3.13/site-packages (from anthropic) (4.12.2)\n",
      "Requirement already satisfied: certifi>=2019.11.17 in /opt/miniconda3/envs/anthropic_cb/lib/python3.13/site-packages (from pinecone) (2025.1.31)\n",
      "Requirement already satisfied: pinecone-plugin-interface<0.0.8,>=0.0.7 in /opt/miniconda3/envs/anthropic_cb/lib/python3.13/site-packages (from pinecone) (0.0.7)\n",
      "Requirement already satisfied: python-dateutil>=2.5.3 in /opt/miniconda3/envs/anthropic_cb/lib/python3.13/site-packages (from pinecone) (2.9.0.post0)\n",
      "Requirement already satisfied: urllib3>=1.26.5 in /opt/miniconda3/envs/anthropic_cb/lib/python3.13/site-packages (from pinecone) (2.3.0)\n",
      "Requirement already satisfied: idna>=2.8 in /opt/miniconda3/envs/anthropic_cb/lib/python3.13/site-packages (from anyio<5,>=3.5.0->anthropic) (3.7)\n",
      "Requirement already satisfied: httpcore==1.* in /opt/miniconda3/envs/anthropic_cb/lib/python3.13/site-packages (from httpx<1,>=0.23.0->anthropic) (1.0.7)\n",
      "Requirement already satisfied: h11<0.15,>=0.13 in /opt/miniconda3/envs/anthropic_cb/lib/python3.13/site-packages (from httpcore==1.*->httpx<1,>=0.23.0->anthropic) (0.14.0)\n",
      "Requirement already satisfied: annotated-types>=0.6.0 in /opt/miniconda3/envs/anthropic_cb/lib/python3.13/site-packages (from pydantic<3,>=1.9.0->anthropic) (0.7.0)\n",
      "Requirement already satisfied: pydantic-core==2.33.1 in /opt/miniconda3/envs/anthropic_cb/lib/python3.13/site-packages (from pydantic<3,>=1.9.0->anthropic) (2.33.1)\n",
      "Requirement already satisfied: typing-inspection>=0.4.0 in /opt/miniconda3/envs/anthropic_cb/lib/python3.13/site-packages (from pydantic<3,>=1.9.0->anthropic) (0.4.0)\n",
      "Requirement already satisfied: six>=1.5 in /opt/miniconda3/envs/anthropic_cb/lib/python3.13/site-packages (from python-dateutil>=2.5.3->pinecone) (1.16.0)\n",
      "Note: you may need to restart the kernel to use updated packages.\n"
     ]
    }
   ],
   "source": [
    "%pip install anthropic pinecone"
   ]
  },
  {
   "cell_type": "code",
   "execution_count": 108,
   "metadata": {},
   "outputs": [],
   "source": [
    "# Insert your API keys here\n",
    "import os\n",
    "os.environ[\"ANTHROPIC_API_KEY\"] = \"INSERT_YOUR_API_KEY\"\n",
    "\n",
    "os.environ[\"PINECONE_API_KEY\"] = \"INSERT_YOUR_API_KEY\""
   ]
  },
  {
   "attachments": {},
   "cell_type": "markdown",
   "metadata": {},
   "source": [
    "## Download the dataset\n",
    "Now let's download the Amazon products dataset which has over 10k Amazon product descriptions and load it into a DataFrame."
   ]
  },
  {
   "cell_type": "code",
   "execution_count": 109,
   "metadata": {},
   "outputs": [
    {
     "name": "stdout",
     "output_type": "stream",
     "text": [
      "  % Total    % Received % Xferd  Average Speed   Time    Time     Time  Current\n",
      "                                 Dload  Upload   Total   Spent    Left  Speed\n",
      "100 5559k  100 5559k    0     0  26.7M      0 --:--:-- --:--:-- --:--:-- 26.7M\n"
     ]
    }
   ],
   "source": [
    "\n",
    "!curl -0 \"https://www-cdn.anthropic.com/48affa556a5af1de657d426bcc1506cdf7e2f68e/amazon-products.jsonl\" > amazon-products.jsonl\n"
   ]
  },
  {
   "cell_type": "code",
   "execution_count": 110,
   "metadata": {},
   "outputs": [
    {
     "data": {
      "text/html": [
       "<div>\n",
       "<style scoped>\n",
       "    .dataframe tbody tr th:only-of-type {\n",
       "        vertical-align: middle;\n",
       "    }\n",
       "\n",
       "    .dataframe tbody tr th {\n",
       "        vertical-align: top;\n",
       "    }\n",
       "\n",
       "    .dataframe thead th {\n",
       "        text-align: right;\n",
       "    }\n",
       "</style>\n",
       "<table border=\"1\" class=\"dataframe\">\n",
       "  <thead>\n",
       "    <tr style=\"text-align: right;\">\n",
       "      <th></th>\n",
       "      <th>text</th>\n",
       "    </tr>\n",
       "  </thead>\n",
       "  <tbody>\n",
       "    <tr>\n",
       "      <th>0</th>\n",
       "      <td>Product Name: DB Longboards CoreFlex Crossbow ...</td>\n",
       "    </tr>\n",
       "    <tr>\n",
       "      <th>1</th>\n",
       "      <td>Product Name: Electronic Snap Circuits Mini Ki...</td>\n",
       "    </tr>\n",
       "    <tr>\n",
       "      <th>2</th>\n",
       "      <td>Product Name: 3Doodler Create Flexy 3D Printin...</td>\n",
       "    </tr>\n",
       "    <tr>\n",
       "      <th>3</th>\n",
       "      <td>Product Name: Guillow Airplane Design Studio w...</td>\n",
       "    </tr>\n",
       "    <tr>\n",
       "      <th>4</th>\n",
       "      <td>Product Name: Woodstock- Collage 500 pc Puzzle...</td>\n",
       "    </tr>\n",
       "  </tbody>\n",
       "</table>\n",
       "</div>"
      ],
      "text/plain": [
       "                                                text\n",
       "0  Product Name: DB Longboards CoreFlex Crossbow ...\n",
       "1  Product Name: Electronic Snap Circuits Mini Ki...\n",
       "2  Product Name: 3Doodler Create Flexy 3D Printin...\n",
       "3  Product Name: Guillow Airplane Design Studio w...\n",
       "4  Product Name: Woodstock- Collage 500 pc Puzzle..."
      ]
     },
     "metadata": {},
     "output_type": "display_data"
    },
    {
     "data": {
      "text/plain": [
       "10002"
      ]
     },
     "execution_count": 110,
     "metadata": {},
     "output_type": "execute_result"
    }
   ],
   "source": [
    "import pandas as pd\n",
    "\n",
    "data = []\n",
    "with open('amazon-products.jsonl', 'r') as file:\n",
    "    for line in file:\n",
    "        try:\n",
    "            data.append(eval(line))\n",
    "        except:\n",
    "            pass\n",
    "\n",
    "df = pd.DataFrame(data)\n",
    "display(df.head())\n",
    "len(df)"
   ]
  },
  {
   "attachments": {},
   "cell_type": "markdown",
   "metadata": {},
   "source": [
    "## Pinecone Vector Database and Integrated Inference\n",
    "\n",
    "To create our index, we first need a free API key from Pinecone. We'll create an index with integrated inference, which\n",
    "means we specify a model hosted on Pinecone to use for embedding queries and documents. Pinecone handles the embedding for us,\n",
    "so we can pass it text directly. To learn more about integrated inference, [look here](https://docs.pinecone.io/guides/inference/understanding-inference#integrated-inference).\n",
    "\n",
    "Once we have the key, we can initialize the index as follows:"
   ]
  },
  {
   "cell_type": "code",
   "execution_count": 111,
   "metadata": {},
   "outputs": [],
   "source": [
    "from pinecone import Pinecone\n",
    "\n",
    "pc = Pinecone()\n",
    "\n",
    "dense_index_name = \"rag-with-anthropic\"\n",
    "if not pc.has_index(dense_index_name):\n",
    "    pc.create_index_for_model(\n",
    "        name=dense_index_name,\n",
    "        cloud=\"aws\",\n",
    "        region=\"us-east-1\",\n",
    "        # Chunk text will be the field we embed from our documents\n",
    "        embed={\n",
    "            \"model\":\"llama-text-embed-v2\",\n",
    "            \"field_map\":{\"text\": \"chunk_text\"}\n",
    "        }\n",
    "    )"
   ]
  },
  {
   "cell_type": "code",
   "execution_count": 112,
   "metadata": {},
   "outputs": [
    {
     "data": {
      "text/plain": [
       "{'dimension': 1024,\n",
       " 'index_fullness': 0.0,\n",
       " 'metric': 'cosine',\n",
       " 'namespaces': {'amz-products': {'vector_count': 10002}},\n",
       " 'total_vector_count': 10002,\n",
       " 'vector_type': 'dense'}"
      ]
     },
     "execution_count": 112,
     "metadata": {},
     "output_type": "execute_result"
    }
   ],
   "source": [
    "\n",
    "dense_index = pc.Index(dense_index_name)\n",
    "\n",
    "dense_index.describe_index_stats()"
   ]
  },
  {
   "attachments": {},
   "cell_type": "markdown",
   "metadata": {},
   "source": [
    "We should see that the new Pinecone index has a total_vector_count of 0, as we haven't added any vectors yet."
   ]
  },
  {
   "attachments": {},
   "cell_type": "markdown",
   "metadata": {},
   "source": [
    "## Embedding and Upserting data to Pinecone \n",
    "\n",
    "With our index set up, we can now take our product descriptions, embed them, and upsert."
   ]
  },
  {
   "cell_type": "code",
   "execution_count": 113,
   "metadata": {},
   "outputs": [],
   "source": [
    "from tqdm import tqdm\n",
    "\n",
    "descriptions = df[\"text\"].tolist()\n",
    "batch_size = 96  # how many embeddings we create and insert at once\n",
    "\n",
    "def upsert_and_embed_into_index(index, namespace, descriptions, batch_size=96):\n",
    "    for i in tqdm(range(0, len(descriptions), batch_size)):\n",
    "        # Iterate over descriptions in batches of 96, the max number of docs that can be embedded each call\n",
    "        # find end of batch\n",
    "        i_end = min(len(descriptions), i+batch_size)\n",
    "        descriptions_batch = descriptions[i:i_end]\n",
    "\n",
    "        records = [\n",
    "            {\n",
    "                \"id\": f\"description_{i+idx}\",\n",
    "                \"chunk_text\": description,\n",
    "            }\n",
    "            for idx, description in enumerate(descriptions_batch)\n",
    "        ]\n",
    "\n",
    "        # embed and upsert into Pinecone. This operation does both!\n",
    "        index.upsert_records(namespace=namespace, records=records)\n",
    "\n",
    "\n",
    "# We specify a namespace to upsert our data into.\n",
    "# We write a check to ensure that we only upsert if the index is empty or is missing vectors\n",
    "embed_condition = dense_index.describe_index_stats()[\"total_vector_count\"] == 0 or dense_index.describe_index_stats()[\"total_vector_count\"] < len(descriptions)\n",
    "if embed_condition:\n",
    "    upsert_and_embed_into_index(dense_index,\"amz-products\", descriptions)\n"
   ]
  },
  {
   "cell_type": "code",
   "execution_count": 114,
   "metadata": {},
   "outputs": [
    {
     "data": {
      "text/plain": [
       "{'dimension': 1024,\n",
       " 'index_fullness': 0.0,\n",
       " 'metric': 'cosine',\n",
       " 'namespaces': {'amz-products': {'vector_count': 10002}},\n",
       " 'total_vector_count': 10002,\n",
       " 'vector_type': 'dense'}"
      ]
     },
     "execution_count": 114,
     "metadata": {},
     "output_type": "execute_result"
    }
   ],
   "source": [
    "dense_index.describe_index_stats()"
   ]
  },
  {
   "attachments": {},
   "cell_type": "markdown",
   "metadata": {},
   "source": [
    "## Making queries\n",
    "\n",
    "With our index populated, we can start making queries to get results. We can take a natural language question, embed it, and query it against the index to return semantically similar product descriptions."
   ]
  },
  {
   "cell_type": "code",
   "execution_count": 115,
   "metadata": {},
   "outputs": [
    {
     "name": "stdout",
     "output_type": "stream",
     "text": [
      "Result 1:\n",
      "Product Name: Hey! Play! Kids Science Kit-Lab Set to Create Solutions, Litmus Paper, & More-Great Fun & Educational Stem Learning Activity for Boys & Girls\n",
      "\n",
      "About Product: Hands on learning- equipped with 4 test tubes and a holding rack, 2 beakers, dropper, measuring spoon, funnel, 3 grams of purple sweet potato powder and 10 sheets of paper filter, This is an excellent Basic starter science kit for kids! | Uses household items- The items needed for experiments that are not included with the kit are everyday items, that are easily found around the house, like scissors, plastic wrap, vinegar, baking soda, and water. | Stem activity- The science kit is a fantastic STEM (science, technology, engineering, Math) learning toy that will help your kids understand the concepts of mixing substances like acid and alkaline liquids and making things like litmus paper. | Hours of fun- this set is a wonderful gift for birthdays, holidays, or any occasion! Your little girl or boy will have hours of educational fun playing scientist and doing experiments! | Product details- kit includes 4 test tubes and holding rack, 2 beakers, dropper, measuring spoon, funnel, 3 grams of purple sweet potato powder and 10 sheets of paper filter. Needed but not included: scissors, plastic wrap, vinegar, baking soda, water.\n",
      "\n",
      "Categories: Toys & Games | Learning & Education | Science Kits & Toys 0.40262356400489807\n",
      "\n",
      "\n",
      "Result 2:\n",
      "Product Name: Scientific Explorer My First Science Kids Science Experiment Kit\n",
      "\n",
      "About Product: Experiments to spark creativity and curiosity | Grow watery crystals, create a rainbow in a plate, explore the science of color and more | Represents STEM (Science, Technology, Engineering, Math) principles – open ended toys to construct, engineer, explorer and experiment | Includes cross linked polyacrylamide, 3 color tablets, 3 mixing cups, 3 test tubes, caps and stand, pipette, mixing tray, magnifier and instructions | Recommended for children 4 years of age and older with adult supervision\n",
      "\n",
      "Categories: Toys & Games | Learning & Education | Science Kits & Toys 0.3861032724380493\n",
      "\n",
      "\n",
      "Result 3:\n",
      "Product Name: Learning Resources Primary Science Deluxe Lab Set, Science Kit, 45 Piece Set, Ages 3+\n",
      "\n",
      "About Product: SKILL DEVELOPMENT: Problem solving, Fine motor skills, Following multi-step directions, Sequential thought, Math concepts, Making predictions, Observation | SCIENCE EXPLORATION: Supports early hands-on scientific exploration through fun activities and lab gear! | ACTIVITY CARDS INCLUDED: Kids can follow the step-by-step instructions on the included activity cards and jot down their findings in the write & wipe journal | Deluxe Lab Set Includes: 2 test tubes with stand, dropper, 2 funnels, safety glasses, adjustable stand, 2 connector tubes, 3 stoppers, sensory tube with 2 lids, ViewScope with case, and 20 activity cards. | Great for any toddler ages 3+\n",
      "\n",
      "Categories: Toys & Games | Learning & Education 0.3751666247844696\n",
      "\n",
      "\n",
      "Result 4:\n",
      "Product Name: Be Amazing! Toys Universe Unboxed by Scishow: Survival Science Lab\n",
      "\n",
      "About Product: Be Amazing! Toys has partnered with Hank green, co-creator of the incredibly popular YouTube channel scissors to launch universe unboxed! Each kit also has its own YouTube playlist where host Hank green walks you through the experiments and tells you the science behind how and why it works! | Teach your kids to survive in the great outdoors! Make your own compass, filtration system and solar oven. | Kit includes materials and tools to get you started: solar oven, 3 plastic funnels, filter paper, magnet, aluminum foil, thermometer, petri dish, plastic tube, and compass card; plus gravel, sand, active carbon, superabsorbent jelly crystals, iron filing, and calcium chloride. | Easy to follow instruction guide takes you through 20 experiments | For ages 8 years and up, This is a great to get elementary School aged children up and running on the matter, Polymers, and the mystery of it all!\n",
      "\n",
      "Categories: Toys & Games | Learning & Education | Science Kits & Toys 0.35978636145591736\n",
      "\n",
      "\n",
      "Result 5:\n",
      "Product Name: Educational Insights GeoSafari Rockin' Reactions Chemistry Set\n",
      "\n",
      "About Product: Conduct fun science experiments at home with common household ingredients | Includes: beaker, 4 test tubes, test tube rack, graduated cylinder, lab glasses, dropper, funnel, stirring rod, and 22-page activity journal | Try these incredible experiments: extinguish a flame with invisible gas, make your own bubbling \"lava,\" cause chemicals to change colors, and more! | Offers foundation of basic chemical principles | Supports STEM: Pose questions, test hypotheses, analyze data, draw conclusions\n",
      "\n",
      "Categories: Toys & Games | Learning & Education | Science Kits & Toys 0.3558978736400604\n",
      "\n",
      "\n"
     ]
    }
   ],
   "source": [
    "USER_QUESTION = \"I want to get my daughter more interested in science. What kind of gifts should I get her?\"\n",
    "\n",
    "\n",
    "# search_records embeds and queries the Pinecone index in one step\n",
    "results = dense_index.search(\n",
    "    namespace=\"amz-products\", \n",
    "    query={\n",
    "        # specifies number of results to return\n",
    "        \"top_k\":5,\n",
    "        # specifies the query to embed and search for\n",
    "        \"inputs\":{\n",
    "            \"text\": USER_QUESTION\n",
    "        }\n",
    "    }\n",
    ")\n",
    "\n",
    "results = results[\"result\"][\"hits\"]\n",
    "\n",
    "for num, result in enumerate(results):\n",
    "    # Return result and score\n",
    "    print(f\"Result {num+1}:\")\n",
    "    print(result[\"fields\"][\"chunk_text\"], result[\"_score\"])\n",
    "    print(\"\\n\")\n",
    "\n"
   ]
  },
  {
   "attachments": {},
   "cell_type": "markdown",
   "metadata": {},
   "source": [
    "## Implementing keyword search using Claude and pinecone-sparse\n",
    "\n",
    "We can implement sparse search, an advanced variant of keyword search, by enriching user queries with Claude.\n",
    "\n",
    " Using Claude, we can take the user's question and generate search keywords from it. This allows us to perform a wide, diverse search over the index to get more relevant product descriptions.\n",
    "\n",
    " We'll make another index, this time with (pinecone-sparse)[https://www.pinecone.io/learn/learn-pinecone-sparse/], a sparse embedding model that is optimized for keyword search."
   ]
  },
  {
   "cell_type": "code",
   "execution_count": 116,
   "metadata": {},
   "outputs": [
    {
     "data": {
      "text/plain": [
       "{'index_fullness': 0.0,\n",
       " 'metric': 'dotproduct',\n",
       " 'namespaces': {'amz-products': {'vector_count': 10002}},\n",
       " 'total_vector_count': 10002,\n",
       " 'vector_type': 'sparse'}"
      ]
     },
     "execution_count": 116,
     "metadata": {},
     "output_type": "execute_result"
    }
   ],
   "source": [
    "# Create our sparse index\n",
    "\n",
    "sparse_index_name = \"rag-with-anthropic-sparse\"\n",
    "if not pc.has_index(sparse_index_name):\n",
    "    pc.create_index_for_model(\n",
    "        name=sparse_index_name,\n",
    "        cloud=\"aws\",\n",
    "        region=\"us-east-1\",\n",
    "        embed={\n",
    "            \"model\":\"pinecone-sparse-english-v0\",\n",
    "            \"field_map\":{\"text\": \"chunk_text\"}\n",
    "        }\n",
    "    )\n",
    "\n",
    "sparse_index = pc.Index(sparse_index_name)\n",
    "\n",
    "sparse_embed_condition = sparse_index.describe_index_stats()[\"total_vector_count\"] == 0 or sparse_index.describe_index_stats()[\"total_vector_count\"] < len(descriptions)\n",
    "\n",
    "# This time, we'll create a sparse index and embeddings. Super easy with integrated inference!\n",
    "if sparse_embed_condition:\n",
    "    upsert_and_embed_into_index(sparse_index,\"amz-products\", descriptions)\n",
    "\n",
    "sparse_index.describe_index_stats()"
   ]
  },
  {
   "cell_type": "code",
   "execution_count": 117,
   "metadata": {},
   "outputs": [],
   "source": [
    "import anthropic\n",
    "\n",
    "client = anthropic.Anthropic()\n",
    "model = \"claude-3-5-haiku-latest\"\n",
    "\n",
    "def get_completion(prompt):\n",
    "    message = client.messages.create(\n",
    "        model=model,\n",
    "        max_tokens=1000,\n",
    "        temperature=1,\n",
    "        system=\"You are a keyword generating assistant. Given a user message, you'll generate keywords to search for products.\",\n",
    "        messages=[\n",
    "            {\n",
    "                \"role\": \"user\",\n",
    "                \"content\": [\n",
    "                    {\n",
    "                        \"type\": \"text\",\n",
    "                        \"text\": f\"{prompt}\"\n",
    "                    }\n",
    "                ]\n",
    "            }\n",
    "        ]\n",
    "    )\n",
    "    return message.content"
   ]
  },
  {
   "cell_type": "code",
   "execution_count": 118,
   "metadata": {},
   "outputs": [],
   "source": [
    "def create_keyword_prompt(question):\n",
    "    return f\"\"\" \n",
    "\n",
    "\n",
    "    Given a question, generate a list of 5 very diverse search keywords that can be used to search for products on Amazon.\n",
    "\n",
    "    The question is: {question}\n",
    "\n",
    "    Output your keywords as a JSON that has one property \"keywords\" that is a list of strings. Only output valid JSON.\"\"\"\n"
   ]
  },
  {
   "attachments": {},
   "cell_type": "markdown",
   "metadata": {},
   "source": [
    "With our Anthropic client setup and our prompt created, we can now begin to generate keywords from the question. We will output the keywords in a JSON object so we can easily parse them from Claude's output."
   ]
  },
  {
   "cell_type": "code",
   "execution_count": 119,
   "metadata": {},
   "outputs": [
    {
     "name": "stdout",
     "output_type": "stream",
     "text": [
      "{\n",
      "    \"keywords\": [\n",
      "        \"stem toys for girls\",\n",
      "        \"science experiment kit for kids\",\n",
      "        \"microscope for children\",\n",
      "        \"coding toy for young girls\",\n",
      "        \"astronomy starter set\"\n",
      "    ]\n",
      "}\n"
     ]
    }
   ],
   "source": [
    "keyword_json = get_completion(create_keyword_prompt(USER_QUESTION))\n",
    "\n",
    "# grab the text, it will look like JSON in a text string\n",
    "print(keyword_json[0].text)\n"
   ]
  },
  {
   "cell_type": "code",
   "execution_count": 120,
   "metadata": {},
   "outputs": [
    {
     "name": "stdout",
     "output_type": "stream",
     "text": [
      "['stem toys for girls', 'science experiment kit for kids', 'microscope for children', 'coding toy for young girls', 'astronomy starter set']\n"
     ]
    }
   ],
   "source": [
    "import json\n",
    "\n",
    "# Extract the keywords from the JSON\n",
    "data = json.loads(keyword_json[0].text)\n",
    "keywords_list = data['keywords']\n",
    "print(keywords_list)"
   ]
  },
  {
   "attachments": {},
   "cell_type": "markdown",
   "metadata": {},
   "source": [
    "Now with our keywords in a list, let's embed each one, query it against the index, and return the top 3 most relevant product descriptions."
   ]
  },
  {
   "cell_type": "code",
   "execution_count": 121,
   "metadata": {},
   "outputs": [
    {
     "name": "stdout",
     "output_type": "stream",
     "text": [
      "Some of the results\n",
      "Product Name: The Learning Journey Techno Gears Marble Mania STEM Construction Set – Catapult Marble Run (80+ pieces) – Learning Toys & Gifts for Boys & Girls Ages 6 Years and Up\n",
      "\n",
      "About Product: KEY FEATURES – This STEM construction set features 80+ brightly colored interlocking pieces, base plates, 3-D connectors, a pendulum marble drop, a marble launcher loop, and a step-by-step instruction manual to guide you to the finished product. The Catapult aligns with STEM standards. | EDUCATIONAL BENEFITS – Supports STEM education as the Catapult builds science, technology, engineering, and mathematic skills. The mechanics of the structure include gears and will introduce the science of gear ratio. | ENHANCES COGNATIVE SKILLS – Supports problem solving, fluid reasoning, mechanics, and engineering skills. Builds confidence as children design structures that move and work. Boosts self-esteem by providing a sense of achievement once the toy is fully constructed. | SAFETY - All Learning Journey products are regularly safety tested and are in compliance with all domestic and international toy safety regulations. | AWARD-WINNING PRODUCTS – Fun fact: The Learning Journey has an extensive line of award-winning educational toys that have been tested by the most important panel of judges… kids!\n",
      "\n",
      "Categories: Toys & Games | Building Toys | Marble Runs\n",
      "\n",
      "\n",
      "Product Name: The Learning Journey Techno Kids – Stack & Spin Gears Super Set – STEM Toddler Toys & Gifts for Boys & Girls Ages 2+ Years – Mind Building Learning Toy\n",
      "\n",
      "About Product: KEY FEATURES – Techno Kids Stack & Spin Gears Super Set features over 30 eye-catching colored pieces. The interlocking gears allow toddlers to design their own pattern and provide hours of open-ended interactive fun! The Stack & Spin Gears Super Set is a great gift for both BOYS and GIRLS ages 2 years and up. | SPECS – 12 base plates, 18 colorful interlocking gears, and 1 crank handle. | EDUCATIONAL BENEFITS – Aligns with STEM (science, technology, engineering, and mathematics) standards. Creatively builds tactile, motor, thinking, and learning skills. | SUPPORTS DEVELOPMENTAL SKILLS - Improves FINE MOTOR SKILLS and DEXTERITY as little hands are challenged to fit pieces together. Builds sorting, counting, and grouping skills. Boosts CONFIDENCE and SELF-ESTEEM through play. Aids COGNITIVE function by developing problem-solving skills. | SAFETY & AWARDS - All Learning Journey products are regularly safety tested and are in compliance with all domestic and international toy safety regulations. Fun fact: The Learning Journey has an extensive line of award-winning educational toys that have been tested by the most important panel of judges… kids!\n",
      "\n",
      "Categories: Toys & Games | Baby & Toddler Toys | Sorting & Stacking Toys\n",
      "\n",
      "\n",
      "Product Name: Ravensburger Gravitrax Flip Accessory - Marble Run & STEM Toy for Boys & Girls Age 8 & Up - Accessory for 2019 Toy of The Year Finalist Gravitrax\n",
      "\n",
      "About Product: What you get – the gravitrax flip comes with 7 pieces, including 1 flip action tile, 1 long Track, 2 medium tracks, and 3 short tracks. The perfect accessory for curious kids aged 8 and up looking to add some flair to their starter set. | Innovative – gravitrax is a modular, electronic-free interactive track system where you can design and build your own race tracks and experiment with gravity, magnetism, and kinetics to propel your ball to the finish. | Clear instructions – comes with clear instructions so that you can start building and playing within minutes. | Develops critical skills – playing and building with gravitrax develops spatial reasoning and planning skills, and provides a great stealth learning experience for STEM. | As seen on TV – gravitrax was featured on 'live with Kelly and Ryan' As one of the best products shown at the 2018 new York toy fair.\n",
      "\n",
      "Categories: Toys & Games | Building Toys | Marble Runs\n",
      "\n",
      "\n",
      "Product Name: The Learning Journey Techno Gears Marble Mania STEM Construction Set – Zoomerang Marble Run (80+ pieces) – Award Winning Learning Toys & Gifts for Boys & Girls Ages 6 Years and Up\n",
      "\n",
      "About Product: KEY FEATURES – Techno Gears Marble Mania Zoomerang STEM construction set features 80+ brightly colored interlocking pieces, base plates, 3-D connectors, a corkscrew marble lifter, a funnel marble drop, and a step by step instruction manual to guide you to the finished product. After the product is built, Zoomerang will provide hours of endless learning fun. Techno Gears products are all interchangeable which provides added play value and endless building possibilities! These marble run construction sets are perfect for BOYS and GIRLS ages 6 years and up. | EDUCATIONAL BENEFITS – TGMM Zoomerang aligns with Science, Technology, Engineering, and Mathematics (STEM) education standards. | SKILL BUILDING – Supports cognitive development, problem-solving, fluid reasoning, and mechanical and engineering skills. Builds confidence as children design structures that move and work. Boosts self-esteem by providing a sense of achievement once the toy is fully constructed. | SAFETY - All Learning Journey products are regularly safety tested and are in compliance with all domestic and international toy safety regulations. | WARD-WINNING PRODUCTS – TGMM Zoomerang is the winner of the 2019 MOMS CHOICE SILVER AWARD! Fun fact: The Learning Journey has an extensive line of Award-Winning Educational Toys that have been tested by the most important panel of judges… kids!\n",
      "\n",
      "Categories: Toys & Games | Building Toys | Marble Runs\n",
      "\n",
      "\n",
      "Product Name: Brackitz Inventor Building Toy 44-Piece Set – Award-Winning STEM Kids Building Kit for Hours of Creative & Construction Fun – Educational Learning Toys for Boys & Girls Ages 3, 4, 5+ Year Olds\n",
      "\n",
      "About Product: BRING THE IMAGINED TO LIFE – From dinosaurs to spaceships, if you can dream it, you can build it! Unlike generic blocks, Brackitz building blocks provide unlimited construction possibilities with pieces that connect at any angle! | DISCOVER THE JOY OF LEARNING THROUGH PLAY – Savor exciting hours with your kids while constructing towers, ships, and animals out of these connecting toys. Entranced in creative construction, your child unknowingly practices critical thinking, problem solving, fine motor skills and more! | ADORED BY PARENTS, TEACHERS AND KIDS – Your child will have a blast while exploring the world of science, technology, engineering, and mathematics. A trusted choice by parents and teachers, these STEM learning toys are a captivating way to flex your child’s mental capabilities. Winner of the Parents Choice Award | FASCINATING FUN FOR ALL AGES – Brackitz fun building kits provide a childhood of imaginative play. Large, easily assembled blocks fit safely in a toddler’s hands, and open-ended building opportunities ignite an older child’s interest. Makes a great gift! | PERFECTLY SAFE PLAY – At Brackitz, we care for your child’s safety. We independently test your construction toys to meet Consumer Product Safety Commission standards and ensure they’re completely free of dangerous chemicals like lead, phthalates, and BPA\n",
      "\n",
      "Categories: Toys & Games | Building Toys\n",
      "\n",
      "\n",
      "25\n"
     ]
    }
   ],
   "source": [
    "results_list = []\n",
    "for keyword in keywords_list:\n",
    "    \n",
    "    search_results = sparse_index.search_records(\n",
    "        namespace=\"amz-products\", \n",
    "        query={\n",
    "                # specifies number of results to return\n",
    "                \"top_k\":5,\n",
    "                # specifies the query to embed and search for\n",
    "                \"inputs\":{\n",
    "                    \"text\": keyword\n",
    "                }\n",
    "        }\n",
    "    )\n",
    "\n",
    "    # append the search results to the list\n",
    "    for search_result in search_results[\"result\"][\"hits\"]:\n",
    "            results_list.append(search_result['fields']['chunk_text'])\n",
    "\n",
    "\n",
    "print(\"Some of the results\")\n",
    "for result in results_list[:5]:\n",
    "    print(result)\n",
    "    print(\"\\n\")\n",
    "print(len(results_list))"
   ]
  },
  {
   "attachments": {},
   "cell_type": "markdown",
   "metadata": {},
   "source": [
    "## Answering with Claude\n",
    "\n",
    "Now that we have a list of product descriptions, let's format them into a search template Claude has been trained with and pass the formatted descriptions into another prompt."
   ]
  },
  {
   "cell_type": "code",
   "execution_count": 122,
   "metadata": {},
   "outputs": [],
   "source": [
    "# Formatting search results\n",
    "def format_results(extracted: list[str]) -> str:\n",
    "        result = \"\\n\".join(\n",
    "            [\n",
    "                f'<item index=\"{i+1}\">\\n<page_content>\\n{r}\\n</page_content>\\n</item>'\n",
    "                for i, r in enumerate(extracted)\n",
    "            ]\n",
    "        )\n",
    "    \n",
    "        return f\"\\n<search_results>\\n{result}\\n</search_results>\"\n",
    "\n",
    "def create_answer_prompt(results_list, question):\n",
    "    return f\"\"\"\\n\\nHuman: {format_results(results_list)} Using the search results provided within the <search_results></search_results> tags, please answer the following question <question>{question}</question>. Do not reference the search results in your answer.\\n\\nAssistant:\"\"\"\n"
   ]
  },
  {
   "cell_type": "code",
   "execution_count": 123,
   "metadata": {},
   "outputs": [
    {
     "name": "stdout",
     "output_type": "stream",
     "text": [
      "\n",
      "\n",
      "Human: \n",
      "<search_results>\n",
      "<item index=\"1\">\n",
      "<page_content>\n",
      "Product Name: The Learning Journey Techno Gears Marble Mania STEM Construction Set – Catapult Marble Run (80+ pieces) – Learning Toys & Gifts for Boys & Girls Ages 6 Years and Up\n",
      "\n",
      "About Product: KEY FEATURES – This STEM construction set features 80+ brightly colored interlocking pieces, base plates, 3-D connectors, a pendulum marble drop, a marble launcher loop, and a step-by-step instruction manual to guide you to the finished product. The Catapult aligns with STEM standards. | EDUCATIONAL BENEFITS – Supports STEM education as the Catapult builds science, technology, engineering, and mathematic skills. The mechanics of the structure include gears and will introduce the science of gear ratio. | ENHANCES COGNATIVE SKILLS – Supports problem solving, fluid reasoning, mechanics, and engineering skills. Builds confidence as children design structures that move and work. Boosts self-esteem by providing a sense of achievement once the toy is fully constructed. | SAFETY - All Learning Journey products are regularly safety tested and are in compliance with all domestic and international toy safety regulations. | AWARD-WINNING PRODUCTS – Fun fact: The Learning Journey has an extensive line of award-winning educational toys that have been tested by the most important panel of judges… kids!\n",
      "\n",
      "Categories: Toys & Games | Building Toys | Marble Runs\n",
      "</page_content>\n",
      "</item>\n",
      "<item index=\"2\">\n",
      "<page_content>\n",
      "Product Name: The Learning Journey Techno Kids – Stack & Spin Gears Super Set – STEM Toddler Toys & Gifts for Boys & Girls Ages 2+ Years – Mind Building Learning Toy\n",
      "\n",
      "About Product: KEY FEATURES – Techno Kids Stack & Spin Gears Super Set features over 30 eye-catching colored pieces. The interlocking gears allow toddlers to design their own pattern and provide hours of open-ended interactive fun! The Stack & Spin Gears Super Set is a great gift for both BOYS and GIRLS ages 2 years and up. | SPECS – 12 base plates, 18 colorful interlocking gears, and 1 crank handle. | EDUCATIONAL BENEFITS – Aligns with STEM (science, technology, engineering, and mathematics) standards. Creatively builds tactile, motor, thinking, and learning skills. | SUPPORTS DEVELOPMENTAL SKILLS - Improves FINE MOTOR SKILLS and DEXTERITY as little hands are challenged to fit pieces together. Builds sorting, counting, and grouping skills. Boosts CONFIDENCE and SELF-ESTEEM through play. Aids COGNITIVE function by developing problem-solving skills. | SAFETY & AWARDS - All Learning Journey products are regularly safety tested and are in compliance with all domestic and international toy safety regulations. Fun fact: The Learning Journey has an extensive line of award-winning educational toys that have been tested by the most important panel of judges… kids!\n",
      "\n",
      "Categories: Toys & Games | Baby & Toddler Toys | Sorting & Stacking Toys\n",
      "</page_content>\n",
      "</item>\n",
      "<item index=\"3\">\n",
      "<page_content>\n",
      "Product Name: Ravensburger Gravitrax Flip Accessory - Marble Run & STEM Toy for Boys & Girls Age 8 & Up - Accessory for 2019 Toy of The Year Finalist Gravitrax\n",
      "\n",
      "About Product: What you get – the gravitrax flip comes with 7 pieces, including 1 flip action tile, 1 long Track, 2 medium tracks, and 3 short tracks. The perfect accessory for curious kids aged 8 and up looking to add some flair to their starter set. | Innovative – gravitrax is a modular, electronic-free interactive track system where you can design and build your own race tracks and experiment with gravity, magnetism, and kinetics to propel your ball to the finish. | Clear instructions – comes with clear instructions so that you can start building and playing within minutes. | Develops critical skills – playing and building with gravitrax develops spatial reasoning and planning skills, and provides a great stealth learning experience for STEM. | As seen on TV – gravitrax was featured on 'live with Kelly and Ryan' As one of the best products shown at the 2018 new York toy fair.\n",
      "\n",
      "Categories: Toys & Games | Building Toys | Marble Runs\n",
      "</page_content>\n",
      "</item>\n",
      "<item index=\"4\">\n",
      "<page_content>\n",
      "Product Name: The Learning Journey Techno Gears Marble Mania STEM Construction Set – Zoomerang Marble Run (80+ pieces) – Award Winning Learning Toys & Gifts for Boys & Girls Ages 6 Years and Up\n",
      "\n",
      "About Product: KEY FEATURES – Techno Gears Marble Mania Zoomerang STEM construction set features 80+ brightly colored interlocking pieces, base plates, 3-D connectors, a corkscrew marble lifter, a funnel marble drop, and a step by step instruction manual to guide you to the finished product. After the product is built, Zoomerang will provide hours of endless learning fun. Techno Gears products are all interchangeable which provides added play value and endless building possibilities! These marble run construction sets are perfect for BOYS and GIRLS ages 6 years and up. | EDUCATIONAL BENEFITS – TGMM Zoomerang aligns with Science, Technology, Engineering, and Mathematics (STEM) education standards. | SKILL BUILDING – Supports cognitive development, problem-solving, fluid reasoning, and mechanical and engineering skills. Builds confidence as children design structures that move and work. Boosts self-esteem by providing a sense of achievement once the toy is fully constructed. | SAFETY - All Learning Journey products are regularly safety tested and are in compliance with all domestic and international toy safety regulations. | WARD-WINNING PRODUCTS – TGMM Zoomerang is the winner of the 2019 MOMS CHOICE SILVER AWARD! Fun fact: The Learning Journey has an extensive line of Award-Winning Educational Toys that have been tested by the most important panel of judges… kids!\n",
      "\n",
      "Categories: Toys & Games | Building Toys | Marble Runs\n",
      "</page_content>\n",
      "</item>\n",
      "<item index=\"5\">\n",
      "<page_content>\n",
      "Product Name: Brackitz Inventor Building Toy 44-Piece Set – Award-Winning STEM Kids Building Kit for Hours of Creative & Construction Fun – Educational Learning Toys for Boys & Girls Ages 3, 4, 5+ Year Olds\n",
      "\n",
      "About Product: BRING THE IMAGINED TO LIFE – From dinosaurs to spaceships, if you can dream it, you can build it! Unlike generic blocks, Brackitz building blocks provide unlimited construction possibilities with pieces that connect at any angle! | DISCOVER THE JOY OF LEARNING THROUGH PLAY – Savor exciting hours with your kids while constructing towers, ships, and animals out of these connecting toys. Entranced in creative construction, your child unknowingly practices critical thinking, problem solving, fine motor skills and more! | ADORED BY PARENTS, TEACHERS AND KIDS – Your child will have a blast while exploring the world of science, technology, engineering, and mathematics. A trusted choice by parents and teachers, these STEM learning toys are a captivating way to flex your child’s mental capabilities. Winner of the Parents Choice Award | FASCINATING FUN FOR ALL AGES – Brackitz fun building kits provide a childhood of imaginative play. Large, easily assembled blocks fit safely in a toddler’s hands, and open-ended building opportunities ignite an older child’s interest. Makes a great gift! | PERFECTLY SAFE PLAY – At Brackitz, we care for your child’s safety. We independently test your construction toys to meet Consumer Product Safety Commission standards and ensure they’re completely free of dangerous chemicals like lead, phthalates, and BPA\n",
      "\n",
      "Categories: Toys & Games | Building Toys\n",
      "</page_content>\n",
      "</item>\n",
      "<item index=\"6\">\n",
      "<page_content>\n",
      "Product Name: Scientific Explorer My First Science Kids Science Experiment Kit\n",
      "\n",
      "About Product: Experiments to spark creativity and curiosity | Grow watery crystals, create a rainbow in a plate, explore the science of color and more | Represents STEM (Science, Technology, Engineering, Math) principles – open ended toys to construct, engineer, explorer and experiment | Includes cross linked polyacrylamide, 3 color tablets, 3 mixing cups, 3 test tubes, caps and stand, pipette, mixing tray, magnifier and instructions | Recommended for children 4 years of age and older with adult supervision\n",
      "\n",
      "Categories: Toys & Games | Learning & Education | Science Kits & Toys\n",
      "</page_content>\n",
      "</item>\n",
      "<item index=\"7\">\n",
      "<page_content>\n",
      "Product Name: Steve Spangler's Newton's Beads Science Experiment Kit Activity for Kids\n",
      "\n",
      "About Product: LEARN ABOUT PHYSICS: This science kit addition will teach young scientists how to harness and understand physics like inertia and potential energy. | EASY TO DEMONSTRATE: The setup and performance of the Newton's Beads demonstration is quick and easy so you can easily demonstrate to any class more than just once. | CLASSROOM ESSENTIAL: This science experiment kit makes for the perfect demonstration of important physics concepts that will provide a helpful visual for many young scientists. | FUN OR ALL AGES: Young scientists will love to watch and learn from Newtons' Beads while also learning about important concepts in physics though this fun science kit. | EVERYTHING YOU NEED: This kit comes equipped with everything you'll need to conduct these experiments so young scientists can get right to learning about physics.\n",
      "\n",
      "Categories: Toys & Games | Learning & Education | Science Kits & Toys\n",
      "</page_content>\n",
      "</item>\n",
      "<item index=\"8\">\n",
      "<page_content>\n",
      "Product Name: Scientific Explorer Glow in The Dark Fun Lab Kids Science Experiment Kit\n",
      "\n",
      "About Product: 5 awesome glowing activities, including making glow in the dark slime and a human powered light bulb | 30 glow in the dark stars for making constellations on the ceiling | Kids learn science as they play | Includes zinc sulfide, sodium tetraborate, measuring scoop, test tubes, vegetable oil, neon bulb, pipette, adhesive putty and manual | Recommended for children 8-years of age and older\n",
      "\n",
      "Categories: Toys & Games | Learning & Education | Science Kits & Toys\n",
      "</page_content>\n",
      "</item>\n",
      "<item index=\"9\">\n",
      "<page_content>\n",
      "Product Name: Hey! Play! Kids Science Kit-Lab Set to Create Solutions, Litmus Paper, & More-Great Fun & Educational Stem Learning Activity for Boys & Girls\n",
      "\n",
      "About Product: Hands on learning- equipped with 4 test tubes and a holding rack, 2 beakers, dropper, measuring spoon, funnel, 3 grams of purple sweet potato powder and 10 sheets of paper filter, This is an excellent Basic starter science kit for kids! | Uses household items- The items needed for experiments that are not included with the kit are everyday items, that are easily found around the house, like scissors, plastic wrap, vinegar, baking soda, and water. | Stem activity- The science kit is a fantastic STEM (science, technology, engineering, Math) learning toy that will help your kids understand the concepts of mixing substances like acid and alkaline liquids and making things like litmus paper. | Hours of fun- this set is a wonderful gift for birthdays, holidays, or any occasion! Your little girl or boy will have hours of educational fun playing scientist and doing experiments! | Product details- kit includes 4 test tubes and holding rack, 2 beakers, dropper, measuring spoon, funnel, 3 grams of purple sweet potato powder and 10 sheets of paper filter. Needed but not included: scissors, plastic wrap, vinegar, baking soda, water.\n",
      "\n",
      "Categories: Toys & Games | Learning & Education | Science Kits & Toys\n",
      "</page_content>\n",
      "</item>\n",
      "<item index=\"10\">\n",
      "<page_content>\n",
      "Product Name: The Purple Cow - Optical Illusions Science Kit for Kids - from The Famous Crazy Scientist LAB Series\n",
      "\n",
      "About Product: Are we really seeing reality as it is? As you will see after playing with this wonderful science kit, reality is not always as we see it…. | Optical Illusions from A-Z: This science kit includes a plethora of engaging science experiments for kids covering a wide variety of optical illusions including: double meaning illusions, movement illusions, distorting illusions and others | Science made fun: You will build a piggy bank that keeps your money safe (or make it disappear…), explore color illusions, with special spinners and much more. 14 experiments inside! | Optical Illusions STEM education kit: this kit offers science experiments for kids 6-8 (at times with some parental guidance) or science experiments for kids 9-12 (working independently) | Award Winning: This kit won the prestigious Oppenheim Gold Seal Award!\n",
      "\n",
      "Categories: Toys & Games | Learning & Education | Science Kits & Toys\n",
      "</page_content>\n",
      "</item>\n",
      "<item index=\"11\">\n",
      "<page_content>\n",
      "Product Name: Nature Explorer Microscope for Kids\n",
      "\n",
      "About Product: The Nature Explorer Microscope lets kids get up close to nature, up to 40 times closer! | Includes adjustable 40X microscope, plastic tweezers and specimen tube. | This microscope has LED lights and field notes. | No batteries needed. | Recommended for age 3 years and up.\n",
      "\n",
      "Categories: Toys & Games | Learning & Education | Optics | Microscopes\n",
      "</page_content>\n",
      "</item>\n",
      "<item index=\"12\">\n",
      "<page_content>\n",
      "Product Name: Learning Resources Primary Microscope with 10X, 30X, 50X Magnification, Stem, Science Activities, Ages 6+\n",
      "\n",
      "About Product: Spark an interest in science and promote countless early STEM activities with this durable, easy-to-use microscope | Features top and bottom lighting, along with a mirror for natural lighting | Offers magnifications of 10x, 30x, and 50x | Can be operated with AC Adapter (available separately) or 2 AA batteries, not included | Ideal for ages 6+\n",
      "\n",
      "Categories: Toys & Games | Learning & Education | Optics | Microscopes\n",
      "</page_content>\n",
      "</item>\n",
      "<item index=\"13\">\n",
      "<page_content>\n",
      "Product Name: Heathrow Scientific HD15981B Polyethylene Microscope Slide Holder, 78 Slide, 299mm Length x 178mm Width x 21mm Height\n",
      "\n",
      "About Product: Slide holder with inclined channels for cleaning and drying microscope slides | Holds 1 x 3\" and 2 x 3\" microscope slides (sold separately) | Polyethylene construction for durability and chemical resistance | Assorted sizes hold up to 15, 40, or 78 slides\n",
      "\n",
      "Categories: Industrial & Scientific | Lab & Scientific Products | Lab Instruments & Equipment | Microscopes & Equipment | Microscope Accessories | Slide Holders\n",
      "</page_content>\n",
      "</item>\n",
      "<item index=\"14\">\n",
      "<page_content>\n",
      "Product Name: IQCREW 1200X Kids Microscope Toy Set with Slides Preparation Kit + Microscope Book\n",
      "\n",
      "About Product: \n",
      "\n",
      "Categories: Toys & Games | Learning & Education | Optics | Microscopes\n",
      "</page_content>\n",
      "</item>\n",
      "<item index=\"15\">\n",
      "<page_content>\n",
      "Product Name: American Educational Glass Microscope Cover Slip, 18mm Length, 18mm Width, #2 Thickness (Bundle of 800)\n",
      "\n",
      "About Product: \n",
      "\n",
      "Categories: Industrial & Scientific | Lab & Scientific Products | Lab Instruments & Equipment | Microscopes & Equipment | Microscope Accessories | Slide Cover Slips\n",
      "</page_content>\n",
      "</item>\n",
      "<item index=\"16\">\n",
      "<page_content>\n",
      "Product Name: Ride On Toy Go Kart, Pedal Powered Ride On Toy by Lil' Rider – Ride On Toys for Boys and Girls, For 3 – 7 Year Olds (Black)\n",
      "\n",
      "About Product: EASY TO RIDE – Smooth, quiet and simple to ride for your toddler or young child. This Ride on Toy Go Cart offers effortless operation with no gears or batteries that require charging. Simply just start to pedal and your kid is ready to get moving. | USE IT ANYWHERE – All you need is a smooth, flat surface to have your kids on-the-go. Perfect for both outdoor AND indoor playing and can easily be used on any hard surface or even on grass. This pedaling go-cart gives your child control over their own speed and is a fantastic way to keep kids active and moving! | SAFE AND DURABLE – Lil’ Rider makes kids toys that are not only fun but safe. All toys are safety tested, free of banned phthalates, and provides healthy exercise and plenty of fun! Made from rugged high-quality plastics that can hold up to 55 lbs. of weight. Makes for great toys for boys and girls, ages 3-7. | PRODUCT DETAILS – Ride on Pedal Go Cart is completely washable and easy to clean. Usage should always be under direct supervision of an adult. Measures: 37 x 25 x 20 inches. Materials: Plastic and Carbon Steel. No Battery Required. Color: [Black with yellow decals] | SATISFACTION GUARANTEED – Lil’ Rider is committed to providing consumers with the absolute best price and value on our entire line of products. NOTE: This is an exclusive product of Lil’ Rider and ONLY Ride on Pedal Go Kart by Lil’ Rider are GUARANTEED to be genuine.\n",
      "\n",
      "Categories: Toys & Games | Tricycles, Scooters & Wagons | Ride-On Toys & Accessories\n",
      "</page_content>\n",
      "</item>\n",
      "<item index=\"17\">\n",
      "<page_content>\n",
      "Product Name: The Young Scientists Club Science Art Fusion Rainbows Kit\n",
      "\n",
      "About Product: Great hands on learning and educational science STEM kit for boys and girls which encourages STEM learning for ages 5+ | This unique series has Young Scientist making Art and Learning Science | Young Scientists create their own Rainbow art gallery with the included poster and make all kinds of rainbows such as rainbow ice, rainbow butterflies, rainbow chromatography snake, and more. | All our mind blowing science kits are developed by a team of Harvard graduates, scientists, and educators and are put on the market after it has passed the ultimate test-approval by multiple teams of Young Scientists at our annual camps. | Kit comes with all supplies needed (except for common household items) and detailed experiment poster with guidance to make this educational art rainbow themed science STEM kit for kids a great learning toy.\n",
      "\n",
      "Categories: Toys & Games | Learning & Education | Science Kits & Toys\n",
      "</page_content>\n",
      "</item>\n",
      "<item index=\"18\">\n",
      "<page_content>\n",
      "Product Name: Ride on Toy, Remote Control Space Car for Kids by Lil' Rider – Battery Powered, Toys for Boys and Girls, 2- 6 Year Old\n",
      "\n",
      "About Product: 75% Plastic and 25% Metal | USE IT ANYWHERE – All you need is a smooth, flat surface to have your kids on-the-go! Perfect for both outdoor AND indoor playing and can easily be used on any hard, flat surface. | EASY TO RIDE – This push-to-start ride on car is smooth and simple to ride for your toddler or young child. Charge the battery according to the included instruction manual- then simply just turn it on, press the pedal, and go! Also comes with futuristic car details that your lil rider will surely love: Car sound effects, Reverse ability, Working horn, LED Lights, and even an auxiliary input for MP3’s with volume control. | SAFE AND DURABLE – Lil’ Rider makes kids toys that are not only fun but safe. All toys are safety tested, free of banned phthalates, and provides healthy exercise and plenty of fun! Made from rugged high-quality plastics that can hold up to 60 lbs. of weight. Makes for great toys for boys and girls. Recommended ages: 2 – 6 years old. | PRODUCT DETAILS – The remote-controlled car is completely washable and easy to clean. Usage should always be under direct supervision of an adult. Battery: 12V, 7Ah, Speed: 2.5 mph, Input: 110V/220V 50-60Hz, Output: DC 500MA, Dimensions: 26 x 17 x 22 inches, Minimal assembly required. Includes: Remote Control (batteries not included) and Auxiliary Cord, Battery Duration Time: 2 Hours if Fully Charged, Color: Black and White | SATISFACTION GUARANTEED – Lil’ Rider is committed to providing consumers with the absolute best price and value on our entire line of products. NOTE: This is an exclusive product of Lil’ Rider and ONLY Ride on Toy, Remote Control Space Car by Lil’ Rider are GUARANTEED to be genuine.\n",
      "\n",
      "Categories: \n",
      "</page_content>\n",
      "</item>\n",
      "<item index=\"19\">\n",
      "<page_content>\n",
      "Product Name: Fisher-Price Think & Learn Code-a-Pillar Twist with Fisher-Price Wonder Makers Airport Hanger\n",
      "\n",
      "About Product: ​Early coding and problem-solving toy for preschoolers ages 3-6 years | ​1 motorized head and 5 permanently attached segments | Kids ages 3 years and older can design, build, and create their own stories with this airplane hangar play set! | 15+ pieces, including wooden track pieces, connector, a 3-piece vehicle, pilot character, soft fabric flag, and play pieces\n",
      "\n",
      "Categories: \n",
      "</page_content>\n",
      "</item>\n",
      "<item index=\"20\">\n",
      "<page_content>\n",
      "Product Name: SainSmart Jr. Pretend Princess Girls Vanity Table with Fairy Infrared Control and MP3 Music Playing, Princess Dressing Makeup Table, with Mirror, Cosmetics and Working Hair Dryer\n",
      "\n",
      "About Product: DREAM KIDS VANITY SET: Beautiful Dressing table toy for little girls of age 3+ equipped with every kind of item; infrared controller, working hair dryer, comb, bracelets, perfume bottle, lipsticks, makeup brushes and luxurious dressing table & chair | FAIRY INFRARED CONTROL MIRROR: When you press the function button on the fairy infrared controller, the mirror door will open slowly with playing music and flashing light at the same time. Press again; the door will close slowly, music stop and the light to be off | MUSIC PLAYING FUNCTION: With MP3/phone music input function, you could enjoy favorite music when you use this vanity table. There is a loud speaker on the back of the table | DURABLE AND SMOOTH: Made from good quality non-easily breakable plastic, this is perfect for all sorts of uses by preschooler girls. The toy set comprises of top materials and elements in a strong, reliable manufacture, the toy quality is unquestionable | WELL PACKAGE AND EASY INSTALL: It was packaged with a colorful paper box, ensure the cosmetics accessories will not lose or damage. Your little girl could follow the instruction and so pleasure to install it up. It is not hard to do it and it will train her hands-on ability\n",
      "\n",
      "Categories: Toys & Games | Dress Up & Pretend Play | Beauty & Fashion | Vanities\n",
      "</page_content>\n",
      "</item>\n",
      "<item index=\"21\">\n",
      "<page_content>\n",
      "Product Name: Modiphius Games Star Trek Adventures Starter Set\n",
      "\n",
      "About Product: A starter set with everything you need for roleplaying in the Star Trek Galaxy! | Contains everything you need to begin your journey to the final frontier | Ages 12 and up\n",
      "\n",
      "Categories: Toys & Games | Games & Accessories | Card Games\n",
      "</page_content>\n",
      "</item>\n",
      "<item index=\"22\">\n",
      "<page_content>\n",
      "Product Name: Kryptonics Starter Knee, Elbow, Wrist Pad Set, Grey\n",
      "\n",
      "About Product: Protective, adjustable 3-item set that includes knee, elbow, and wrist pads for children | Injection molded plastic pads provide shock dissipation and softens impact of falls | Pads are easy to take on and off with elasticized nylon straps and high impact buckles | Lightweight polyester fabric of pads wicks away moisture for superior comfort | Recommended for ages 5-9 years for optimal fit\n",
      "\n",
      "Categories: Sports & Outdoors | Outdoor Recreation | Skates, Skateboards & Scooters | Skateboarding | Protective Gear\n",
      "</page_content>\n",
      "</item>\n",
      "<item index=\"23\">\n",
      "<page_content>\n",
      "Product Name: Learning Resources LER6356 Interlocking Base Ten Starter Set\n",
      "\n",
      "About Product: Units are made of durable, washable plastic for years of hands-on activities | Help students understand abstract base ten concepts; including place value, estimation, operations and fractions | 141 pieces include: 100 units, 30 rods, 10 flats, 1 cube, and 96-page Base Ten Activity Book | Starter set perfect for use with 3-4 students | Ideal for ages 6+\n",
      "\n",
      "Categories: Toys & Games | Learning & Education | Counting & Math Toys\n",
      "</page_content>\n",
      "</item>\n",
      "<item index=\"24\">\n",
      "<page_content>\n",
      "Product Name: Hape Gourmet Play Kitchen Starter Accessories Wooden Play Set\n",
      "\n",
      "About Product: Perfect starter set to accompany Hape wood kitchens | Includes cookware, basic food and utensils | Encourages children to utilize creativity and role-play | Non-toxic finishes and child safe materials | For ages 3 and up\n",
      "\n",
      "Categories: Toys & Games | Dress Up & Pretend Play | Pretend Play | Kitchen Toys | Kitchen Playsets\n",
      "</page_content>\n",
      "</item>\n",
      "<item index=\"25\">\n",
      "<page_content>\n",
      "Product Name: Learning Resources Brights Base 10 Starter Set\n",
      "\n",
      "About Product: These bright colorful cubes are made of durable plastic | Help students understand abstract base ten concepts; including place value, estimation, operations and fractions | Set includes: 100 individual bright and colorful units, 30 rods, 10 flats, 1 cube, and 107 page Base Ten Book | For 3-4 students | Ages 6+\n",
      "\n",
      "Categories: Toys & Games | Learning & Education | Counting & Math Toys\n",
      "</page_content>\n",
      "</item>\n",
      "</search_results> Using the search results provided within the <search_results></search_results> tags, please answer the following question <question>I want to get my daughter more interested in science. What kind of gifts should I get her?</question>. Do not reference the search results in your answer.\n",
      "\n",
      "Assistant:\n"
     ]
    }
   ],
   "source": [
    "print(create_answer_prompt(results_list, USER_QUESTION))"
   ]
  },
  {
   "attachments": {},
   "cell_type": "markdown",
   "metadata": {},
   "source": [
    "Finally, let's ask the original user's question and get our answer from Claude."
   ]
  },
  {
   "cell_type": "code",
   "execution_count": 124,
   "metadata": {},
   "outputs": [],
   "source": [
    "answer = get_completion(create_answer_prompt(results_list, USER_QUESTION))\n"
   ]
  },
  {
   "cell_type": "code",
   "execution_count": 125,
   "metadata": {},
   "outputs": [
    {
     "name": "stdout",
     "output_type": "stream",
     "text": [
      "Based on the search results, here are some excellent gift ideas to help spark your daughter's interest in science:\n",
      "\n",
      "1. Science Experiment Kits\n",
      "- These are fantastic STEM (Science, Technology, Engineering, Math) learning toys that make science fun and hands-on\n",
      "- Options include:\n",
      "  * Scientific Explorer My First Science Kit (for ages 4+)\n",
      "  * The Young Scientists Club Science Art Fusion Rainbows Kit (for ages 5+)\n",
      "  * A Glow in the Dark Science Experiment Kit\n",
      "  * An Optical Illusions Science Kit\n",
      "\n",
      "2. Microscopes\n",
      "- Great for exploring nature and developing scientific curiosity\n",
      "- Kid-friendly options like:\n",
      "  * Nature Explorer Microscope (for ages 3+)\n",
      "  * Learning Resources Primary Microscope (for ages 6+)\n",
      "  * IQCREW Kids Microscope Set with Slides\n",
      "\n",
      "3. STEM Building Toys\n",
      "- Encourage problem-solving and engineering skills\n",
      "- Examples include:\n",
      "  * Brackitz Inventor Building Kit\n",
      "  * The Learning Journey Techno Gears Sets\n",
      "  * Marble Run construction sets\n",
      "\n",
      "These gifts are designed to be educational, engaging, and fun, which can help inspire a love of science in young girls.\n"
     ]
    }
   ],
   "source": [
    "print(answer[0].text)"
   ]
  },
  {
   "cell_type": "markdown",
   "metadata": {},
   "source": [
    "## Putting it all together"
   ]
  },
  {
   "cell_type": "code",
   "execution_count": 126,
   "metadata": {},
   "outputs": [
    {
     "name": "stdout",
     "output_type": "stream",
     "text": [
      "Found keywords:\n",
      "['science experiment kit for girls', 'coding toys for young female learners', 'microscope for children', 'STEM educational gifts', 'astronomy telescope for kids']\n",
      "Based on the search results, here are some excellent science-focused gift ideas to help spark your daughter's interest in science:\n",
      "\n",
      "1. Educational Science Kits\n",
      "- The Young Scientists Club Science Art Fusion Rainbows Kit (ages 5+)\n",
      "- Hey! Play! Kids Science Kit with test tubes and experiments\n",
      "- ScienceWiz Energy Experiment Kit (ages 8+)\n",
      "\n",
      "2. STEM Learning Toys\n",
      "- Engino Junior Robotics Set for learning coding and engineering\n",
      "- The Learning Journey Techno Gears Marble Mania sets\n",
      "- ALEX Toys Future Coders Robot Races Coding Skills Kit (ages 4+)\n",
      "\n",
      "3. Exploration Tools\n",
      "- Nature Explorer Microscope (allows kids to examine things up close)\n",
      "- Kids Telescope for astronomy and nature observation\n",
      "- Learning Resources Primary Microscope with multiple magnification levels\n",
      "\n",
      "4. Hands-On Learning Options\n",
      "- Design & Drill See-Through Creative Workshop\n",
      "- Educational science experiment kits that teach physics, chemistry, and other scientific principles\n",
      "\n",
      "The key is to choose age-appropriate kits that make science fun, interactive, and engaging. Look for options that offer hands-on experiments, colorful components, and clear instructions to help maintain her interest and curiosity.\n"
     ]
    }
   ],
   "source": [
    "def answer_query_with_enriched_search(question):\n",
    "    # Generate keywords\n",
    "    keywords = get_completion(create_keyword_prompt(question))\n",
    "    keywords_list = json.loads(keywords[0].text)['keywords']\n",
    "    print(\"Found keywords:\")\n",
    "    print(keywords_list)\n",
    "\n",
    "    \n",
    "    # Search for keywords\n",
    "    results_list = []\n",
    "    for keyword in keywords_list:\n",
    "    \n",
    "        search_results = sparse_index.search_records(\n",
    "            namespace=\"amz-products\", \n",
    "            query={\n",
    "                    # specifies number of results to return\n",
    "                    \"top_k\":5,\n",
    "                    # specifies the query to embed and search for\n",
    "                    \"inputs\":{\n",
    "                        \"text\": keyword\n",
    "                    }\n",
    "            }\n",
    "        )\n",
    "\n",
    "        # append the search results to the list\n",
    "        for search_result in search_results[\"result\"][\"hits\"]:\n",
    "            results_list.append(search_result['fields']['chunk_text'])\n",
    "\n",
    "    # Format results\n",
    "    formatted_results = create_answer_prompt(results_list, question)\n",
    "\n",
    "    # Answer the question\n",
    "    answer = get_completion(formatted_results)\n",
    "    return answer[0].text\n",
    "\n",
    "\n",
    "print(answer_query_with_enriched_search(USER_QUESTION))"
   ]
  },
  {
   "cell_type": "markdown",
   "metadata": {},
   "source": [
    "## Cleanup Indexes (Uncomment to run)"
   ]
  },
  {
   "cell_type": "code",
   "execution_count": 127,
   "metadata": {},
   "outputs": [],
   "source": [
    "## Cleanup if needed. Uncomment and run!\n",
    "\n",
    "#pc.delete_index(name=sparse_index_name)\n",
    "#pc.delete_index(name=dense_index_name)\n"
   ]
  }
 ],
 "metadata": {
  "kernelspec": {
   "display_name": "myvenv",
   "language": "python",
   "name": "python3"
  },
  "language_info": {
   "codemirror_mode": {
    "name": "ipython",
    "version": 3
   },
   "file_extension": ".py",
   "mimetype": "text/x-python",
   "name": "python",
   "nbconvert_exporter": "python",
   "pygments_lexer": "ipython3",
   "version": "3.13.2"
  },
  "orig_nbformat": 4
 },
 "nbformat": 4,
 "nbformat_minor": 2
}
