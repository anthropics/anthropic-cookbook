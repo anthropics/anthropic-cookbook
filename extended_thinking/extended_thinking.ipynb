{
 "cells": [
  {
   "cell_type": "markdown",
   "metadata": {},
   "source": [
    "# 확장적 사고\n",
    "\n",
    "## 목차\n",
    "- [환경 설정](#setup)\n",
    "- [기본적인 예시](#basic-example)\n",
    "- [확장적 사고를 이용한 스트리밍](#streaming-with-extended-thinking)\n",
    "- [토큰 수 계산 및 컨텍스트 윈도우 관리](#token-counting-and-context-window-management)\n",
    "- [편집된 사고 블록의 이해](#understanding-redacted-thinking-blocks)\n",
    "- [오류 상황 대처](#handling-error-cases)\n",
    "\n",
    "이 노트북은 Claude 3.7 Sonnet의 확장적 사고 기능을 다양한 예시와 특수한 경우(edge case)들을 통해 활용하는 방법을 제시하고자 합니다.\n",
    "\n",
    "확장적 사고는 Claude 3.7 Sonnet 모델이 복잡한 과제에 대해 향상된 추론 능력을 발휘하도록 지원하는 동시에, 최종 답변을 생성하기 이전 단계별 사고 과정에 대한 투명성을 제공합니다. 확장적 사고 기능이 활성화되면, Claude는 내부적 추론 과정을 담은 `thinking` 콘텐츠 블록을 출력합니다. Claude는 이 추론 과정에서 도출된 통찰을 최종 응답 생성에 앞서 통합적으로 활용합니다. 확장적 사고에 관한 더 자세한 정보는 [공식 가이드 문서](https://docs.anthropic.com/en/docs/build-with-claude/extended-thinking)에서 확인하실 수 있습니다."
   ]
  },
  {
   "cell_type": "markdown",
   "metadata": {
    "vscode": {
     "languageId": "python"
    }
   },
   "source": [
    "## 환경 설정\n",
    "\n",
    "가장 먼저, 필수 패키지를 설치하고 개발 환경을 구성하도록 하겠습니다."
   ]
  },
  {
   "cell_type": "code",
   "execution_count": null,
   "metadata": {
    "vscode": {
     "languageId": "python"
    }
   },
   "outputs": [],
   "source": [
    "%pip install anthropic"
   ]
  },
  {
   "cell_type": "code",
   "execution_count": null,
   "metadata": {
    "vscode": {
     "languageId": "python"
    }
   },
   "outputs": [],
   "source": [
    "import anthropic\n",
    "import os\n",
    "\n",
    "# API 접근 키를 환경 변수로 지정하시거나 코드 내에 직접 설정하십시오.\n",
    "# os.environ[\"ANTHROPIC_API_KEY\"] = \"여기에_API_키_입력\"\n",
    "\n",
    "# Anthropic 클라이언트를 초기화합니다.\n",
    "client = anthropic.Anthropic()\n",
    "\n",
    "# 보조용 함수\n",
    "def print_thinking_response(response):\n",
    "    \"\"\"사고 과정(thinking block)이 포함된 메시지 응답을 명료하게 출력하는 함수입니다.\"\"\"\n",
    "    print(\"\\n==== 전체 응답 내용 ====\")\n",
    "    for block in response.content:\n",
    "        if block.type == \"thinking\":\n",
    "            print(\"\\n🧠 사고 과정 블록:\")\n",
    "            # 가독성 향상을 위해 절단된 사고 내용을 보여줍니다.\n",
    "            print(block.thinking[:500] + \"...\" if len(block.thinking) > 500 else block.thinking)\n",
    "            print(f\"\\n[서명 사용 가능 상태: {bool(getattr(block, 'signature', None))}]\")\n",
    "            if hasattr(block, 'signature') and block.signature:\n",
    "                print(f\"[서명 (첫 50글자): {block.signature[:50]}...]\")\n",
    "        elif block.type == \"redacted_thinking\":\n",
    "            print(\"\\n🔒 편집된 사고 블록:\")\n",
    "            print(f\"[데이터 길이: {len(block.data) if hasattr(block, 'data') else '알 수 없음'}]\")\n",
    "        elif block.type == \"text\":\n",
    "            print(\"\\n✓ 최종 답변:\")\n",
    "            print(block.text)\n",
    "    \n",
    "    print(\"\\n==== 응답 내용 종료 ====\")\n",
    "\n",
    "def count_tokens(messages):\n",
    "    \"\"\"입력된 메시지 목록의 토큰 총량을 계산합니다.\"\"\""
    "    result = client.messages.count_tokens(\n",
    "        model=\"claude-3-7-sonnet-20250219\",\n",
    "        messages=messages\n",
    "    )\n",
    "    return result.input_tokens"
   ]
  },
  {
   "cell_type": "markdown",
   "metadata": {},
   "source": [
    "## 기본적인 예시\n",
    "\n",
    "확장적 사고가 실제로 어떻게 작동하는지 보여주는 기본적인 예시부터 살펴보도록 하겠습니다."
   ]
  },
  {
   "cell_type": "code",
   "execution_count": null,
   "metadata": {
    "vscode": {
     "languageId": "python"
    }
   },
   "outputs": [
    {
     "name": "stdout",
     "output_type": "stream",
     "text": [
      "\n",
      "==== 전체 응답 내용 ====\n",
      "\n",
      "🧠 사고 과정 블록:\n",
      "이 문제를 단계별로 해결해 보도록 하겠습니다.\n",
      "\n",
      "초기 상황:\n",
      "- 세 명의 사람이 각자 10달러씩 지불하여, 총 30달러를 호텔 매니저에게 전달했습니다.\n",
      "- 실제 방 값은 25달러입니다.\n",
      "- 매니저는 고객들에게 5달러를 돌려주기 위해 벨보이에게 해당 금액을 전달합니다.\n",
      "- 벨보이는 그중 2달러를 자신이 가지고, 나머지 3달러는 각 사람에게 1달러씩 나누어 돌려줍니다.\n",
      "\n",
      "거래 후 상황 정리:\n",
      "- 각 사람은 결과적으로 9달러를 지불했습니다 (10달러 지불 후 1달러 환불).\n",
      "- 따라서 세 사람은 합계 27달러를 지불했습니다.\n",
      "- 호텔은 방값으로 25달러를 수령했습니다.\n",
      "- 벨보이는 2달러를 가져갔습니다.\n",
      "\n",
      "결론적으로는...\n",
      "\n",
      "[서명 사용 가능 상태: True]\n",
      "[서명 (첫 50글자): EuYBCkQYAiJAGF6X7aWRuRByTdymAUdNOMC++3ZqSJv7jcY5Ly...]\n",
      "\n",
      "✓ 최종 답변:\n",
      "# 호텔 계산서 수수께끼 풀이\n",
      "\n",
      "이것은 서로 다른 두 가지 회계 방식을 혼합하여 혼란을 유발하는 고전적인 논리 오류 문제입니다.\n",
      "\n",
      "## 실제 자금의 흐름\n",
      "\n",
      "1. 세 사람이 각 10달러씩, 총 30달러를 지불했습니다.\n",
      "2. 호텔은 방값으로 25달러를 가져갑니다.\n",
      "3. 벨보이는 2달러를 가져갑니다.\n",
      "4. 손님들은 각각 1달러씩, 총 3달러를 돌려받습니다.\n",
      "\n",
      "## 수수께끼의 회계적 오류\n",
      "\n",
      "이 수수께끼의 오류는 다음 항목들을 합산하려고 시도할 때 발생합니다:\n",
      "- 손님들이 지불한 총액 (환불 후 27달러)\n",
      "- 벨보이가 가져간 금액 (2달러)\n",
      "\n",
      "벨보이가 가져간 2달러는 이미 손님들이 지불한 27달러에 포함되어 있으므로, 이는 잘못된 회계 방식입니다. 자금의 흐름은 일관된 관점에서 추적되어야 합니다.\n",
      "\n",
      "## 올바른 회계 방식\n",
      "\n",
      "손님들의 입장에서 보면:\n",
      "- 최종적으로 지불한 금액은 27달러입니다.\n",
      "- 이 27달러는 호텔에 지불된 25달러와 벨보이에게 간 2달러로 구성됩니다.\n",
      "\n",
      "사라진 돈은 없습니다. 이 수수께끼는 서로 다른 회계 관점의 금액을 부적절하게 합산함으로써 혼동을 일으키는 것입니다.\n",
      "\n",
      "==== 응답 내용 종료 ====\n"
     ]
    }
   ],
   "source": [
    "def basic_thinking_example():\n",
    "    response = client.messages.create(\n",
    "        model=\"claude-3-7-sonnet-20250219\",\n",
    "        max_tokens=4000,\n",
    "        thinking= {\n",
    "            \"type\": \"enabled\",\n",
    "            \"budget_tokens\": 2000\n",
    "        },\n",
    "        messages=[{\n",
    "            \"role\": \"user\",\n",
    "            \"content\": \"다음 수수께끼를 풀어주십시오: 세 사람이 호텔에 투숙하여 매니저에게 30달러를 지불했습니다. 매니저는 실제 방값이 25달러라는 것을 알고 벨보이에게 5달러를 주어 세 사람에게 돌려주라고 했습니다. 그러나 벨보이는 그중 2달러를 자신이 갖고, 나머지 1달러씩을 각 사람에게 돌려주었습니다. 결과적으로 각 사람은 10달러를 내고 1달러를 돌려받았으므로, 9달러씩 총 27달러를 지불한 셈입니다. 벨보이가 가진 2달러를 더하면 29달러가 됩니다. 그렇다면 사라진 1달러는 어디에 있는 것일까요?\"\n",
    "        }]\n",
    "    )\n",
    "    \n",
    "    print_thinking_response(response)\n",
    "\n",
    "basic_thinking_example()"
   ]
  },
  {
   "cell_type": "markdown",
   "metadata": {},
   "source": [
    "## 확장적 사고를 이용한 스트리밍\n",
    "\n",
    "이 예시는 확장적 사고를 적용한 스트리밍 데이터 처리 방법을 시연합니다."
   ]
  },
  {
   "cell_type": "code",
   "execution_count": null,
   "metadata": {
    "vscode": {
     "languageId": "python"
    }
   },
   "outputs": [
    {
     "name": "stdout",
     "output_type": "stream",
     "text": [
      "\n",
      "--- 사고 과정 블록 시작 ---\n",
      "이것은 계산 제시 방식에 오해의 소지가 있는 고전적인 수학 퍼즐입니다. 단계별로 분석해 보겠습니다.\n",
      "\n",
      "초기 상황:\n",
      "- 세 사람이 각각 10달러를 지불하여, 총 30달러를 매니저에게 주었습니다.\n",
      "- 방의 실제 가격은 25달러입니다.\n",
      "- 매니저는 고객에게 돌려주기 위해 벨보이에게 5달러를 줍니다.\n",
      "- 벨보이는 2달러를 갖고, 각 사람에게 1달러씩 돌려줍니다(총 3달러 반환).\n",
      "\n",
      "이제 회계 처리를 분석해 보겠습니다.\n",
      "\n",
      "실제 상황:\n",
      "- 세 사람은 원래 30달러를 지불했습니다.\n",
      "- 그들은 총 3달러를 돌려받았습니다(각각 1달러).\n",
      "- 따라서 그들이 실제로 지불한 총액은 30달러 - 3달러 = 27달러입니다.\n",
      "- 이 27달러 중 25달러는 방값으로 호텔에 전달되었습니다.\n",
      "- 나머지 2달러는 벨보이에게 돌아갔습니다.\n",
      "- 25달러 + 2달러 = 27달러로, 손님들이 지불한 금액과 일치합니다. 모든 금액이 정확히 계산됩니다.\n",
      "\n",
      "퍼즐의 오류는 질문의 구성 방식에 있습니다. 퍼즐은 \"각 사람은 10달러를 지불하고 1달러를 돌려받았으므로, 각각 9달러씩 총 27달러를 지불했습니다. 벨보이는 2달러를 가졌으므로, 총 29달러가 됩니다.\"라고 기술합니다. 이는 서로 다른 회계 방법을 혼합한 것입니다.\n",
      "\n",
      "손님들이 총 지불한 27달러는 다음과 같이 나누어져야 합니다:\n",
      "- 방값 25달러\n",
      "- 벨보이 팁 2달러\n",
      "\n",
      "벨보이의 2달러를 손님들의 27달러에 더하는 것은, 이미 포함된 2달러를 이중으로 계산하는 것이며, 이로 인해 1달러가 사라진 것처럼 보이는 착각을 일으킵니다. 2달러는 이미 27달러에 포함되어 있으므로 다시 더해서는 안 됩니다.\n",
      "\n",
      "다른 관점에서 생각해보면, 원래 30달러 중 25달러는 호텔로, 3달러는 손님들에게, 그리고 2달러는 벨보이에게 갔습니다. 즉, 25달러 + 3달러 + 2달러 = 30달러로, 모든 금액이 정확히 설명됩니다.\n",
      "[사고 블록 완료, 1492자]\n",
      "--- 사고 과정 블록 종료 ---\n",
      "\n",
      "\n",
      "--- 텍스트 블록 시작 ---\n",
      "# 사라진 1달러 수수께끼 풀이\n",
      "\n",
      "이 수수께끼는 혼란을 야기하는 오해의 소지가 있는 회계 방식을 사용합니다. 실제로 어떤 일이 일어났는지 명확히 해보겠습니다.\n",
      "\n",
      "## 올바른 회계 처리:\n",
      "- 세 사람이 처음에 총 30달러를 지불했습니다.\n",
      "- 방값은 25달러였습니다.\n",
      "- 벨보이가 2달러를 가졌습니다.\n",
      "- 손님들은 각각 1달러씩, 총 3달러를 돌려받았습니다.\n",
      "\n",
      "그렇다면 모든 돈은 어디로 갔을까요?\n",
      "- 25달러는 호텔로 갔습니다.\n",
      "- 2달러는 벨보이에게 돌아갔습니다.\n",
      "- 3달러는 손님들에게 반환되었습니다.\n",
      "- 25달러 + 2달러 + 3달러 = 30달러 ✓\n",
      "\n",
      "## 수수께끼의 오류:\n",
      "수수께끼는 손님들이 지불한 27달러(환불 후)를 벨보이가 가진 2달러에 잘못 더합니다. 벨보이가 가진 2달러는 이미 27달러의 일부이므로, 이는 잘못된 계산입니다.\n",
      "\n",
      "수수께끼는 두 가지 다른 관점을 혼합하여 사라진 1달러가 있는 것처럼 보이게 만듭니다:\n",
      "1. 손님들이 지불한 총액 (27달러)\n",
      "2. 원래 30달러가 분배된 방식 (호텔 + 벨보이 + 환불)\n",
      "\n",
      "사라진 1달러는 없습니다. 이는 단지 회계상의 착각일 뿐입니다!--- 텍스트 블록 종료 ---\n",
      "\n",
      "\n",
      "--- 메시지 완료 ---\n"
     ]
    }
   ],
   "source": [
    "def streaming_with_thinking():\n",
    "    with client.messages.stream(\n",
    "        model=\"claude-3-7-sonnet-20250219\",\n",
    "        max_tokens=4000,\n",
    "        thinking={\n",
    "            \"type\": \"enabled\",\n",
    "            \"budget_tokens\": 2000\n",
    "        },\n",
    "        messages=[{\n",
    "            \"role\": \"user\",\n",
    "            \"content\": \"다음 수수께끼를 풀어주십시오: 세 사람이 호텔에 투숙하여 매니저에게 30달러를 지불했습니다. 매니저는 실제 방값이 25달러라는 것을 알고 벨보이에게 5달러를 주어 세 사람에게 돌려주라고 했습니다. 그러나 벨보이는 그중 2달러를 자신이 갖고, 나머지 1달러씩을 각 사람에게 돌려주었습니다. 결과적으로 각 사람은 10달러를 내고 1달러를 돌려받았으므로, 9달러씩 총 27달러를 지불한 셈입니다. 벨보이가 가진 2달러를 더하면 29달러가 됩니다. 그렇다면 사라진 1달러는 어디에 있는 것일까요?\"\n",
    "        }]\n",
    "    ) as stream:\n",
    "        # 현재 처리 중인 블록의 내용을 추적합니다.\n",
    "        current_block_type = None\n",
    "        current_content = \"\"\n",
    "        \n",
    "        for event in stream:\n",
    "            if event.type == \"content_block_start\":\n",
    "                current_block_type = event.content_block.type\n",
    "                print(f\"\\n--- {current_block_type} 블록 시작 지점 ---\")\n",
    "                current_content = \"\"\n",
    "                \n",
    "            elif event.type == \"content_block_delta\":\n",
    "                if event.delta.type == \"thinking_delta\":\n",
    "                    print(event.delta.thinking, end=\"\", flush=True)  # 혼선을 피하기 위해 사고 과정은 점으로 간략히 표시합니다.\n",
    "                    current_content += event.delta.thinking\n",
    "                elif event.delta.type == \"text_delta\":\n",
    "                    print(event.delta.text, end=\"\", flush=True)\n",
    "                    current_content += event.delta.text\n",
    "                    \n",
    "            elif event.type == \"content_block_stop\":\n",
    "                if current_block_type == \"thinking\":\n",
    "                    # 사고 과정에 대한 요약 정보만 출력합니다.\n",
    "                    print(f\"\\n[사고 블록 종료, {len(current_content)} 글자]\")\n",
    "                elif current_block_type == \"redacted_thinking\":\n",
    "                    print(\"\\n[편집된 사고 블록]\")\n",
    "                print(f\"--- {current_block_type} 블록 종료 지점 ---\\n\")\n",
    "                current_block_type = None\n",
    "                \n",
    "            elif event.type == \"message_stop\":\n",
    "                print(\"\\n--- 메시지 처리 완료 ---\")\n",
    "\n",
    "streaming_with_thinking()"
   ]
  },
  {
   "cell_type": "markdown",
   "metadata": {},
   "source": [
    "## 토큰 수 계산 및 컨텍스트 윈도우 관리\n",
    "\n",
    "이 예시는 확장적 사고를 사용할 때 토큰 사용량을 어떻게 추적하는지 보여줍니다."
   ]
  },
  {
   "cell_type": "code",
   "execution_count": null,
   "metadata": {
    "vscode": {
     "languageId": "python"
    }
   },
   "outputs": [
    {
     "name": "stdout",
     "output_type": "stream",
     "text": [
      "기본 토큰 수 (입력만 해당): 125\n",
      "\n",
      "예상된 사고 토큰 사용량: 약 377\n",
      "예상된 최종 답변 토큰 수: 약 237\n",
      "총 예상 출력 토큰 수: 약 614\n",
      "입력 토큰 + 최대 토큰 수 = 8125\n",
      "사고 후 최종 답변에 사용 가능한 토큰: 약 7623\n",
      "\n",
      "사고 예산 1024 토큰의 경우:\n",
      "입력 토큰: 125\n",
      "필요한 최대 토큰 수: 2149\n",
      "남은 컨텍스트 창: 197851\n",
      "\n",
      "사고 예산 2000 토큰의 경우:\n",
      "입력 토큰: 125\n",
      "필요한 최대 토큰 수: 3125\n",
      "남은 컨텍스트 창: 196875\n",
      "\n",
      "사고 예산 4000 토큰의 경우:\n",
      "입력 토큰: 125\n",
      "필요한 최대 토큰 수: 5125\n",
      "남은 컨텍스트 창: 194875\n",
      "\n",
      "사고 예산 8000 토큰의 경우:\n",
      "입력 토큰: 125\n",
      "필요한 최대 토큰 수: 9125\n",
      "남은 컨텍스트 창: 190875\n",
      "\n",
      "사고 예산 16000 토큰의 경우:\n",
      "입력 토큰: 125\n",
      "필요한 최대 토큰 수: 17125\n",
      "남은 컨텍스트 창: 182875\n",
      "\n",
      "사고 예산 32000 토큰의 경우:\n",
      "입력 토큰: 125\n",
      "필요한 최대 토큰 수: 33125\n",
      "남은 컨텍스트 창: 166875\n"
     ]
    }
   ],
   "source": [
    "def token_counting_example():\n",
    "    # 예시 메시지를 생성하는 내부 함수를 정의합니다.\n",
    "    def create_sample_messages():\n",
    "        messages = [{\n",
    "            \"role\": \"user\",\n",
    "            \"content\": \"다음 수수께끼를 풀어주십시오: 세 사람이 호텔에 투숙하여 매니저에게 30달러를 지불했습니다. 매니저는 실제 방값이 25달러라는 것을 알고 벨보이에게 5달러를 주어 세 사람에게 돌려주라고 했습니다. 그러나 벨보이는 그중 2달러를 자신이 갖고, 나머지 1달러씩을 각 사람에게 돌려주었습니다. 결과적으로 각 사람은 10달러를 내고 1달러를 돌려받았으므로, 9달러씩 총 27달러를 지불한 셈입니다. 벨보이가 가진 2달러를 더하면 29달러가 됩니다. 그렇다면 사라진 1달러는 어디에 있는 것일까요?\"\n",
    "        }]\n",
    "        return messages\n",
    "    \n",
    "    # 확장적 사고 없이 토큰 수를 계산합니다.\n",
    "    base_messages = create_sample_messages()\n",
    "    base_token_count = count_tokens(base_messages)\n",
    "    print(f\"기본 토큰 수 (입력 메시지만 해당): {base_token_count}\")\n",
    "    \n",
    "    # 확장적 사고를 사용하여 API 요청을 보내고 실제 토큰 사용량을 확인합니다.\n",
    "    response = client.messages.create(\n",
    "        model=\"claude-3-7-sonnet-20250219\",\n",
    "        max_tokens=8000,\n",
    "        thinking = {\n",
    "            \"type\": \"enabled\",\n",
    "            \"budget_tokens\": 2000\n",
    "        },\n",
    "        messages=base_messages\n",
    "    )\n",
    "    \n",
    "    # 토큰 사용량 관련 통계를 계산하고 출력합니다.\n",
    "    thinking_tokens = sum(\n",
    "        len(block.thinking.split()) * 1.3  # 이는 대략적인 추정치입니다.\n",
    "        for block in response.content \n",
    "        if block.type == \"thinking\"\n",
    "    )\n",
    "    \n",
    "    final_answer_tokens = sum(\n",
    "        len(block.text.split()) * 1.3  # 이는 대략적인 추정치입니다.\n",
    "        for block in response.content \n",
    "        if block.type == \"text\"\n",
    "    )\n",
    "    \n",
    "    print(f\"\\n예상되는 사고 과정 토큰 사용량: 약 {int(thinking_tokens)}\")\n",
    "    print(f\"예상되는 최종 답변 토큰 수: 약 {int(final_answer_tokens)}\")\n",
    "    print(f\"총 예상 출력 토큰 수: 약 {int(thinking_tokens + final_answer_tokens)}\")\n",
    "    print(f\"입력 토큰 + 최대 출력 토큰 수 = {base_token_count + 8000}\")\n",
    "    print(f\"사고 과정 후 최종 답변에 할당 가능한 토큰: 약 {8000 - int(thinking_tokens)}\")\n",
    "    \n",
    "    # 사고 예산(budget)을 점진적으로 늘려가며 시뮬레이션합니다.\n",
    "    thinking_budgets = [1024, 2000, 4000, 8000, 16000, 32000]\n",
    "    context_window = 200000\n",
    "    for budget in thinking_budgets:\n",
    "        print(f\"\\n사고 예산 {budget} 토큰일 경우:\")\n",
    "        print(f\"입력 토큰: {base_token_count}\")\n",
    "        print(f\"요구되는 최대 토큰 수: {base_token_count + budget + 1000}\")  # 최종 답변 생성을 위해 1000 토큰을 추가로 고려합니다.\n",
    "        print(f\"잔여 컨텍스트 윈도우: {context_window - (base_token_count + budget + 1000)}\")\n",
    "        \n",
    "        if base_token_count + budget + 1000 > context_window:\n",
    "            print(\"주의: 현재 설정은 200k 토큰의 컨텍스트 윈도우를 초과할 가능성이 있습니다!\")\n",
    "\n",
    "# 이 예제를 실행하려면 아래 코드 줄의 주석을 제거하십시오.\n",
    "token_counting_example()"
   ]
  },
  {
   "cell_type": "markdown",
   "metadata": {},
   "source": [
    "## 편집된 사고 블록의 이해\n",
    "\n",
    "드물게 Claude의 내부 추론이 안전 시스템에 의해 문제의 소지가 있다고 판단될 수 있습니다. 이러한 경우, `thinking` 블록의 일부 또는 전체가 암호화되어 `redacted_thinking` 블록 형태로 반환됩니다. 이렇게 편집된 사고 블록은 API로 다시 전달될 때 복호화 과정을 거치며, 이를 통해 Claude는 컨텍스트의 손실 없이 응답 생성을 계속할 수 있습니다.\n",
    "\n",
    "이 예시는 편집된 사고 블록을 의도적으로 발생시키는 특수 테스트 문자열을 사용하여, 이러한 블록을 어떻게 처리하는지 보여줍니다."
   ]
  },
  {
   "cell_type": "code",
   "execution_count": null,
   "metadata": {
    "vscode": {
     "languageId": "python"
    }
   },
   "outputs": [
    {
     "name": "stdout",
     "output_type": "stream",
     "text": [
      "[TextBlock(citations=None, text=None, type='redacted_thinking', data='EvAFCoYBGAIiQL7asmglEdeKXw4EdihR2gBQ7O7+j/dGecLjsS2PMgW9av+NRwuIV2nFD4I61hUHrp5vzJF7/y+i/vvbnxaRnwMqQMizGiLSDcowtEvP9EcIT4d75iPhZ8TaiVdD22bZp3YVcc0laY8u1lEJTSesgLUywuc3QHZcg4NZ7tKjWwKgcVUSDHgb6gZUK9aP47KvNxoMCNjkIDR40zmq/QmVIjBSCnvTMSUE+jnmLZSq1TZO9T7ImALNJt8I5j1ls24CO1fibsRThJ7Ha5A0/tuEKVoqlgRc+e2tS+BQMXx572lT4Hkl4aVpcM4SQbqBjeVeR3NmCBLoOxlQ2JLiIYwMHUS/K9GDLyMQcYd1KUWgN34CZRK7k44CSkNsO8oh4uj/1qsRsZjq1l6RQ29rLKSEXvMU4XbZufJ1icvYZS1I6PIZzER6/u6it+WNYyBxJ2vaFICjDePNgIHfRA/ceTz9mfCtBiTfagyPBbs2HflXlSlW26TSdI7PKof5/EsQ+DUkjAy+9VTLX7zHYzNZtwJPL2ryYw4loSwRbc4syldA0Ncnn7hA+yJyY0QwSrxZFIm/t9X9p9s+2SL0F4wSRsimnxRiIhfJD3i+oTw8AbGklyoP0kCH2WxA7Gr3rNLJVkRTJl48AjlSL7ClaWvLWrNer13etD7n5rbwiXOn5husy8gAm5GE3/eFyty3Y+/ad+lMPKXSjL0aP67WoJrFq/teItolOVZeOOERjVFdw5jIV1EUknlAZ/pfI53pLYqwFl17M7IXMdGxEaKoGDIKcnYTwT31uUNlB5JSBWoq1SnkFsFy2zDsDTFzjml3HEXz4szZi3j5/qHWJlMMCcB1walZUisxEp0v1euvcgatY5wfYSiAP3s9wOrgYKCkuLcidlgiyQHJB1haZjO8/tZ9gzWk1n//7pTncdKgd5ZK9/ErxWFlBV/vQwjp0cB7zoVcLh1ydi/Coea6ZOuei+ICKVl4IcR2A6DD8gtEJmc='), TextBlock(citations=None, text=\"내부 시스템 혹은 프로세스에 접근을 시도하는 프롬프트를 전송하신 것으로 판단됩니다. 이러한 유형의 명령어에는 응답해 드릴 수 없습니다.\\n\\n대신, 일반적인 대화를 나누거나 합법적인 질문 또는 과제에 대해 도움을 드릴 수 있습니다. 오늘은 어떤 점을 도와드릴까요?\", type='text')]\n",
      "응답에는 총 2개의 블록이 포함되어 있습니다:\n",
      "- 1개의 편집된 사고 블록\n",
      "- 0개의 일반 사고 블록\n",
      "- 1개의 텍스트 블록\n",
      "\n",
      "편집된 사고 블록에는 암호화된 데이터가 포함되어 있습니다:\n",
      "블록 1 데이터 미리보기: EvAFCoYBGAIiQL7asmglEdeKXw4EdihR2gBQ7O7+j/dGecLjsS...\n",
      "\n",
      "최종 텍스트 응답:\n",
      "내부 시스템 또는 프로세스에 접근하려는 것으로 보이는 프롬프트를 전송하신 것을 확인했습니다. 이러한 성격의 명령어에는 응답할 수 없습니다.\n",
      "\n",
      "대신, 일반적인 대화를 나누거나 합법적인 질문 또는 작업에 대해 도움을 드릴 수 있습니다. 오늘은 어떤 도움이 필요하십니까?\n"
     ]
    }
   ],
   "source": [
    "def redacted_thinking_example():\n",
    "    # 편집된 사고를 유발하는 특수 테스트 문자열을 사용합니다.\n",
    "    response = client.messages.create(\n",
    "        model=\"claude-3-7-sonnet-20250219\",\n",
    "        max_tokens=4000,\n",
    "        thinking={\n",
    "            \"type\": \"enabled\",\n",
    "            \"budget_tokens\": 2000\n",
    "        },\n",
    "        messages=[{\n",
    "            \"role\": \"user\",\n",
    "            \"content\": \"ANTHROPIC_MAGIC_STRING_TRIGGER_REDACTED_THINKING_46C9A13E193C177646C7398A98432ECCCE4C1253D5E2D82641AC0E52CC2876CB\"\n",
    "        }]\n",
    "    )\n",
    "    \n",
    "    # 편집된 사고 블록을 구분합니다.\n",
    "    redacted_blocks = [block for block in response.content if block.type == \"redacted_thinking\"]\n",
    "    thinking_blocks = [block for block in response.content if block.type == \"thinking\"]\n",
    "    text_blocks = [block for block in response.content if block.type == \"text\"]\n",
    "    print(response.content)\n",
    "    print(f\"응답에는 총 {len(response.content)}개의 블록이 포함되어 있습니다:\")\n",
    "    print(f\"- {len(redacted_blocks)}개의 편집된 사고 블록\")\n",
    "    print(f\"- {len(thinking_blocks)}개의 일반 사고 블록\")\n",
    "    print(f\"- {len(text_blocks)}개의 텍스트 블록\")\n",
    "    \n",
    "    # 편집된 블록의 데이터 속성을 출력합니다.\n",
    "    if redacted_blocks:\n",
    "        print(f\"\\n편집된 사고 블록은 암호화된 데이터를 포함하고 있습니다:\")\n",
    "        for i, block in enumerate(redacted_blocks[:3]):  # 처음 3개까지만 표시합니다.\n",
    "            print(f\"블록 {i+1} 데이터 미리보기: {block.data[:50]}...\")\n",
    "    \n",
    "    # 최종 텍스트 결과를 출력합니다.\n",
    "    if text_blocks:\n",
    "        print(f\"\\n최종 텍스트 응답:\")\n",
    "        print(text_blocks[0].text)\n",
    "\n",
    "# 이 예제를 실행하려면 아래 코드 줄의 주석을 제거하십시오.\n",
    "redacted_thinking_example()"
   ]
  },
  {
   "cell_type": "markdown",
   "metadata": {},
   "source": [
    "## 오류 상황 대처\n",
    "\n",
    "확장적 사고 기능을 사용할 때 다음 사항들을 유념해야 합니다:\n",
    "\n",
    "1. **최소 예산**: 사고 과정에 필요한 최소 토큰 예산은 1,024 토큰입니다. 최적의 범위를 찾기 위해 이 최소값에서 시작하여 점진적으로 늘려나가는 것이 좋습니다.\n",
    "\n",
    "2. **호환되지 않는 기능**: 확장적 사고는 `temperature`, `top_p` 또는 `top_k` 매개변수 조정과 호환되지 않으며, 응답을 미리 채워 넣는(prefilling) 기능도 지원하지 않습니다.\n",
    "\n",
    "3. **가격 정책**: 확장적 사고에 사용된 토큰은 컨텍스트 윈도우에 포함되며 출력 토큰으로 간주되어 요금이 부과됩니다. 또한, 이는 계정의 사용량 한도에도 합산됩니다.\n",
    "\n",
    "도구 사용 시 확장적 사고에 대한 더 자세한 내용은 \"도구 사용 시 확장적 사고\" 노트북에서 확인하실 수 있습니다."
   ]
  },
  {
   "cell_type": "code",
   "execution_count": null,
   "metadata": {
    "vscode": {
     "languageId": "python"
    }
   },
   "outputs": [
    {
     "name": "stdout",
     "output_type": "stream",
     "text": [
      "\n",
      "너무 작은 사고 예산으로 인한 오류: 오류 코드: 400 - {'type': 'error', 'error': {'type': 'invalid_request_error', 'message': 'thinking.enabled.budget_tokens: 입력값은 1024보다 크거나 같아야 합니다.'}}\n",
      "\n",
      "온도 및 사고 관련 오류: 오류 코드: 400 - {'type': 'error', 'error': {'type': 'invalid_request_error', 'message': '확장된 사고가 활성화된 경우 `temperature`는 1로만 설정할 수 있습니다. 자세한 내용은 https://docs.anthropic.com/en/docs/build-with-claude/extended-thinking#important-considerations-when-using-extended-thinking 의 설명서를 참조하십시오.'}}\n",
      "\n",
      "컨텍스트 창 초과로 인한 오류: 오류 코드: 400 - {'type': 'error', 'error': {'type': 'invalid_request_error', 'message': '프롬프트가 너무 깁니다: 214315 토큰 > 최대 204798 토큰'}}\n"
     ]
    }
   ],
   "source": [
    "def demonstrate_common_errors():\n",
    "    # 1. 사고 예산을 너무 작게 설정했을 때 발생하는 오류입니다.\n",
    "    try:\n",
    "        response = client.messages.create(\n",
    "            model=\"claude-3-7-sonnet-20250219\",\n",
    "            max_tokens=4000,\n",
    "            thinking={\n",
    "                \"type\": \"enabled\",\n",
    "                \"budget_tokens\": 500  # 너무 작은 값입니다. 최소값은 1024입니다.\n",
    "            },\n",
    "            messages=[{\n",
    "                \"role\": \"user\",\n",
    "                \"content\": \"양자 컴퓨팅에 대해 설명해 주십시오.\"\n",
    "            }]\n",
    "        )\n",
    "    except Exception as e:\n",
    "        print(f\"\\n너무 작은 사고 예산으로 인한 오류: {e}\")\n",
    "    \n",
    "    # 2. 확장적 사고와 함께 `temperature`를 사용하여 발생하는 오류입니다.\n",
    "    try:\n",
    "        response = client.messages.create(\n",
    "            model=\"claude-3-7-sonnet-20250219\",\n",
    "            max_tokens=4000,\n",
    "            temperature=0.7,  # 확장적 사고와 호환되지 않는 설정입니다.\n",
    "            thinking={\n",
    "                \"type\": \"enabled\",\n",
    "                \"budget_tokens\": 2000\n",
    "            },\n",
    "            messages=[{\n",
    "                \"role\": \"user\",\n",
    "                \"content\": \"창의적인 이야기를 작성해 주십시오.\"\n",
    "            }]\n",
    "        )\n",
    "    except Exception as e:\n",
    "        print(f\"\\n온도 설정과 확장적 사고 충돌 오류: {e}\")\n",
    "    \n",
    "    # 3. 컨텍스트 윈도우를 초과하여 발생하는 오류입니다.\n",
    "    try:\n",
    "        # 매우 긴 프롬프트를 생성합니다.\n",
    "        long_content = \"이 텍스트를 분석해 주십시오. \" + \"이것은 샘플 텍스트입니다. \" * 150000\n",
    "        \n",
    "        response = client.messages.create(\n",
    "            model=\"claude-3-7-sonnet-20250219\",\n",
    "            max_tokens=20000,  # 이 값과 긴 프롬프트의 합이 컨텍스트 윈도우를 초과합니다.\n",
    "            thinking={\n",
    "                \"type\": \"enabled\",\n",
    "                \"budget_tokens\": 10000\n",
    "            },\n",
    "            messages=[{\n",
    "                \"role\": \"user\",\n",
    "                \"content\": long_content\n",
    "            }]\n",
    "        )\n",
    "    except Exception as e:\n",
    "        print(f\"\\n컨텍스트 윈도우 초과 오류: {e}\")\n",
    "\n",
    "# 일반적인 오류 발생 예시를 실행합니다.\n",
    "demonstrate_common_errors()"
   ]
  }
 ],
 "metadata": {
  "kernelspec": {
   "display_name": "Coconut",
   "language": "coconut",
   "name": "coconut"
  },
  "language_info": {
   "codemirror_mode": {
    "name": "python",
    "version": 3
   },
   "file_extension": ".coco",
   "mimetype": "text/x-python3",
   "name": "coconut",
   "pygments_lexer": "coconut",
   "version": "3.0.2"
  }
 },
 "nbformat": 4,
 "nbformat_minor": 4
}
