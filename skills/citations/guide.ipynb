{
  "cells": [
    {
      "cell_type": "markdown",
      "metadata": {
        "colab_type": "text",
        "id": "view-in-github"
      },
      "source": [
        "<a href=\"https://colab.research.google.com/github/anthropics/anthropic-cookbook/blob/main/skills/citations/guide.ipynb\" target=\"_parent\"><img src=\"https://colab.research.google.com/assets/colab-badge.svg\" alt=\"Open In Colab\"/></a>"
      ]
    },
    {
      "cell_type": "markdown",
      "metadata": {},
      "source": [
        "# Citations with Claude\n",
        "\n",
        "## Setup\n",
        "\n",
        "To complete the following guide you will need to install the `anthropic` package and obtain and Anthropic API key. "
      ]
    },
    {
      "cell_type": "code",
      "execution_count": null,
      "metadata": {},
      "outputs": [],
      "source": [
        "!pip install anthropic pypdf"
      ]
    },
    {
      "cell_type": "code",
      "execution_count": 28,
      "metadata": {},
      "outputs": [],
      "source": [
        "import anthropic\n",
        "import os\n",
        "\n",
        "client = anthropic.Anthropic(\n",
        "    api_key='' # YOUR API KEY HERE,\n",
        ")"
      ]
    },
    {
      "cell_type": "markdown",
      "metadata": {},
      "source": [
        "## Overview\n",
        "\n",
        "Large Language Models (LLMs) like Claude have demonstrated remarkable capabilities in understanding and generating human-like text across a wide range of applications. However, one of the challenges with LLMs is ensuring the accuracy and explainability of the information they provide. This is where citations become invaluable.\n",
        "\n",
        "Citations are references to specific sources of information that support or substantiate the claims or statements made by the LLM. By incorporating citations into Claude's responses, we can significantly enhance the transparency and usefulness of the Claude-generated content.\n",
        "\n",
        "### The Value of Citations\n",
        "\n",
        "**Verifiability and User Affordance**: Citations provide clickable links or clear references to source material, allowing end users to verify information independently and explore topics further. This enhances credibility and empowers users to access additional context easily.\n",
        "\n",
        "**Explainability**:\n",
        "By linking responses to specific sources, citations make Claude's reasoning process more transparent. This aids in building trust and provides valuable metadata for analysis and quality control. For instance, in a voice-based AI assistant, it might not make sense to verbalize the citations. Instead, they could be logged separately for analysis or quality assurance purposes.\n",
        "\n",
        "### Practical Applications\n",
        "\n",
        "In this guide, we will explore how to effectively use citations with Claude in two specific Q&A scenarios:\n",
        "\n",
        "1. Answering queries over a help center knowledge base\n",
        "2. Extracting information from call transcripts\n",
        "\n",
        "Through these examples, you'll learn how to prompt Claude to provide citations, how to process and present these citations, and how to evaluate them to enhance the overall quality and trustworthiness of your AI-powered applications.\n",
        "\n"
      ]
    },
    {
      "cell_type": "markdown",
      "metadata": {},
      "source": [
        "## Use case: Q&A against customer help center\n",
        "\n",
        "Question-and-Answer (Q&A) systems built on top of customer help centers are a popular application of Claude. These systems allow customers to quickly find answers to their questions without having to manually search through multiple help articles. Importantly, these systems often require citations, as they provide direct links to the relevant help articles, allowing users to verify the information and dive deeper into topics if needed.\n",
        "\n",
        "\n",
        "For our example, let's introduce \"PetWorld\", a fictional e-commerce company that specializes in pet supplies and accessories. PetWorld has a wide range of products for various pets, from dogs and cats to reptiles and small mammals. They've been growing rapidly and want to improve their customer support by implementing an AI-powered chatbot that can answer customer queries by referencing their extensive online help center.\n",
        "\n",
        "\n",
        "PetWorld's help center covers a variety of topics, including:\n",
        "\n",
        "- Product information and care instructions\n",
        "- Shipping and delivery policies\n",
        "- Returns and exchanges\n",
        "- Account management\n",
        "- Pet care tips and advice\n",
        "\n",
        "By implementing a citation-based Q&A system, PetWorld aims to:\n",
        "\n",
        "- Reduce the workload on their customer service team\n",
        "- Provide 24/7 support to their customers\n",
        "- Ensure customers can easily find and verify information in their help center\n",
        "- Improve customer satisfaction by providing quick, accurate answers with links to further reading\n",
        "\n",
        "In the following sections, we'll explore how to build such a system using Claude, enabling PetWorld to create a more efficient and user-friendly customer support experience."
      ]
    },
    {
      "cell_type": "markdown",
      "metadata": {},
      "source": [
        "### Help Center\n",
        "\n",
        "In this example we provide a ficitonal help center comprising of 10 articles. Each article includes a title and the body of text. We will use these articles to build and test a prompt which is able to answer user questions based on these articles and cite the response.\n",
        "\n",
        "Note: In this example we will not explore retrieving specific articles from the help center. However, in many partical applications a help center may consist of dozens or hundreds of articles. Often times this will require implementing more complex retrieval (RAG) which will be covered in a separate skills cookbook.\n",
        "\n",
        "All articles can be within in this cookbook under `data/help_center_articles`"
      ]
    },
    {
      "cell_type": "code",
      "execution_count": 29,
      "metadata": {},
      "outputs": [
        {
          "name": "stdout",
          "output_type": "stream",
          "text": [
            "(0.txt) title: How to Change Your Password\n",
            "(1.txt) title: 30-Day Return Policy\n",
            "(2.txt) title: How to Change Delivery Address\n",
            "(3.txt) title: Order Tracking Information\n",
            "(4.txt) title: Rewards Program: Points System\n",
            "(5.txt) title: Bulk Order Discounts\n",
            "(6.txt) title: Shipping Options and Policies\n",
            "(7.txt) title: Cancelling a Subscription\n",
            "(8.txt) title: Account Creation and Management\n",
            "(9.txt) title: Pet Insurance Overview\n"
          ]
        }
      ],
      "source": [
        "import os\n",
        "\n",
        "# Directory containing the help center articles\n",
        "articles_dir = 'data/help_center_articles'\n",
        "filenames = sorted([f for f in os.listdir(articles_dir) if f.endswith('.txt')])\n",
        "\n",
        "for filename in filenames:\n",
        "    file_path = os.path.join(articles_dir, filename)\n",
        "    with open(file_path, 'r') as file:\n",
        "        title = file.readline().strip()\n",
        "    # Print the filename and title\n",
        "    print(f\"({filename}) {title}\")"
      ]
    },
    {
      "cell_type": "markdown",
      "metadata": {},
      "source": [
        "### Create a prompt for conversational Q&A\n",
        "\n",
        "In this example we will create a prompt which takes a **user question** and the **help center articles** as inputs and return a helpful response. In this prompt template we apply several best practices including assigning a role and providing an example. Review the Anthropic [prompt engineering documentation](https://docs.anthropic.com/en/docs/prompt-engineering) to learn more.\n"
      ]
    },
    {
      "cell_type": "code",
      "execution_count": 30,
      "metadata": {},
      "outputs": [],
      "source": [
        "sysyem_prompt = \"You will be acting as a conversational AI customer support assistant for the ecommerce website PetWorld. Your goal is to help answer customer questions in a friendly and helpful manner, using PetWorld's help center articles as your knowledge base.\"\n",
        "\n",
        "prompt_template = '''\n",
        "Here are the help center articles you have available, provided in <article> tags with unique IDs:\n",
        "\n",
        "<help_center_articles>\n",
        "{HELP_CENTER_ARTICLES}\n",
        "</help_center_articles>\n",
        "\n",
        "And here is the user's question, provided in a <user_question> tag:\n",
        "\n",
        "<user_question>\n",
        "{USER_QUESTION}\n",
        "</user_question>\n",
        "\n",
        "To formulate your response, follow these steps:\n",
        "\n",
        "1. Carefully read the user's question to understand what they are asking about. \n",
        "2. Search through the provided help center articles to find the most relevant information to answer the question. Focus on finding an article that directly addresses the user's specific question.\n",
        "3. If you find a relevant article, use the information in it to write a friendly response that fully answers the user's question. Aim to provide a complete answer using only information from the help center articles.\n",
        "4. At the end of your response, include a citation like this - [Article ID] - where \"Article ID\" is replaced by the ID number of the help center article you used to answer the question.\n",
        "5. If after searching the help center articles you determine that none of them contain the information needed to answer the user's question, simply respond with \"I'm afraid I don't know the answer to that question. Let me know if there is anything else I can assist with!\"\n",
        "\n",
        "Here is an example of what a good response looks like:\n",
        "\n",
        "<user_question>What is your return policy on dog food?</user_question>\n",
        "\n",
        "<answer>At PetWorld, we offer a 30 day return window on all dog food purchases. You can return the unused portion for a full refund within 30 days of purchase. We also offer a 100% satisfaction guarantee - if your dog doesn't love their food, we'll give you your money back! Let me know if you have any other questions. [1]</answer>\n",
        "\n",
        "Now it's your turn! Please provide your response to the user's question inside <answer> tags. Remember - only use information from the provided help center articles, and if you can't find the answer there, let the user know you don't have that information. Always aim to be friendly and helpful in your tone.'''"
      ]
    },
    {
      "cell_type": "markdown",
      "metadata": {},
      "source": [
        "Next we will apply preprocessing to the help center articles"
      ]
    },
    {
      "cell_type": "code",
      "execution_count": 31,
      "metadata": {},
      "outputs": [
        {
          "name": "stdout",
          "output_type": "stream",
          "text": [
            "<article id=\"0\">\n",
            "<title>How to Change Your Password</title>\n",
            "<content>To change your password, log in to your PetWorld account and navigate to the \"Account Settings\" page. Click on the \"Security\" tab, then select \"Change Password.\" Enter your current password, then type your new password twice to confirm. Make sure your new password is at least 8 characters long and includes a mix of uppercase and lowercase letters, numbers, and symbols. Click \"Save Changes\" to update your password. For security reasons, you'll be logged out and need to sign in again with your new password.</content>\n",
            "</article>\n",
            "<article id=\"1\">\n",
            "<title>30-Day Return Policy</title>\n",
            "<content>PetWorld offers a 30-day return policy on most items. If you're not satisfied with your purchase, you can return it within 30 days of the delivery date for a full refund or exchange. The item must be unused, in its original packaging, and in resalable condition. To initiate a return, log in to your account, go to \"Order History,\" selec\n",
            "...\n",
            "kages, and access exclusive deals. To update your account information, log in and go to \"Account Settings.\" Here, you can change your contact details, manage saved addresses and payment methods, and set your communication preferences. If you need to close your account, please contact our customer support team.</content>\n",
            "</article>\n",
            "<article id=\"9\">\n",
            "<title>Pet Insurance Overview</title>\n",
            "<content>While PetWorld doesn't directly offer pet insurance, we've partnered with leading providers to offer our customers exclusive discounts. Pet insurance can help cover unexpected veterinary costs for illnesses, injuries, and in some cases, routine care. Coverage and costs vary by provider and plan. To explore pet insurance options, log in to your PetWorld account and visit the \"Pet Insurance\" section. There, you'll find information about our partner providers and can request quotes. Remember to carefully review policy details and exclusions before purchasing any insurance plan.</content>\n",
            "</article>\n",
            "\n"
          ]
        }
      ],
      "source": [
        "def get_articles_as_string():\n",
        "    # Get all .txt files in the directory and sort them\n",
        "    filenames = sorted([f for f in os.listdir(articles_dir) if f.endswith('.txt')])\n",
        "\n",
        "    # String to hold all articles\n",
        "    all_articles = \"\"\n",
        "\n",
        "    # Iterate through the sorted list of files\n",
        "    for filename in filenames:\n",
        "        file_path = os.path.join(articles_dir, filename)\n",
        "        with open(file_path, 'r') as file:\n",
        "            # Read the entire content of the file\n",
        "            content = file.read().strip()\n",
        "\n",
        "        # Split the content into title and body\n",
        "        parts = content.split('\\n', 1)\n",
        "        title = parts[0].strip()\n",
        "        body = parts[1].strip() if len(parts) > 1 else \"\"\n",
        "\n",
        "        # Remove \"title:\" prefix if it exists\n",
        "        if title.lower().startswith(\"title:\"):\n",
        "            title = title[6:].strip()\n",
        "        \n",
        "        # Strip .txt from filename for the id\n",
        "        article_id = filename[:-4] if filename.endswith('.txt') else filename\n",
        "\n",
        "        # Format the article\n",
        "        article = f\"\"\"<article id=\"{article_id}\">\n",
        "<title>{title}</title>\n",
        "<content>{body}</content>\n",
        "</article>\n",
        "\"\"\"\n",
        "        all_articles += article\n",
        "\n",
        "    return all_articles\n",
        "\n",
        "# Get the formatted string of all articles\n",
        "articles_string = get_articles_as_string()\n",
        "\n",
        "# Print first and last 1000 characters of the articles string\n",
        "print(f'{articles_string[:1000]}\\n...\\n{articles_string[-1000:]}')"
      ]
    },
    {
      "cell_type": "markdown",
      "metadata": {},
      "source": [
        "Finally, we will call Claude 3.5 Sonnet with the prompt template, our formatted help center articles, and the user question."
      ]
    },
    {
      "cell_type": "code",
      "execution_count": 32,
      "metadata": {},
      "outputs": [
        {
          "name": "stdout",
          "output_type": "stream",
          "text": [
            "\n",
            "I'd be happy to help you change your address! To update your delivery address for an order, here's what you need to do:\n",
            "\n",
            "1. Log in to your PetWorld account\n",
            "2. Go to \"Order History\"\n",
            "3. Find the specific order you want to modify\n",
            "4. Click on \"Change Shipping Address\"\n",
            "5. Enter your new address\n",
            "6. Save your changes\n",
            "\n",
            "It's important to note that you can only change the address if your order hasn't been shipped yet. If your order is already in transit, you'll need to contact our customer support team for assistance.\n",
            "\n",
            "For future orders, you can also add or edit addresses in your account settings. Just go to the \"Saved Addresses\" section under your account settings to manage your delivery addresses.\n",
            "\n",
            "Is there anything else you'd like to know about changing your address or managing your account? [2]\n",
            "\n"
          ]
        }
      ],
      "source": [
        "def answer_question(user_question):\n",
        "    # Generate the prompt with the user question and help center articles\n",
        "    prompt = prompt_template.format(HELP_CENTER_ARTICLES=articles_string, USER_QUESTION=user_question)\n",
        "\n",
        "    response = client.messages.create(\n",
        "        model='claude-3-5-sonnet-20240620',\n",
        "        system=sysyem_prompt,\n",
        "        messages=[\n",
        "            {\n",
        "                'role': 'user',\n",
        "                'content': prompt\n",
        "            },\n",
        "            {\n",
        "                'role': 'assistant',\n",
        "            'content': '<answer>'\n",
        "            }\n",
        "\n",
        "        ],\n",
        "        max_tokens=2000,\n",
        "        stop_sequences=['</answer>'],\n",
        "        temperature=0\n",
        "    )\n",
        "    return response.content[0].text\n",
        "\n",
        "\n",
        "raw_output = answer_question('Confused how to change my address')\n",
        "print(raw_output)"
      ]
    },
    {
      "cell_type": "markdown",
      "metadata": {},
      "source": [
        "### Post processing and running\n",
        "\n",
        "When working with citations, it's often beneficial to apply post-processing techniques to the output. One useful approach is to add URLs and other metadata to the citations after Claude has generated the response. This method offers several advantages:\n",
        "\n",
        "- It saves on output tokens, as Claude doesn't need to generate full URLs.\n",
        "- It limits the possibility of errors in URL generation.\n",
        "- It provides flexibility in how citations are presented to the end-user.\n",
        "\n",
        "In our PetWorld example, let's say each article ID maps to a specific URL on their help center website. For instance:\n",
        "\n",
        "- `0.txt` maps to `https://help.petworld.com/article/0`\n",
        "- `1.txt` maps to `https://help.petworld.com/article/1`\n",
        "- And so on...\n",
        "\n",
        "We can apply a post-processing step to Claude's output to turn these citations into clickable hyperlinks. Here's a Python function that could accomplish this:"
      ]
    },
    {
      "cell_type": "code",
      "execution_count": 33,
      "metadata": {},
      "outputs": [
        {
          "data": {
            "text/html": [
              "<pre>\n",
              "I'd be happy to help you change your address! To update your delivery address for an order, here's what you need to do:\n",
              "\n",
              "1. Log in to your PetWorld account\n",
              "2. Go to \"Order History\"\n",
              "3. Find the specific order you want to modify\n",
              "4. Click on \"Change Shipping Address\"\n",
              "5. Enter your new address\n",
              "6. Save your changes\n",
              "\n",
              "It's important to note that you can only change the address if your order hasn't been shipped yet. If your order is already in transit, you'll need to contact our customer support team for assistance.\n",
              "\n",
              "For future orders, you can also add or edit addresses in your account settings. Just go to the \"Saved Addresses\" section under your account settings to manage your delivery addresses.\n",
              "\n",
              "Is there anything else you'd like to know about changing your address or managing your account? <a href=\"https://help.petworld.com/article/2\">[2]</a>\n",
              "</pre>"
            ],
            "text/plain": [
              "<IPython.core.display.HTML object>"
            ]
          },
          "metadata": {},
          "output_type": "display_data"
        }
      ],
      "source": [
        "import re\n",
        "from IPython.display import HTML, display\n",
        "\n",
        "def process_citations(text):\n",
        "    def replace_citation(match):\n",
        "        article_id = match.group(1)\n",
        "        url = f\"https://help.petworld.com/article/{article_id}\"\n",
        "        return f'<a href=\"{url}\">[{article_id}]</a>'\n",
        "\n",
        "    pattern = r'\\[(\\d+)\\]'\n",
        "    return re.sub(pattern, replace_citation, text)\n",
        "\n",
        "\n",
        "post_processed_output = process_citations(raw_output)\n",
        "display(HTML(f'<pre>{post_processed_output}</pre>'))"
      ]
    },
    {
      "cell_type": "markdown",
      "metadata": {},
      "source": [
        "### Evaluation\n",
        "Now that we have a working prompt end-to-end we can measure and evaluate Claude's ability to correct cite sources in this task. This is separate from evaluating the answer quality itself which will be covered in a separate cookbook.\n",
        "\n",
        "To evaluate citations you will need to create a golden set of (question, article ID) pairs. You will be evaluating that given a user question Claude is citing the expected article ID(s). In the evaluation we also test questions that are not answered by the help center and confirm the response does not include a citation.\n",
        "\n",
        "We will use `promptfoo` for this portion. Head over to `evaluation/README.md` to get started.\n"
      ]
    },
    {
      "cell_type": "markdown",
      "metadata": {},
      "source": [
        "## Use case: Q&A over a Large Document\n",
        "\n",
        "In our previous example, we explored how to prompt Claude for Q&A over a help center, providing citations at the article level. This approach is ideal when dealing with numerous short articles, as it allows end users to easily read entire referenced articles.\n",
        "\n",
        "However, when working with larger documents, a different citation strategy becomes necessary. For instance, if you're dealing with a 40-page document, a citation referencing the entire document provides little value to the user. In such cases, it's more beneficial to cite specific quotes or passages that directly inform the answer.\n",
        "\n",
        "In this section, we'll develop a prompt that enables Claude to perform Q&A over a large document while extracting and citing relevant quotes. This approach offers several advantages:\n",
        "\n",
        "- Precision: It pinpoints the exact information used to formulate the answer.\n",
        "- Verifiability: Users can quickly check the source of specific claims.\n",
        "- Context: It provides users with the surrounding context of the information.\n",
        "- Efficiency: It saves users time by highlighting the most relevant parts of a large document."
      ]
    },
    {
      "cell_type": "markdown",
      "metadata": {},
      "source": [
        "### Preprocessing\n",
        "\n",
        "In this example we will work with a large PDF, \"Constitutional AI: Harmlessness from AI Feedback\" published by Anthropic. This document is 34 pages. Since the API does not natively ingest files in PDF format we will apply some preprocessing to extract the text."
      ]
    },
    {
      "cell_type": "code",
      "execution_count": 34,
      "metadata": {},
      "outputs": [
        {
          "name": "stdout",
          "output_type": "stream",
          "text": [
            "Constitutional AI: Harmlessness from AI Feedback\n",
            "Yuntao Bai∗, Saurav Kadavath, Sandipan Kundu, Amanda Askell, Jackson Kernion,\n",
            "Andy Jones, Anna Chen, Anna Goldie, Azalia Mirhoseini, Cameron McKinnon,\n",
            "Carol Chen, Catherine Olsson, Christopher Olah, Danny Hernandez, Dawn Drain,\n",
            "Deep Ganguli, Dustin Li, Eli Tran-Johnson, Ethan Perez, Jamie Kerr, Jared Mueller,\n",
            "Jeffrey Ladish, Joshua Landau, Kamal Ndousse, Kamile Lukosuite, Liane Lovitt,\n",
            "Michael Sellitto, Nelson Elhage, Nicholas Schiefer, Noemi Mercado, Nova DasSarma,\n",
            "Robert Lasenby, Robin Larson, Sam Ringer, Scott Johnston, Shauna Kravec,\n",
            "Sheer El Showk, Stanislav Fort, Tamera Lanham, Timothy Telleen-Lawton, Tom Conerly,\n",
            "Tom Henighan, Tristan Hume, Samuel R. Bowman, Zac Hatﬁeld-Dodds, Ben Mann,\n",
            "Dario Amodei, Nicholas Joseph, Sam McCandlish, Tom Brown, Jared Kaplan∗\n",
            "Anthropic\n",
            "Abstract\n",
            "As AI systems become more capable, we would like to enlist their help to supervise\n",
            "other AIs. We experiment with methods for training a harmless AI assistant\n"
          ]
        }
      ],
      "source": [
        "from pypdf import PdfReader\n",
        "reader = PdfReader(\"./data/Constitutional AI.pdf\")\n",
        "paper_text = ''.join(page.extract_text() for page in reader.pages)\n",
        "print(paper_text[:1000])"
      ]
    },
    {
      "cell_type": "markdown",
      "metadata": {},
      "source": [
        "### Prompt\n",
        "\n",
        "Our prompt template will be similar to the previous example. We apply the same prompting best practices including beginning with a role, following with document contents wrapped in XML, and finishing with the full instructions. We include additional instructions to describe the quote extraction process and describe the desired output format.\n"
      ]
    },
    {
      "cell_type": "code",
      "execution_count": 35,
      "metadata": {},
      "outputs": [],
      "source": [
        "system_prompt = \"You are an AI research assistant. Your task is to provide detailed answers to questions related to the content of the provided paper.\"\n",
        "prompt_template = '''\n",
        "Here is the paper you will be working with:\n",
        "<paper>\n",
        "{PAPER_CONTENT}\n",
        "</paper>\n",
        "\n",
        "And here is the user's question, provided in a <user_question> tag:\n",
        "<user_question>\n",
        "{USER_QUESTION}\n",
        "</user_question>\n",
        "\n",
        "To formulate your response, follow these steps:\n",
        "1. Find the quotes from the paper that are the most relevant to answering the question. These quotes can be quite long if necessary (even multiple paragraphs). You may need to use many quotes to answer a single question, including code snippits and other examples.\n",
        "2. Assign numbers to these quotes in the order they were found.\n",
        "3. Based on the document and quotes, answer the question. Directly quote the documentation when possible, including examples.\n",
        "4. When answering the question provide citations references in square brackets containing the number generated in step 2 (the number the citation was found)\n",
        "5. Structure the output in the following format. Provide no preable or postamble:\n",
        "<citations>\n",
        "{{\n",
        "   \"citations\": [\n",
        "      {{\n",
        "         \n",
        "         \"number\": \"integer\",\n",
        "         \"passage\": \"string\"\n",
        "      }},\n",
        "      ...\n",
        "   ]\n",
        "}}\n",
        "</citations>\n",
        "\n",
        "<answer>A plain text answer, formatted as Markdown[1]</answer>\"\"\"\n",
        "\n",
        "Now it's your turn. First find and output the relevant quotes in the format described. Then provide your response to the user's question inside <answer> tags. Remember - only use information from the provided paper, and if you can't find the answer there, let the user know you don't have that information.'''"
      ]
    },
    {
      "cell_type": "markdown",
      "metadata": {},
      "source": [
        "Now we call 3.5 Sonnet with the populated prompt template and output the response "
      ]
    },
    {
      "cell_type": "code",
      "execution_count": 36,
      "metadata": {},
      "outputs": [
        {
          "name": "stdout",
          "output_type": "stream",
          "text": [
            "\n",
            "{\n",
            "   \"citations\": [\n",
            "      {\n",
            "         \"number\": 1,\n",
            "         \"passage\": \"We experiment with methods for training a harmless AI assistant through self-improvement, without any human labels identifying harmful outputs. The only human oversight is provided through a list of rules or principles, and so we refer to the method as 'Constitutional AI'. The process involves both a supervised learning and a reinforcement learning phase. In the supervised phase we sample from an initial model, then generate self-critiques and revisions, and then ﬁnetune the original model on revised responses. In the RL phase, we sample from the ﬁnetuned model, use a model to evaluate which of the two samples is better, and then train a preference model from this dataset of AI preferences. We then train with RL using the preference model as the reward signal, i.e. we use 'RL from AI Feedback' (RLAIF). As a result we are able to train a harmless but non-evasive AI assistant that engages with harmful queries by explaining its objections to them.\"\n",
            "      }\n",
            "   ]\n",
            "}\n",
            "</citations>\n",
            "\n",
            "<answer>\n",
            "The main idea of the paper is to introduce a method called \"Constitutional AI\" for training a harmless AI assistant without using human labels to identify harmful outputs[1]. This method involves two key phases:\n",
            "\n",
            "1. A supervised learning phase where the model generates self-critiques and revisions, then finetunes itself on these revised responses.\n",
            "\n",
            "2. A reinforcement learning phase that uses AI-generated preferences to train a preference model, which is then used as a reward signal for further training.\n",
            "\n",
            "The goal is to create an AI assistant that is both harmless and non-evasive, capable of engaging with potentially harmful queries by explaining its objections rather than avoiding the topic entirely[1].\n",
            "\n"
          ]
        }
      ],
      "source": [
        "def answer_question(user_question):\n",
        "    # Generate the prompt with the user question and help center articles\n",
        "    prompt = prompt_template.format(PAPER_CONTENT=paper_text, USER_QUESTION=user_question)\n",
        "\n",
        "    response = client.messages.create(\n",
        "        model='claude-3-5-sonnet-20240620',\n",
        "        system=system_prompt,\n",
        "        messages=[\n",
        "            {\n",
        "                'role': 'user',\n",
        "                'content': prompt\n",
        "            },\n",
        "            {\n",
        "                'role': 'assistant',\n",
        "            'content': '<citations>'\n",
        "            }\n",
        "\n",
        "        ],\n",
        "        max_tokens=2000,\n",
        "        stop_sequences=['</answer>'],\n",
        "        temperature=0\n",
        "    )\n",
        "    return response.content[0].text\n",
        "\n",
        "\n",
        "raw_output = answer_question('What is the main idea of the paper?')\n",
        "print(raw_output)"
      ]
    },
    {
      "cell_type": "markdown",
      "metadata": {},
      "source": [
        "### Post processing\n",
        "\n",
        "The structured output format we've developed, combining specific citations with the AI's answer, offers significant advantages in working with large documents. By providing precise quotes and their locations, we enable users to quickly verify information without reading the entire source material. It is possible to build a UX on top of this approach where readers can easily access and validate relevant portions of the document. Ultimately, this method enhances the transparency and utility of AI-assisted Q&A systems, making large documents more accessible and their content more verifiable."
      ]
    }
  ],
  "metadata": {
    "kernelspec": {
      "display_name": "py311",
      "language": "python",
      "name": "python3"
    },
    "language_info": {
      "codemirror_mode": {
        "name": "ipython",
        "version": 3
      },
      "file_extension": ".py",
      "mimetype": "text/x-python",
      "name": "python",
      "nbconvert_exporter": "python",
      "pygments_lexer": "ipython3",
      "version": "3.11.6"
    }
  },
  "nbformat": 4,
  "nbformat_minor": 2
}
